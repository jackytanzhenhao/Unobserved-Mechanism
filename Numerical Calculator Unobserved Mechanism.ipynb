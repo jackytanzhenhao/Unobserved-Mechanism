{
 "cells": [
  {
   "cell_type": "code",
   "execution_count": 1,
   "metadata": {},
   "outputs": [],
   "source": [
    "using Optim, NLsolve, Distributions, ForwardDiff, QuadGK,Plots, LaTeXStrings"
   ]
  },
  {
   "cell_type": "code",
   "execution_count": 2,
   "metadata": {},
   "outputs": [
    {
     "data": {
      "text/plain": [
       "F (generic function with 1 method)"
      ]
     },
     "execution_count": 2,
     "metadata": {},
     "output_type": "execute_result"
    }
   ],
   "source": [
    "#first attempt, Uniform cdf.\n",
    "F(x) = cdf(Uniform(0,1),x)"
   ]
  },
  {
   "cell_type": "code",
   "execution_count": 3,
   "metadata": {},
   "outputs": [
    {
     "data": {
      "text/plain": [
       "f (generic function with 1 method)"
      ]
     },
     "execution_count": 3,
     "metadata": {},
     "output_type": "execute_result"
    }
   ],
   "source": [
    "f(x) = ForwardDiff.derivative(F,x)"
   ]
  },
  {
   "cell_type": "markdown",
   "metadata": {},
   "source": [
    "The equations below is copied from Professor Peters' github notebooks. They refers to the necessary first order conditions for $(r,t,v_{min}, v_{max})$ to be a optimal auction; That is, maximises the optimal revenue for the auctioneer. "
   ]
  },
  {
   "cell_type": "code",
   "execution_count": 4,
   "metadata": {},
   "outputs": [
    {
     "data": {
      "text/plain": [
       "eq1 (generic function with 1 method)"
      ]
     },
     "execution_count": 4,
     "metadata": {},
     "output_type": "execute_result"
    }
   ],
   "source": [
    "eq1(alpha,t,v_min, v_max) = alpha * (t*(1-F(t))-(v_max - (1-F(v_max))/f(v_max))) -\n",
    "(1-alpha)*\n",
    "(\n",
    "(v_min-t)*\n",
    "((v_max - (1-F(v_max))/f(v_max))-(v_min - (1-F(v_min))/f(v_min)))*\n",
    "f(v_min)+\n",
    "(F(v_max)-F(v_min))*\n",
    "((v_max - (1-F(v_max))/f(v_max))\n",
    "-((1-F(v_min))*v_min-(1-F(v_max))*v_max))\n",
    ")"
   ]
  },
  {
   "cell_type": "code",
   "execution_count": 5,
   "metadata": {},
   "outputs": [
    {
     "data": {
      "text/plain": [
       "eq2 (generic function with 1 method)"
      ]
     },
     "execution_count": 5,
     "metadata": {},
     "output_type": "execute_result"
    }
   ],
   "source": [
    "phidiff(v_max,v_min) = ((v_max - (1-F(v_max))/f(v_max))-(v_min - (1-F(v_min))/f(v_min)))\n",
    "\n",
    "eq2(alpha, t, v_min, v_max) = -alpha*(-f(t)*t+(1-F(t))) -\n",
    "(1-alpha)*phidiff(v_max,v_min)*f(v_min)"
   ]
  },
  {
   "cell_type": "code",
   "execution_count": 6,
   "metadata": {},
   "outputs": [
    {
     "data": {
      "text/plain": [
       "eq3 (generic function with 1 method)"
      ]
     },
     "execution_count": 6,
     "metadata": {},
     "output_type": "execute_result"
    }
   ],
   "source": [
    "eq3(r,v_min,v_max)= -(r - (1-F(r))/f(r))*f(r) - phidiff(v_max,v_min)*f(v_min)"
   ]
  },
  {
   "cell_type": "code",
   "execution_count": 7,
   "metadata": {},
   "outputs": [
    {
     "data": {
      "text/plain": [
       "eq4 (generic function with 1 method)"
      ]
     },
     "execution_count": 7,
     "metadata": {},
     "output_type": "execute_result"
    }
   ],
   "source": [
    "Fp(s)= F(s)^(n-1)\n",
    "eq4(alpha, r, t, v_min, v_max) = (1-alpha)^(n-1) * quadgk(Fp,r,v_min)[1] -\n",
    "(\n",
    "  (\n",
    "    (((1-alpha)*F(v_max)+alpha)^n)-(((1-alpha)*F(v_min))^n)\n",
    "  ) /\n",
    "  (\n",
    "    (n*((1-alpha)*(F(v_max)-F(v_min))+alpha))\n",
    "  )\n",
    ")*(v_min-t)"
   ]
  },
  {
   "cell_type": "code",
   "execution_count": 8,
   "metadata": {},
   "outputs": [
    {
     "data": {
      "text/plain": [
       "adheqvec (generic function with 1 method)"
      ]
     },
     "execution_count": 8,
     "metadata": {},
     "output_type": "execute_result"
    }
   ],
   "source": [
    "#we try to minimise the distance between the vector of the equations to the vector [0,0,0,0]\n",
    "object(x,y) = sum([(x[i] - y[i] )^2 for i = 1:maximum(size(x))])\n",
    "\n",
    "#vector of equations must equal zero (ideally), \n",
    "adheqvec(alpha, r, t, v_min, v_max) = [eq1(alpha, t, v_min, v_max) eq2(alpha, t, v_min, v_max) eq3(r,v_min,v_max) eq4(alpha, r, t, v_min, v_max)]\n",
    "\n",
    "\n"
   ]
  },
  {
   "cell_type": "code",
   "execution_count": 9,
   "metadata": {},
   "outputs": [
    {
     "data": {
      "text/plain": [
       " * Status: success\n",
       "\n",
       " * Candidate solution\n",
       "    Final objective value:     5.336325e-09\n",
       "\n",
       " * Found with\n",
       "    Algorithm:     Nelder-Mead\n",
       "\n",
       " * Convergence measures\n",
       "    √(Σ(yᵢ-ȳ)²)/n ≤ 1.0e-08\n",
       "\n",
       " * Work counters\n",
       "    Seconds run:   0  (vs limit Inf)\n",
       "    Iterations:    192\n",
       "    f(x) calls:    331\n"
      ]
     },
     "execution_count": 9,
     "metadata": {},
     "output_type": "execute_result"
    }
   ],
   "source": [
    "n = 10\n",
    "z = 2000\n",
    "\n",
    "res = optimize(b -> object(adheqvec(0.8, b[1], b[2], b[3], b[4]), [0 0 0 0]), [0.1;0.1;0.1;0.1])"
   ]
  },
  {
   "cell_type": "code",
   "execution_count": 10,
   "metadata": {},
   "outputs": [
    {
     "data": {
      "text/plain": [
       "4-element Vector{Float64}:\n",
       " 0.4029213477903292\n",
       " 0.5242933561572675\n",
       " 0.5248404792196251\n",
       " 0.6219352704375578"
      ]
     },
     "execution_count": 10,
     "metadata": {},
     "output_type": "execute_result"
    }
   ],
   "source": [
    "vec = Optim.minimizer(res)"
   ]
  },
  {
   "cell_type": "code",
   "execution_count": 11,
   "metadata": {},
   "outputs": [
    {
     "data": {
      "text/plain": [
       " * Status: success\n",
       "\n",
       " * Candidate solution\n",
       "    Final objective value:     4.039636e-09\n",
       "\n",
       " * Found with\n",
       "    Algorithm:     Nelder-Mead\n",
       "\n",
       " * Convergence measures\n",
       "    √(Σ(yᵢ-ȳ)²)/n ≤ 1.0e-08\n",
       "\n",
       " * Work counters\n",
       "    Seconds run:   0  (vs limit Inf)\n",
       "    Iterations:    193\n",
       "    f(x) calls:    337\n"
      ]
     },
     "execution_count": 11,
     "metadata": {},
     "output_type": "execute_result"
    }
   ],
   "source": [
    "#try with Truncated Normal \n",
    "F(x) = cdf(Truncated(Normal(0.5,1),0,1),x)\n",
    "f(x) = ForwardDiff.derivative(F,x)\n",
    "res = optimize(b -> object(adheqvec(0.8, b[1], b[2], b[3], b[4]), [0 0 0 0]), [0;0.1;0.3;0.5])"
   ]
  },
  {
   "cell_type": "code",
   "execution_count": 12,
   "metadata": {},
   "outputs": [
    {
     "data": {
      "text/plain": [
       "4-element Vector{Float64}:\n",
       " 0.39356792217165465\n",
       " 0.5143489929166771\n",
       " 0.5144273414962452\n",
       " 0.6131041970068729"
      ]
     },
     "execution_count": 12,
     "metadata": {},
     "output_type": "execute_result"
    }
   ],
   "source": [
    "vec_2 = Optim.minimizer(res)"
   ]
  },
  {
   "cell_type": "code",
   "execution_count": 13,
   "metadata": {},
   "outputs": [
    {
     "data": {
      "text/plain": [
       " * Status: success\n",
       "\n",
       " * Candidate solution\n",
       "    Final objective value:     6.532351e-01\n",
       "\n",
       " * Found with\n",
       "    Algorithm:     Nelder-Mead\n",
       "\n",
       " * Convergence measures\n",
       "    √(Σ(yᵢ-ȳ)²)/n ≤ 1.0e-08\n",
       "\n",
       " * Work counters\n",
       "    Seconds run:   0  (vs limit Inf)\n",
       "    Iterations:    401\n",
       "    f(x) calls:    709\n"
      ]
     },
     "execution_count": 13,
     "metadata": {},
     "output_type": "execute_result"
    }
   ],
   "source": [
    "res = optimize(b -> object(adheqvec(0.9, b[1], b[2], b[3], b[4]), [0 0 0 0]), [0.2;0.0;0.0;0.0])\n"
   ]
  },
  {
   "cell_type": "markdown",
   "metadata": {},
   "source": [
    "As this function might have multiple stationary points, the optimization algorithm might converge to different points depending on initial values provided to the optimizer, so in a sense to get the true global minimum we would need to do a grid search of initial values, in the parameter space $[0,1] \\times [0,1] \\times [0,1] \\times [0,1]$.\n",
    "Below we do a grid search with width 0.1 (finer grid would take ~10 min to generate on my laptop)"
   ]
  },
  {
   "cell_type": "code",
   "execution_count": 14,
   "metadata": {},
   "outputs": [
    {
     "data": {
      "text/plain": [
       "makes_sense (generic function with 1 method)"
      ]
     },
     "execution_count": 14,
     "metadata": {},
     "output_type": "execute_result"
    }
   ],
   "source": [
    "makes_sense(b)= 0 <= b[1] <= b[2]<=b[3]<=b[4]\n"
   ]
  },
  {
   "cell_type": "code",
   "execution_count": 15,
   "metadata": {},
   "outputs": [
    {
     "data": {
      "text/plain": [
       "1001-element Vector{Vector{Float64}}:\n",
       " [0.0, 0.0, 0.0, 0.0]\n",
       " [0.0, 0.0, 0.0, 0.1]\n",
       " [0.0, 0.0, 0.0, 0.2]\n",
       " [0.0, 0.0, 0.0, 0.3]\n",
       " [0.0, 0.0, 0.0, 0.4]\n",
       " [0.0, 0.0, 0.0, 0.5]\n",
       " [0.0, 0.0, 0.0, 0.6]\n",
       " [0.0, 0.0, 0.0, 0.7]\n",
       " [0.0, 0.0, 0.0, 0.8]\n",
       " [0.0, 0.0, 0.0, 0.9]\n",
       " [0.0, 0.0, 0.0, 1.0]\n",
       " [0.0, 0.0, 0.1, 0.1]\n",
       " [0.0, 0.0, 0.1, 0.2]\n",
       " ⋮\n",
       " [0.8, 0.8, 0.9, 0.9]\n",
       " [0.8, 0.8, 0.9, 1.0]\n",
       " [0.8, 0.8, 1.0, 1.0]\n",
       " [0.8, 0.9, 0.9, 0.9]\n",
       " [0.8, 0.9, 0.9, 1.0]\n",
       " [0.8, 0.9, 1.0, 1.0]\n",
       " [0.8, 1.0, 1.0, 1.0]\n",
       " [0.9, 0.9, 0.9, 0.9]\n",
       " [0.9, 0.9, 0.9, 1.0]\n",
       " [0.9, 0.9, 1.0, 1.0]\n",
       " [0.9, 1.0, 1.0, 1.0]\n",
       " [1.0, 1.0, 1.0, 1.0]"
      ]
     },
     "execution_count": 15,
     "metadata": {},
     "output_type": "execute_result"
    }
   ],
   "source": [
    "grid_initial_raw = [[i;j;k;l] for i = 0:0.1:1 for j = 0:0.1:1 for k = 0:0.1:1 for l = 0:0.1:1]\n",
    "grid_initial = filter((x) -> makes_sense(x),grid_initial_raw)"
   ]
  },
  {
   "cell_type": "code",
   "execution_count": 16,
   "metadata": {},
   "outputs": [
    {
     "data": {
      "text/plain": [
       "g (generic function with 1 method)"
      ]
     },
     "execution_count": 16,
     "metadata": {},
     "output_type": "execute_result"
    }
   ],
   "source": [
    "g(alpha,initial) = optimize(b -> object(adheqvec(alpha, b[1], b[2], b[3], b[4]), [0 0 0 0]), initial)"
   ]
  },
  {
   "cell_type": "code",
   "execution_count": 17,
   "metadata": {},
   "outputs": [
    {
     "data": {
      "text/plain": [
       "sol_set (generic function with 1 method)"
      ]
     },
     "execution_count": 17,
     "metadata": {},
     "output_type": "execute_result"
    }
   ],
   "source": [
    "function sol_set(alpha)\n",
    "    #make optimizer block\n",
    "    optimizer_raw = [g(alpha, grid_initial[i]) for i = 1:maximum(size(grid_initial))]\n",
    "    #delete non-convergent\n",
    "    optimizer_filtered = filter((x) -> Optim.converged(x) == true, optimizer_raw)\n",
    "    #make the block of minimizer\n",
    "    minimizer = [Optim.minimizer(optimizer_filtered[i]) for i = 1:maximum(size(optimizer_filtered))]\n",
    "    #sanity check on the minimizers\n",
    "    minimizer_san_checked = filter((x) -> makes_sense(x) == true, minimizer)\n",
    "    return(setdiff(minimizer_san_checked, grid_initial))\n",
    "end\n",
    "        "
   ]
  },
  {
   "cell_type": "code",
   "execution_count": 18,
   "metadata": {
    "scrolled": false
   },
   "outputs": [
    {
     "data": {
      "text/plain": [
       "315-element Vector{Vector{Float64}}:\n",
       " [0.3934821054871428, 0.5143448280305885, 0.5143491064220249, 0.6131005733322645]\n",
       " [0.39350937693278865, 0.5143406859778985, 0.514376906970218, 0.6131031015113423]\n",
       " [0.39352622635277346, 0.5143132519015085, 0.5143729735522261, 0.6130941223496322]\n",
       " [0.39352710966759813, 0.5143287312201792, 0.5143629276532184, 0.6130962036008514]\n",
       " [0.39352789424651924, 0.514336444649264, 0.5143915870691882, 0.6131348375645937]\n",
       " [0.3935282701784312, 0.5143568776711611, 0.5143917240088224, 0.6131186939103075]\n",
       " [0.3935355526573586, 0.5143147071039652, 0.5143777971596543, 0.6130842089834108]\n",
       " [0.3935427706754065, 0.5142537297783989, 0.514370172678434, 0.6130564537883509]\n",
       " [0.39354680466216857, 0.5143367520422999, 0.5143598703112964, 0.6130578209762587]\n",
       " [0.39355404109131387, 0.5142991904358521, 0.5143930924398511, 0.6130638211274114]\n",
       " [0.39356138522173595, 0.5143432669238146, 0.5144147339847056, 0.6130869879338893]\n",
       " [0.39356169985955747, 0.5143575992339062, 0.5143923920139578, 0.6130497492180944]\n",
       " [0.393563801304053, 0.5143583399481296, 0.5143683011208914, 0.6130663118389225]\n",
       " ⋮\n",
       " [0.4208832810122938, 0.5073996667311639, 0.5425246872820184, 0.6134157486973828]\n",
       " [0.42436651700030426, 0.5065406933635198, 0.5461296375769734, 0.6134214112594171]\n",
       " [0.42446453014181307, 0.5065771586769092, 0.5462395502257513, 0.6134591823058643]\n",
       " [0.42583044808551207, 0.5062620024931634, 0.547690945380736, 0.61353582137854]\n",
       " [0.4297694153075635, 0.5052231742484189, 0.5518060760274393, 0.6136491150113175]\n",
       " [0.4316872191810893, 0.5046988348091942, 0.5537430357904087, 0.613622629065197]\n",
       " [0.4375672623002609, 0.5032185119538904, 0.5599357899582884, 0.6137926260037472]\n",
       " [0.4397079723161821, 0.502723426335773, 0.5621180409167348, 0.6137795012596161]\n",
       " [0.4414668272420865, 0.5022983784389068, 0.5639936623009797, 0.6139102108340432]\n",
       " [0.4621181251228463, 0.4971319371838324, 0.5859762094872945, 0.6146977030684998]\n",
       " [0.47690177225713165, 0.49343771063662833, 0.6018692680724497, 0.6154580122735445]\n",
       " [0.4881278348061677, 0.4905886834264145, 0.6141618064694857, 0.6161294549097991]"
      ]
     },
     "execution_count": 18,
     "metadata": {},
     "output_type": "execute_result"
    }
   ],
   "source": [
    "#sorted in ascending order\n",
    "ss1 = sort(sol_set(0.8))"
   ]
  },
  {
   "cell_type": "markdown",
   "metadata": {},
   "source": [
    "The above are possible candidates which non-trivially satisfy the four first order conditions.  We can further filter these solutions by finding out which one would produce the most revenue for the sellor."
   ]
  },
  {
   "cell_type": "code",
   "execution_count": 19,
   "metadata": {
    "scrolled": true
   },
   "outputs": [
    {
     "data": {
      "text/plain": [
       "Q1 (generic function with 1 method)"
      ]
     },
     "execution_count": 19,
     "metadata": {},
     "output_type": "execute_result"
    }
   ],
   "source": [
    "Q1(v_min,v_max,n,alpha)=(((1-alpha)*F(v_max)+alpha)^n -((1-alpha)*F(v_min))^n)/(n*(((1-alpha)*(F(v_max)-F(v_min)))+alpha))\n"
   ]
  },
  {
   "cell_type": "code",
   "execution_count": 20,
   "metadata": {},
   "outputs": [
    {
     "data": {
      "text/plain": [
       "pi_uniformed (generic function with 1 method)"
      ]
     },
     "execution_count": 20,
     "metadata": {},
     "output_type": "execute_result"
    }
   ],
   "source": [
    "pi_uniformed(x) = n*alpha*(1 - F(x))*x \n"
   ]
  },
  {
   "cell_type": "code",
   "execution_count": 21,
   "metadata": {},
   "outputs": [
    {
     "data": {
      "text/plain": [
       "max_return (generic function with 1 method)"
      ]
     },
     "execution_count": 21,
     "metadata": {},
     "output_type": "execute_result"
    }
   ],
   "source": [
    "#find out the maximizer(s) of a function in a set\n",
    "function max_return(f,set)\n",
    "    optimum_auc = []\n",
    "    maximum_rev = maximum([f(set[i]) for i = 1:maximum(size(set))])\n",
    "    for i in 1:maximum(size(set))\n",
    "        if f(set[i]) == maximum_rev\n",
    "            push!(optimum_auc, set[i])\n",
    "        end\n",
    "    end\n",
    "    return(optimum_auc, maximum_rev)\n",
    "end\n",
    "\n",
    "    \n",
    "    \n",
    "    \n",
    "        "
   ]
  },
  {
   "cell_type": "code",
   "execution_count": 22,
   "metadata": {},
   "outputs": [
    {
     "data": {
      "text/plain": [
       "Revenue (generic function with 1 method)"
      ]
     },
     "execution_count": 22,
     "metadata": {},
     "output_type": "execute_result"
    }
   ],
   "source": [
    "Q_eps(alpha,v_min,v_max) = (((1 - alpha)*F(v_min) + alpha)^n - ((1 - alpha)*F(v_min))^n)/(n*((1 - alpha)*(F(v_max) - F(v_min)) + alpha ))\n",
    "phi(v) = v - (1 - F(v))/f(v)\n",
    "rev_int(x) = phi(x) * f(x)\n",
    "Revenue(alpha,r,t,v_min,v_max) = n*(1-alpha)*Q_eps(alpha,v_min,v_max)*quadgk(rev_int,r,1)[1] + n*alpha*Q_eps(alpha,v_min,v_max)* quadgk(rev_int,r,1)[1]*t*(1-F(t))\n",
    "\n",
    "\n"
   ]
  },
  {
   "cell_type": "code",
   "execution_count": 23,
   "metadata": {},
   "outputs": [
    {
     "data": {
      "text/plain": [
       "(Any[[0.4881278348061677, 0.4905886834264145, 0.6141618064694857, 0.6161294549097991]], 0.05655013553283583)"
      ]
     },
     "execution_count": 23,
     "metadata": {},
     "output_type": "execute_result"
    }
   ],
   "source": [
    "Revenue_prob(alpha,auc) = Revenue(alpha, auc[1], auc[2], auc[3], auc[4])\n",
    "Revenue_1(auc) = Revenue_prob(0.8,auc)\n",
    "max_return(Revenue_1,ss1)"
   ]
  },
  {
   "cell_type": "markdown",
   "metadata": {},
   "source": [
    "In the code above what we have really done is we tried to produce algorithms to produce candidate solutions for optimal mechanisms. However, we assumed that the uninformed bidders will drop from the bid if they are uninterested. We could modify this by introducing a threshold strategy. "
   ]
  },
  {
   "cell_type": "code",
   "execution_count": null,
   "metadata": {},
   "outputs": [],
   "source": []
  },
  {
   "cell_type": "code",
   "execution_count": 24,
   "metadata": {},
   "outputs": [
    {
     "data": {
      "text/plain": [
       "eq1_new (generic function with 1 method)"
      ]
     },
     "execution_count": 24,
     "metadata": {},
     "output_type": "execute_result"
    }
   ],
   "source": [
    "eq1_new(alpha, xi, t, v_min, v_max) = alpha * (t*(1-F(t))-(1-F(xi))*phi(v_max)) -\n",
    "(1-alpha)*\n",
    "(\n",
    "(v_min-t)*\n",
    "((v_max - (1-F(v_max))/f(v_max))-(v_min - (1-F(v_min))/f(v_min)))*\n",
    "f(v_min)+\n",
    "(F(v_max)-F(v_min))*\n",
    "((v_max - (1-F(v_max))/f(v_max))\n",
    "-((1-F(v_min))*v_min-(1-F(v_max))*v_max))\n",
    ")"
   ]
  },
  {
   "cell_type": "code",
   "execution_count": 25,
   "metadata": {},
   "outputs": [
    {
     "data": {
      "text/plain": [
       "Qeps2 (generic function with 1 method)"
      ]
     },
     "execution_count": 25,
     "metadata": {},
     "output_type": "execute_result"
    }
   ],
   "source": [
    "Qeps2(xi,v_min,v_max,alpha)=(((1-alpha)*F(v_max)+alpha)^n -((1-alpha)*F(v_min)+ alpha*F(xi))^n)/(n*(((1-alpha)*(F(v_max)-F(v_min))) + alpha * (1-F(xi))))\n"
   ]
  },
  {
   "cell_type": "code",
   "execution_count": null,
   "metadata": {},
   "outputs": [],
   "source": []
  },
  {
   "cell_type": "code",
   "execution_count": 26,
   "metadata": {},
   "outputs": [
    {
     "data": {
      "text/plain": [
       "adheqvec (generic function with 2 methods)"
      ]
     },
     "execution_count": 26,
     "metadata": {},
     "output_type": "execute_result"
    }
   ],
   "source": [
    "eq4_new(alpha,xi,r,t,v_min,v_max) = (1-alpha)^(n-1) * quadgk(Fp,r,v_min)[1] + (alpha*F(xi))^(n-1) - Qeps2(xi,v_min,v_max,alpha)*(v_min-t)\n",
    "adheqvec(alpha, xi, r, t, v_min, v_max) = [eq1_new(alpha, xi, t, v_min, v_max)  eq2(alpha, t, v_min, v_max) eq3(r,v_min,v_max) eq4_new(alpha, xi, r, t, v_min, v_max)]\n"
   ]
  },
  {
   "cell_type": "code",
   "execution_count": 27,
   "metadata": {},
   "outputs": [
    {
     "data": {
      "text/plain": [
       "g (generic function with 2 methods)"
      ]
     },
     "execution_count": 27,
     "metadata": {},
     "output_type": "execute_result"
    }
   ],
   "source": [
    "g(alpha,xi,initial) = optimize(b -> object(adheqvec(alpha,xi, b[1], b[2], b[3], b[4]), [0 0 0 0]), initial)"
   ]
  },
  {
   "cell_type": "code",
   "execution_count": 28,
   "metadata": {},
   "outputs": [
    {
     "data": {
      "text/plain": [
       "sol_set (generic function with 2 methods)"
      ]
     },
     "execution_count": 28,
     "metadata": {},
     "output_type": "execute_result"
    }
   ],
   "source": [
    "function sol_set(alpha,xi)\n",
    "    #make optimizer block\n",
    "    optimizer_raw = [g(alpha,xi,grid_initial[i]) for i = 1:maximum(size(grid_initial))]\n",
    "    #delete non-convergent\n",
    "    optimizer_filtered = filter((x) -> Optim.converged(x) == true, optimizer_raw)\n",
    "    #make the block of minimizer\n",
    "    minimizer = [Optim.minimizer(optimizer_filtered[i]) for i = 1:maximum(size(optimizer_filtered))]\n",
    "    #sanity check on the minimizers\n",
    "    minimizer_san_checked = filter((x) -> makes_sense(x) == true, minimizer)\n",
    "    return(setdiff(minimizer_san_checked, grid_initial))\n",
    "end"
   ]
  },
  {
   "cell_type": "code",
   "execution_count": 29,
   "metadata": {},
   "outputs": [
    {
     "data": {
      "text/plain": [
       "338-element Vector{Vector{Float64}}:\n",
       " [0.3721846780441704, 0.5197442812287583, 0.5197507640471748, 0.6407307212739005]\n",
       " [0.37220283213185956, 0.519774108454884, 0.5198197245848429, 0.6408060077698876]\n",
       " [0.372206610425034, 0.5197586674223269, 0.5197935890897952, 0.6407971650070566]\n",
       " [0.3722113760554606, 0.5197650646096358, 0.5197691641045876, 0.64072474973571]\n",
       " [0.3722241009123239, 0.5197736936370824, 0.5197823572438005, 0.640729120773933]\n",
       " [0.37223309343471206, 0.5197525366884582, 0.5198015254282395, 0.6407491746931838]\n",
       " [0.3722411523306203, 0.5197665328281011, 0.5198079607392985, 0.6407612006638325]\n",
       " [0.37225550447310907, 0.5197757150305474, 0.5197838280234299, 0.6407134298763447]\n",
       " [0.37225749464333974, 0.5197187686495307, 0.5198617322922817, 0.6407655508699495]\n",
       " [0.37225959619966986, 0.5197442909177069, 0.5197793223624183, 0.6407085067887319]\n",
       " [0.3722596539883658, 0.5197710473990821, 0.5197932274389789, 0.6407585947789566]\n",
       " [0.372260118644606, 0.5197291567787092, 0.5198564171083395, 0.6407809965677724]\n",
       " [0.37226154943082074, 0.5197619269324519, 0.5198317775012906, 0.6407611679532672]\n",
       " ⋮\n",
       " [0.37845183177098396, 0.5182259258249627, 0.5261990321227534, 0.6408037765643337]\n",
       " [0.3790598751505869, 0.5180743477633136, 0.5267614900322518, 0.6407970377417225]\n",
       " [0.37910618829251497, 0.5180372593989514, 0.5268426516240474, 0.6408060648896075]\n",
       " [0.3795361163890889, 0.5178786061807661, 0.5273290049763398, 0.6408312510165645]\n",
       " [0.3815207618543351, 0.5174078468009682, 0.5293626443494762, 0.6408519934723642]\n",
       " [0.3820075927231239, 0.5173323769941207, 0.5297479601296884, 0.6408006809941887]\n",
       " [0.38241370336742486, 0.5172481219939424, 0.5302113376138495, 0.6408309748587775]\n",
       " [0.3853313914610591, 0.5164270499483878, 0.5332945585494897, 0.6408910394272518]\n",
       " [0.38879839648218617, 0.5156725527213628, 0.5368259010501405, 0.640927362953324]\n",
       " [0.4000952841335822, 0.5127197545861277, 0.5485351272827683, 0.6410925133939628]\n",
       " [0.4007980424384826, 0.512604102048313, 0.5491738241685868, 0.6410826048475029]\n",
       " [0.4497372062035487, 0.5000899123356515, 0.6013072353181288, 0.6430107840046962]"
      ]
     },
     "execution_count": 29,
     "metadata": {},
     "output_type": "execute_result"
    }
   ],
   "source": [
    "ss2 = sort(sol_set(0.8,0.2))"
   ]
  },
  {
   "cell_type": "code",
   "execution_count": 30,
   "metadata": {},
   "outputs": [
    {
     "data": {
      "text/plain": [
       "Revenue_2 (generic function with 1 method)"
      ]
     },
     "execution_count": 30,
     "metadata": {},
     "output_type": "execute_result"
    }
   ],
   "source": [
    "Revenue2(alpha,xi,r,t,v_min,v_max) = n*(1-alpha)*Qeps2(xi,v_min,v_max,alpha)*quadgk(rev_int,r,1)[1] + n*alpha*Qeps2(xi,v_min,v_max,alpha)* quadgk(rev_int,r,1)[1]*t*(1-F(t))\n",
    "Revenue_prob2(alpha,xi,auc) = Revenue2(alpha,xi,auc[1], auc[2], auc[3], auc[4])\n",
    "Revenue_2(auc) = Revenue_prob2(0.8,0.2,auc)\n"
   ]
  },
  {
   "cell_type": "code",
   "execution_count": 31,
   "metadata": {},
   "outputs": [
    {
     "data": {
      "text/plain": [
       "(Any[[0.4497372062035487, 0.5000899123356515, 0.6013072353181288, 0.6430107840046962]], 0.07318515019583167)"
      ]
     },
     "execution_count": 31,
     "metadata": {},
     "output_type": "execute_result"
    }
   ],
   "source": [
    "max_return(Revenue_2, ss2)"
   ]
  },
  {
   "cell_type": "code",
   "execution_count": 32,
   "metadata": {},
   "outputs": [
    {
     "data": {
      "text/plain": [
       "11-element Vector{Float64}:\n",
       " 0.03133836752961167\n",
       " 0.03622647702702263\n",
       " 0.045570139384671256\n",
       " 0.05716651585144508\n",
       " 0.07155917083925144\n",
       " 0.0898266863410628\n",
       " 0.12286167731730185\n",
       " 0.17546345160029297\n",
       " 0.26872380379961985\n",
       " 0.41930352399428417\n",
       " 0.632608703303511"
      ]
     },
     "execution_count": 32,
     "metadata": {},
     "output_type": "execute_result"
    }
   ],
   "source": [
    "xi = [i for i = 0:0.1:1]\n",
    "\n",
    "function Revfuncprod(alpha, xi)\n",
    "    Revenue_2(auc) = Revenue_prob2(alpha,xi,auc)\n",
    "    return(Revenue_2)\n",
    "end\n",
    "\n",
    "maxrev1 = [max_return(Revfuncprod(0.8,xi[i]),sol_set(0.8,xi[i]))[2] for i = 1:maximum(size(xi))]\n",
    "maxrev2 = [max_return(Revfuncprod(0.7,xi[i]),sol_set(0.7,xi[i]))[2] for i = 1:maximum(size(xi))]\n",
    "maxrev3 = [max_return(Revfuncprod(0.6,xi[i]),sol_set(0.6,xi[i]))[2] for i = 1:maximum(size(xi))]\n",
    "maxrev4 = [max_return(Revfuncprod(0.5,xi[i]),sol_set(0.6,xi[i]))[2] for i = 1:maximum(size(xi))]\n",
    "maxrev5 = [max_return(Revfuncprod(0.4,xi[i]),sol_set(0.6,xi[i]))[2] for i = 1:maximum(size(xi))]\n",
    "\n"
   ]
  },
  {
   "cell_type": "code",
   "execution_count": 33,
   "metadata": {},
   "outputs": [
    {
     "data": {
      "text/plain": [
       "6-element Vector{Float64}:\n",
       " 0.03133836752961167\n",
       " 0.03622647702702263\n",
       " 0.045570139384671256\n",
       " 0.05716651585144508\n",
       " 0.07155917083925144\n",
       " 0.0898266863410628"
      ]
     },
     "execution_count": 33,
     "metadata": {},
     "output_type": "execute_result"
    }
   ],
   "source": [
    "pi(t) = -t*(1-F(t))\n",
    "\n",
    "res = optimize(pi, 0.0,1.0)\n",
    "\n",
    "rstar = Optim.minimizer(res)\n",
    "\n",
    "xil = [xi[i] for i = 1:maximum(size(xi)) if xi[i] <rstar]\n",
    "\n",
    "append!(xil,rstar)\n",
    "maxrev1 = [maxrev1[i] for i = 1:6]\n",
    "maxrev2 = [maxrev2[i] for i = 1:6]\n",
    "maxrev3 = [maxrev3[i] for i = 1:6]\n",
    "maxrev4 = [maxrev4[i] for i = 1:6]\n",
    "maxrev5 = [maxrev5[i] for i = 1:6]\n"
   ]
  },
  {
   "cell_type": "code",
   "execution_count": 34,
   "metadata": {},
   "outputs": [
    {
     "data": {
      "image/svg+xml": [
       "<?xml version=\"1.0\" encoding=\"utf-8\"?>\n",
       "<svg xmlns=\"http://www.w3.org/2000/svg\" xmlns:xlink=\"http://www.w3.org/1999/xlink\" width=\"600\" height=\"400\" viewBox=\"0 0 2400 1600\">\n",
       "<defs>\n",
       "  <clipPath id=\"clip960\">\n",
       "    <rect x=\"0\" y=\"0\" width=\"2400\" height=\"1600\"/>\n",
       "  </clipPath>\n",
       "</defs>\n",
       "<path clip-path=\"url(#clip960)\" d=\"\n",
       "M0 1600 L2400 1600 L2400 0 L0 0  Z\n",
       "  \" fill=\"#ffffff\" fill-rule=\"evenodd\" fill-opacity=\"1\"/>\n",
       "<defs>\n",
       "  <clipPath id=\"clip961\">\n",
       "    <rect x=\"480\" y=\"0\" width=\"1681\" height=\"1600\"/>\n",
       "  </clipPath>\n",
       "</defs>\n",
       "<path clip-path=\"url(#clip960)\" d=\"\n",
       "M250.028 1423.18 L2352.76 1423.18 L2352.76 123.472 L250.028 123.472  Z\n",
       "  \" fill=\"#ffffff\" fill-rule=\"evenodd\" fill-opacity=\"1\"/>\n",
       "<defs>\n",
       "  <clipPath id=\"clip962\">\n",
       "    <rect x=\"250\" y=\"123\" width=\"2104\" height=\"1301\"/>\n",
       "  </clipPath>\n",
       "</defs>\n",
       "<polyline clip-path=\"url(#clip962)\" style=\"stroke:#000000; stroke-linecap:butt; stroke-linejoin:round; stroke-width:2; stroke-opacity:0.1; fill:none\" points=\"\n",
       "  309.539,1423.18 309.539,123.472 \n",
       "  \"/>\n",
       "<polyline clip-path=\"url(#clip962)\" style=\"stroke:#000000; stroke-linecap:butt; stroke-linejoin:round; stroke-width:2; stroke-opacity:0.1; fill:none\" points=\"\n",
       "  714.398,1423.18 714.398,123.472 \n",
       "  \"/>\n",
       "<polyline clip-path=\"url(#clip962)\" style=\"stroke:#000000; stroke-linecap:butt; stroke-linejoin:round; stroke-width:2; stroke-opacity:0.1; fill:none\" points=\"\n",
       "  1119.26,1423.18 1119.26,123.472 \n",
       "  \"/>\n",
       "<polyline clip-path=\"url(#clip962)\" style=\"stroke:#000000; stroke-linecap:butt; stroke-linejoin:round; stroke-width:2; stroke-opacity:0.1; fill:none\" points=\"\n",
       "  1524.12,1423.18 1524.12,123.472 \n",
       "  \"/>\n",
       "<polyline clip-path=\"url(#clip962)\" style=\"stroke:#000000; stroke-linecap:butt; stroke-linejoin:round; stroke-width:2; stroke-opacity:0.1; fill:none\" points=\"\n",
       "  1928.97,1423.18 1928.97,123.472 \n",
       "  \"/>\n",
       "<polyline clip-path=\"url(#clip962)\" style=\"stroke:#000000; stroke-linecap:butt; stroke-linejoin:round; stroke-width:2; stroke-opacity:0.1; fill:none\" points=\"\n",
       "  2333.83,1423.18 2333.83,123.472 \n",
       "  \"/>\n",
       "<polyline clip-path=\"url(#clip960)\" style=\"stroke:#000000; stroke-linecap:butt; stroke-linejoin:round; stroke-width:4; stroke-opacity:1; fill:none\" points=\"\n",
       "  250.028,1423.18 2352.76,1423.18 \n",
       "  \"/>\n",
       "<polyline clip-path=\"url(#clip960)\" style=\"stroke:#000000; stroke-linecap:butt; stroke-linejoin:round; stroke-width:4; stroke-opacity:1; fill:none\" points=\"\n",
       "  309.539,1423.18 309.539,1404.28 \n",
       "  \"/>\n",
       "<polyline clip-path=\"url(#clip960)\" style=\"stroke:#000000; stroke-linecap:butt; stroke-linejoin:round; stroke-width:4; stroke-opacity:1; fill:none\" points=\"\n",
       "  714.398,1423.18 714.398,1404.28 \n",
       "  \"/>\n",
       "<polyline clip-path=\"url(#clip960)\" style=\"stroke:#000000; stroke-linecap:butt; stroke-linejoin:round; stroke-width:4; stroke-opacity:1; fill:none\" points=\"\n",
       "  1119.26,1423.18 1119.26,1404.28 \n",
       "  \"/>\n",
       "<polyline clip-path=\"url(#clip960)\" style=\"stroke:#000000; stroke-linecap:butt; stroke-linejoin:round; stroke-width:4; stroke-opacity:1; fill:none\" points=\"\n",
       "  1524.12,1423.18 1524.12,1404.28 \n",
       "  \"/>\n",
       "<polyline clip-path=\"url(#clip960)\" style=\"stroke:#000000; stroke-linecap:butt; stroke-linejoin:round; stroke-width:4; stroke-opacity:1; fill:none\" points=\"\n",
       "  1928.97,1423.18 1928.97,1404.28 \n",
       "  \"/>\n",
       "<polyline clip-path=\"url(#clip960)\" style=\"stroke:#000000; stroke-linecap:butt; stroke-linejoin:round; stroke-width:4; stroke-opacity:1; fill:none\" points=\"\n",
       "  2333.83,1423.18 2333.83,1404.28 \n",
       "  \"/>\n",
       "<path clip-path=\"url(#clip960)\" d=\"M286.924 1454.1 Q283.313 1454.1 281.484 1457.66 Q279.678 1461.2 279.678 1468.33 Q279.678 1475.44 281.484 1479.01 Q283.313 1482.55 286.924 1482.55 Q290.558 1482.55 292.363 1479.01 Q294.192 1475.44 294.192 1468.33 Q294.192 1461.2 292.363 1457.66 Q290.558 1454.1 286.924 1454.1 M286.924 1450.39 Q292.734 1450.39 295.789 1455 Q298.868 1459.58 298.868 1468.33 Q298.868 1477.06 295.789 1481.67 Q292.734 1486.25 286.924 1486.25 Q281.114 1486.25 278.035 1481.67 Q274.979 1477.06 274.979 1468.33 Q274.979 1459.58 278.035 1455 Q281.114 1450.39 286.924 1450.39 Z\" fill=\"#000000\" fill-rule=\"evenodd\" fill-opacity=\"1\" /><path clip-path=\"url(#clip960)\" d=\"M307.086 1479.7 L311.97 1479.7 L311.97 1485.58 L307.086 1485.58 L307.086 1479.7 Z\" fill=\"#000000\" fill-rule=\"evenodd\" fill-opacity=\"1\" /><path clip-path=\"url(#clip960)\" d=\"M332.155 1454.1 Q328.544 1454.1 326.715 1457.66 Q324.91 1461.2 324.91 1468.33 Q324.91 1475.44 326.715 1479.01 Q328.544 1482.55 332.155 1482.55 Q335.789 1482.55 337.595 1479.01 Q339.423 1475.44 339.423 1468.33 Q339.423 1461.2 337.595 1457.66 Q335.789 1454.1 332.155 1454.1 M332.155 1450.39 Q337.965 1450.39 341.021 1455 Q344.099 1459.58 344.099 1468.33 Q344.099 1477.06 341.021 1481.67 Q337.965 1486.25 332.155 1486.25 Q326.345 1486.25 323.266 1481.67 Q320.211 1477.06 320.211 1468.33 Q320.211 1459.58 323.266 1455 Q326.345 1450.39 332.155 1450.39 Z\" fill=\"#000000\" fill-rule=\"evenodd\" fill-opacity=\"1\" /><path clip-path=\"url(#clip960)\" d=\"M692.396 1454.1 Q688.785 1454.1 686.956 1457.66 Q685.15 1461.2 685.15 1468.33 Q685.15 1475.44 686.956 1479.01 Q688.785 1482.55 692.396 1482.55 Q696.03 1482.55 697.836 1479.01 Q699.664 1475.44 699.664 1468.33 Q699.664 1461.2 697.836 1457.66 Q696.03 1454.1 692.396 1454.1 M692.396 1450.39 Q698.206 1450.39 701.261 1455 Q704.34 1459.58 704.34 1468.33 Q704.34 1477.06 701.261 1481.67 Q698.206 1486.25 692.396 1486.25 Q686.586 1486.25 683.507 1481.67 Q680.451 1477.06 680.451 1468.33 Q680.451 1459.58 683.507 1455 Q686.586 1450.39 692.396 1450.39 Z\" fill=\"#000000\" fill-rule=\"evenodd\" fill-opacity=\"1\" /><path clip-path=\"url(#clip960)\" d=\"M712.558 1479.7 L717.442 1479.7 L717.442 1485.58 L712.558 1485.58 L712.558 1479.7 Z\" fill=\"#000000\" fill-rule=\"evenodd\" fill-opacity=\"1\" /><path clip-path=\"url(#clip960)\" d=\"M728.437 1481.64 L736.076 1481.64 L736.076 1455.28 L727.766 1456.95 L727.766 1452.69 L736.03 1451.02 L740.706 1451.02 L740.706 1481.64 L748.345 1481.64 L748.345 1485.58 L728.437 1485.58 L728.437 1481.64 Z\" fill=\"#000000\" fill-rule=\"evenodd\" fill-opacity=\"1\" /><path clip-path=\"url(#clip960)\" d=\"M1097.44 1454.1 Q1093.83 1454.1 1092 1457.66 Q1090.19 1461.2 1090.19 1468.33 Q1090.19 1475.44 1092 1479.01 Q1093.83 1482.55 1097.44 1482.55 Q1101.07 1482.55 1102.88 1479.01 Q1104.71 1475.44 1104.71 1468.33 Q1104.71 1461.2 1102.88 1457.66 Q1101.07 1454.1 1097.44 1454.1 M1097.44 1450.39 Q1103.25 1450.39 1106.31 1455 Q1109.38 1459.58 1109.38 1468.33 Q1109.38 1477.06 1106.31 1481.67 Q1103.25 1486.25 1097.44 1486.25 Q1091.63 1486.25 1088.55 1481.67 Q1085.5 1477.06 1085.5 1468.33 Q1085.5 1459.58 1088.55 1455 Q1091.63 1450.39 1097.44 1450.39 Z\" fill=\"#000000\" fill-rule=\"evenodd\" fill-opacity=\"1\" /><path clip-path=\"url(#clip960)\" d=\"M1117.6 1479.7 L1122.49 1479.7 L1122.49 1485.58 L1117.6 1485.58 L1117.6 1479.7 Z\" fill=\"#000000\" fill-rule=\"evenodd\" fill-opacity=\"1\" /><path clip-path=\"url(#clip960)\" d=\"M1136.7 1481.64 L1153.02 1481.64 L1153.02 1485.58 L1131.07 1485.58 L1131.07 1481.64 Q1133.74 1478.89 1138.32 1474.26 Q1142.93 1469.61 1144.11 1468.27 Q1146.35 1465.74 1147.23 1464.01 Q1148.13 1462.25 1148.13 1460.56 Q1148.13 1457.8 1146.19 1456.07 Q1144.27 1454.33 1141.17 1454.33 Q1138.97 1454.33 1136.51 1455.09 Q1134.08 1455.86 1131.31 1457.41 L1131.31 1452.69 Q1134.13 1451.55 1136.58 1450.97 Q1139.04 1450.39 1141.07 1450.39 Q1146.44 1450.39 1149.64 1453.08 Q1152.83 1455.77 1152.83 1460.26 Q1152.83 1462.39 1152.02 1464.31 Q1151.24 1466.2 1149.13 1468.8 Q1148.55 1469.47 1145.45 1472.69 Q1142.35 1475.88 1136.7 1481.64 Z\" fill=\"#000000\" fill-rule=\"evenodd\" fill-opacity=\"1\" /><path clip-path=\"url(#clip960)\" d=\"M1501.82 1454.1 Q1498.21 1454.1 1496.38 1457.66 Q1494.58 1461.2 1494.58 1468.33 Q1494.58 1475.44 1496.38 1479.01 Q1498.21 1482.55 1501.82 1482.55 Q1505.46 1482.55 1507.26 1479.01 Q1509.09 1475.44 1509.09 1468.33 Q1509.09 1461.2 1507.26 1457.66 Q1505.46 1454.1 1501.82 1454.1 M1501.82 1450.39 Q1507.63 1450.39 1510.69 1455 Q1513.77 1459.58 1513.77 1468.33 Q1513.77 1477.06 1510.69 1481.67 Q1507.63 1486.25 1501.82 1486.25 Q1496.01 1486.25 1492.93 1481.67 Q1489.88 1477.06 1489.88 1468.33 Q1489.88 1459.58 1492.93 1455 Q1496.01 1450.39 1501.82 1450.39 Z\" fill=\"#000000\" fill-rule=\"evenodd\" fill-opacity=\"1\" /><path clip-path=\"url(#clip960)\" d=\"M1521.99 1479.7 L1526.87 1479.7 L1526.87 1485.58 L1521.99 1485.58 L1521.99 1479.7 Z\" fill=\"#000000\" fill-rule=\"evenodd\" fill-opacity=\"1\" /><path clip-path=\"url(#clip960)\" d=\"M1551.22 1466.95 Q1554.58 1467.66 1556.45 1469.93 Q1558.35 1472.2 1558.35 1475.53 Q1558.35 1480.65 1554.83 1483.45 Q1551.31 1486.25 1544.83 1486.25 Q1542.66 1486.25 1540.34 1485.81 Q1538.05 1485.39 1535.6 1484.54 L1535.6 1480.02 Q1537.54 1481.16 1539.86 1481.74 Q1542.17 1482.32 1544.69 1482.32 Q1549.09 1482.32 1551.38 1480.58 Q1553.7 1478.84 1553.7 1475.53 Q1553.7 1472.48 1551.55 1470.77 Q1549.42 1469.03 1545.6 1469.03 L1541.57 1469.03 L1541.57 1465.19 L1545.78 1465.19 Q1549.23 1465.19 1551.06 1463.82 Q1552.89 1462.43 1552.89 1459.84 Q1552.89 1457.18 1550.99 1455.77 Q1549.12 1454.33 1545.6 1454.33 Q1543.68 1454.33 1541.48 1454.75 Q1539.28 1455.16 1536.64 1456.04 L1536.64 1451.88 Q1539.3 1451.14 1541.62 1450.77 Q1543.95 1450.39 1546.01 1450.39 Q1551.34 1450.39 1554.44 1452.83 Q1557.54 1455.23 1557.54 1459.35 Q1557.54 1462.22 1555.9 1464.21 Q1554.25 1466.18 1551.22 1466.95 Z\" fill=\"#000000\" fill-rule=\"evenodd\" fill-opacity=\"1\" /><path clip-path=\"url(#clip960)\" d=\"M1906.12 1454.1 Q1902.5 1454.1 1900.68 1457.66 Q1898.87 1461.2 1898.87 1468.33 Q1898.87 1475.44 1900.68 1479.01 Q1902.5 1482.55 1906.12 1482.55 Q1909.75 1482.55 1911.55 1479.01 Q1913.38 1475.44 1913.38 1468.33 Q1913.38 1461.2 1911.55 1457.66 Q1909.75 1454.1 1906.12 1454.1 M1906.12 1450.39 Q1911.93 1450.39 1914.98 1455 Q1918.06 1459.58 1918.06 1468.33 Q1918.06 1477.06 1914.98 1481.67 Q1911.93 1486.25 1906.12 1486.25 Q1900.31 1486.25 1897.23 1481.67 Q1894.17 1477.06 1894.17 1468.33 Q1894.17 1459.58 1897.23 1455 Q1900.31 1450.39 1906.12 1450.39 Z\" fill=\"#000000\" fill-rule=\"evenodd\" fill-opacity=\"1\" /><path clip-path=\"url(#clip960)\" d=\"M1926.28 1479.7 L1931.16 1479.7 L1931.16 1485.58 L1926.28 1485.58 L1926.28 1479.7 Z\" fill=\"#000000\" fill-rule=\"evenodd\" fill-opacity=\"1\" /><path clip-path=\"url(#clip960)\" d=\"M1954.19 1455.09 L1942.39 1473.54 L1954.19 1473.54 L1954.19 1455.09 M1952.97 1451.02 L1958.85 1451.02 L1958.85 1473.54 L1963.78 1473.54 L1963.78 1477.43 L1958.85 1477.43 L1958.85 1485.58 L1954.19 1485.58 L1954.19 1477.43 L1938.59 1477.43 L1938.59 1472.92 L1952.97 1451.02 Z\" fill=\"#000000\" fill-rule=\"evenodd\" fill-opacity=\"1\" /><path clip-path=\"url(#clip960)\" d=\"M2311.71 1454.1 Q2308.1 1454.1 2306.27 1457.66 Q2304.47 1461.2 2304.47 1468.33 Q2304.47 1475.44 2306.27 1479.01 Q2308.1 1482.55 2311.71 1482.55 Q2315.35 1482.55 2317.15 1479.01 Q2318.98 1475.44 2318.98 1468.33 Q2318.98 1461.2 2317.15 1457.66 Q2315.35 1454.1 2311.71 1454.1 M2311.71 1450.39 Q2317.52 1450.39 2320.58 1455 Q2323.66 1459.58 2323.66 1468.33 Q2323.66 1477.06 2320.58 1481.67 Q2317.52 1486.25 2311.71 1486.25 Q2305.9 1486.25 2302.83 1481.67 Q2299.77 1477.06 2299.77 1468.33 Q2299.77 1459.58 2302.83 1455 Q2305.9 1450.39 2311.71 1450.39 Z\" fill=\"#000000\" fill-rule=\"evenodd\" fill-opacity=\"1\" /><path clip-path=\"url(#clip960)\" d=\"M2331.88 1479.7 L2336.76 1479.7 L2336.76 1485.58 L2331.88 1485.58 L2331.88 1479.7 Z\" fill=\"#000000\" fill-rule=\"evenodd\" fill-opacity=\"1\" /><path clip-path=\"url(#clip960)\" d=\"M2346.99 1451.02 L2365.35 1451.02 L2365.35 1454.96 L2351.27 1454.96 L2351.27 1463.43 Q2352.29 1463.08 2353.31 1462.92 Q2354.33 1462.73 2355.35 1462.73 Q2361.14 1462.73 2364.52 1465.9 Q2367.89 1469.08 2367.89 1474.49 Q2367.89 1480.07 2364.42 1483.17 Q2360.95 1486.25 2354.63 1486.25 Q2352.46 1486.25 2350.19 1485.88 Q2347.94 1485.51 2345.53 1484.77 L2345.53 1480.07 Q2347.62 1481.2 2349.84 1481.76 Q2352.06 1482.32 2354.54 1482.32 Q2358.54 1482.32 2360.88 1480.21 Q2363.22 1478.1 2363.22 1474.49 Q2363.22 1470.88 2360.88 1468.77 Q2358.54 1466.67 2354.54 1466.67 Q2352.66 1466.67 2350.79 1467.08 Q2348.94 1467.5 2346.99 1468.38 L2346.99 1451.02 Z\" fill=\"#000000\" fill-rule=\"evenodd\" fill-opacity=\"1\" /><path clip-path=\"url(#clip960)\" d=\"M1314.98 1533.19 Q1314.98 1535.22 1309.11 1535.22 Q1308.12 1535.22 1307.57 1535.19 Q1307.02 1535.13 1306.22 1534.8 Q1305.44 1534.45 1304.9 1533.77 Q1301.42 1535.48 1299.48 1538.7 Q1297.58 1541.92 1297.58 1544.98 Q1297.58 1548.17 1299.55 1550.13 Q1302 1549.33 1305.09 1549.33 Q1307.57 1549.33 1309.02 1549.68 Q1310.5 1550.04 1310.5 1551.13 Q1310.5 1551.61 1310.21 1552 Q1309.92 1552.36 1309.31 1552.58 Q1308.73 1552.77 1308.18 1552.9 Q1307.67 1553.03 1306.83 1553.1 Q1305.99 1553.13 1305.54 1553.16 Q1305.09 1553.16 1304.38 1553.16 Q1300.9 1553.16 1298.55 1552.32 Q1294.78 1554.22 1292.62 1557.67 Q1290.47 1561.08 1290.47 1563.53 Q1290.47 1567.4 1295.39 1569.39 L1299.36 1570.97 Q1300.26 1571.26 1303.38 1572.48 L1307.41 1574 Q1310.56 1575.38 1310.56 1578.7 Q1310.56 1581.28 1308.57 1583.5 Q1306.6 1585.75 1303.7 1585.75 Q1302 1585.75 1300.23 1585.11 Q1298.49 1584.5 1297.49 1583.76 Q1296.52 1583.02 1296.52 1582.6 Q1296.52 1581.86 1297.17 1581.86 Q1297.42 1581.86 1297.91 1582.18 Q1300.97 1584.3 1303.7 1584.3 Q1305.12 1584.3 1306.02 1583.18 Q1306.96 1582.05 1306.96 1580.79 Q1306.96 1580.12 1306.76 1579.63 Q1306.6 1579.15 1306.12 1578.8 Q1305.67 1578.47 1305.44 1578.35 Q1305.25 1578.25 1304.64 1577.96 Q1303.35 1577.48 1301.13 1576.61 Q1298.91 1575.77 1296.65 1574.87 Q1292.85 1573.45 1291.69 1572.81 Q1290.56 1572.19 1288.99 1570.58 L1288.86 1570.42 Q1288.7 1570.23 1288.53 1570 Q1288.41 1569.78 1288.18 1569.46 Q1287.99 1569.1 1287.79 1568.68 Q1287.6 1568.27 1287.44 1567.78 Q1287.28 1567.27 1287.18 1566.65 Q1287.09 1566.01 1287.09 1565.37 Q1287.09 1564.3 1287.44 1562.92 Q1287.83 1561.5 1288.66 1559.63 Q1289.53 1557.77 1291.37 1555.74 Q1293.2 1553.71 1295.72 1552.03 L1296.59 1551.39 Q1294.4 1550.13 1293.33 1548.27 Q1292.3 1546.4 1292.3 1544.4 Q1292.3 1540.5 1295.46 1537.03 Q1298.65 1533.51 1303.83 1532.07 Q1303.38 1530.26 1303.38 1529.49 Q1303.38 1529.2 1303.41 1528.88 Q1303.45 1528.52 1303.51 1527.85 Q1303.61 1527.14 1303.86 1526.72 Q1304.15 1526.27 1304.57 1526.27 Q1305.35 1526.27 1305.35 1527.11 Q1305.02 1528.62 1305.02 1529.55 Q1305.02 1530.78 1305.35 1531.74 Q1307.21 1531.39 1309.5 1531.39 Q1312.05 1531.39 1313.49 1531.74 Q1314.98 1532.07 1314.98 1533.19 M1313.27 1533.26 Q1311.72 1532.84 1309.57 1532.84 Q1307.57 1532.84 1306.41 1533.19 Q1306.92 1533.58 1307.47 1533.68 Q1308.05 1533.77 1309.18 1533.77 Q1311.88 1533.77 1313.27 1533.26 M1308.79 1551.2 Q1307.25 1550.78 1305.02 1550.78 Q1302.9 1550.78 1301.26 1551.2 Q1302.09 1551.55 1302.67 1551.65 Q1303.29 1551.71 1304.57 1551.71 Q1307.76 1551.71 1308.79 1551.2 Z\" fill=\"#000000\" fill-rule=\"evenodd\" fill-opacity=\"1\" /><polyline clip-path=\"url(#clip962)\" style=\"stroke:#000000; stroke-linecap:butt; stroke-linejoin:round; stroke-width:2; stroke-opacity:0.1; fill:none\" points=\"\n",
       "  250.028,1271.29 2352.76,1271.29 \n",
       "  \"/>\n",
       "<polyline clip-path=\"url(#clip962)\" style=\"stroke:#000000; stroke-linecap:butt; stroke-linejoin:round; stroke-width:2; stroke-opacity:0.1; fill:none\" points=\"\n",
       "  250.028,1005.5 2352.76,1005.5 \n",
       "  \"/>\n",
       "<polyline clip-path=\"url(#clip962)\" style=\"stroke:#000000; stroke-linecap:butt; stroke-linejoin:round; stroke-width:2; stroke-opacity:0.1; fill:none\" points=\"\n",
       "  250.028,739.715 2352.76,739.715 \n",
       "  \"/>\n",
       "<polyline clip-path=\"url(#clip962)\" style=\"stroke:#000000; stroke-linecap:butt; stroke-linejoin:round; stroke-width:2; stroke-opacity:0.1; fill:none\" points=\"\n",
       "  250.028,473.928 2352.76,473.928 \n",
       "  \"/>\n",
       "<polyline clip-path=\"url(#clip962)\" style=\"stroke:#000000; stroke-linecap:butt; stroke-linejoin:round; stroke-width:2; stroke-opacity:0.1; fill:none\" points=\"\n",
       "  250.028,208.141 2352.76,208.141 \n",
       "  \"/>\n",
       "<polyline clip-path=\"url(#clip960)\" style=\"stroke:#000000; stroke-linecap:butt; stroke-linejoin:round; stroke-width:4; stroke-opacity:1; fill:none\" points=\"\n",
       "  250.028,1423.18 250.028,123.472 \n",
       "  \"/>\n",
       "<polyline clip-path=\"url(#clip960)\" style=\"stroke:#000000; stroke-linecap:butt; stroke-linejoin:round; stroke-width:4; stroke-opacity:1; fill:none\" points=\"\n",
       "  250.028,1271.29 268.926,1271.29 \n",
       "  \"/>\n",
       "<polyline clip-path=\"url(#clip960)\" style=\"stroke:#000000; stroke-linecap:butt; stroke-linejoin:round; stroke-width:4; stroke-opacity:1; fill:none\" points=\"\n",
       "  250.028,1005.5 268.926,1005.5 \n",
       "  \"/>\n",
       "<polyline clip-path=\"url(#clip960)\" style=\"stroke:#000000; stroke-linecap:butt; stroke-linejoin:round; stroke-width:4; stroke-opacity:1; fill:none\" points=\"\n",
       "  250.028,739.715 268.926,739.715 \n",
       "  \"/>\n",
       "<polyline clip-path=\"url(#clip960)\" style=\"stroke:#000000; stroke-linecap:butt; stroke-linejoin:round; stroke-width:4; stroke-opacity:1; fill:none\" points=\"\n",
       "  250.028,473.928 268.926,473.928 \n",
       "  \"/>\n",
       "<polyline clip-path=\"url(#clip960)\" style=\"stroke:#000000; stroke-linecap:butt; stroke-linejoin:round; stroke-width:4; stroke-opacity:1; fill:none\" points=\"\n",
       "  250.028,208.141 268.926,208.141 \n",
       "  \"/>\n",
       "<path clip-path=\"url(#clip960)\" d=\"M126.205 1257.09 Q122.593 1257.09 120.765 1260.65 Q118.959 1264.19 118.959 1271.32 Q118.959 1278.43 120.765 1281.99 Q122.593 1285.54 126.205 1285.54 Q129.839 1285.54 131.644 1281.99 Q133.473 1278.43 133.473 1271.32 Q133.473 1264.19 131.644 1260.65 Q129.839 1257.09 126.205 1257.09 M126.205 1253.38 Q132.015 1253.38 135.07 1257.99 Q138.149 1262.57 138.149 1271.32 Q138.149 1280.05 135.07 1284.66 Q132.015 1289.24 126.205 1289.24 Q120.394 1289.24 117.316 1284.66 Q114.26 1280.05 114.26 1271.32 Q114.26 1262.57 117.316 1257.99 Q120.394 1253.38 126.205 1253.38 Z\" fill=\"#000000\" fill-rule=\"evenodd\" fill-opacity=\"1\" /><path clip-path=\"url(#clip960)\" d=\"M146.366 1282.69 L151.251 1282.69 L151.251 1288.57 L146.366 1288.57 L146.366 1282.69 Z\" fill=\"#000000\" fill-rule=\"evenodd\" fill-opacity=\"1\" /><path clip-path=\"url(#clip960)\" d=\"M171.436 1257.09 Q167.825 1257.09 165.996 1260.65 Q164.19 1264.19 164.19 1271.32 Q164.19 1278.43 165.996 1281.99 Q167.825 1285.54 171.436 1285.54 Q175.07 1285.54 176.876 1281.99 Q178.704 1278.43 178.704 1271.32 Q178.704 1264.19 176.876 1260.65 Q175.07 1257.09 171.436 1257.09 M171.436 1253.38 Q177.246 1253.38 180.301 1257.99 Q183.38 1262.57 183.38 1271.32 Q183.38 1280.05 180.301 1284.66 Q177.246 1289.24 171.436 1289.24 Q165.626 1289.24 162.547 1284.66 Q159.491 1280.05 159.491 1271.32 Q159.491 1262.57 162.547 1257.99 Q165.626 1253.38 171.436 1253.38 Z\" fill=\"#000000\" fill-rule=\"evenodd\" fill-opacity=\"1\" /><path clip-path=\"url(#clip960)\" d=\"M204.445 1258.08 L192.639 1276.53 L204.445 1276.53 L204.445 1258.08 M203.218 1254.01 L209.098 1254.01 L209.098 1276.53 L214.028 1276.53 L214.028 1280.42 L209.098 1280.42 L209.098 1288.57 L204.445 1288.57 L204.445 1280.42 L188.843 1280.42 L188.843 1275.91 L203.218 1254.01 Z\" fill=\"#000000\" fill-rule=\"evenodd\" fill-opacity=\"1\" /><path clip-path=\"url(#clip960)\" d=\"M126.529 991.3 Q122.918 991.3 121.089 994.865 Q119.283 998.407 119.283 1005.54 Q119.283 1012.64 121.089 1016.21 Q122.918 1019.75 126.529 1019.75 Q130.163 1019.75 131.968 1016.21 Q133.797 1012.64 133.797 1005.54 Q133.797 998.407 131.968 994.865 Q130.163 991.3 126.529 991.3 M126.529 987.596 Q132.339 987.596 135.394 992.203 Q138.473 996.786 138.473 1005.54 Q138.473 1014.26 135.394 1018.87 Q132.339 1023.45 126.529 1023.45 Q120.718 1023.45 117.64 1018.87 Q114.584 1014.26 114.584 1005.54 Q114.584 996.786 117.64 992.203 Q120.718 987.596 126.529 987.596 Z\" fill=\"#000000\" fill-rule=\"evenodd\" fill-opacity=\"1\" /><path clip-path=\"url(#clip960)\" d=\"M146.691 1016.9 L151.575 1016.9 L151.575 1022.78 L146.691 1022.78 L146.691 1016.9 Z\" fill=\"#000000\" fill-rule=\"evenodd\" fill-opacity=\"1\" /><path clip-path=\"url(#clip960)\" d=\"M171.76 991.3 Q168.149 991.3 166.32 994.865 Q164.515 998.407 164.515 1005.54 Q164.515 1012.64 166.32 1016.21 Q168.149 1019.75 171.76 1019.75 Q175.394 1019.75 177.2 1016.21 Q179.028 1012.64 179.028 1005.54 Q179.028 998.407 177.2 994.865 Q175.394 991.3 171.76 991.3 M171.76 987.596 Q177.57 987.596 180.626 992.203 Q183.704 996.786 183.704 1005.54 Q183.704 1014.26 180.626 1018.87 Q177.57 1023.45 171.76 1023.45 Q165.95 1023.45 162.871 1018.87 Q159.815 1014.26 159.815 1005.54 Q159.815 996.786 162.871 992.203 Q165.95 987.596 171.76 987.596 Z\" fill=\"#000000\" fill-rule=\"evenodd\" fill-opacity=\"1\" /><path clip-path=\"url(#clip960)\" d=\"M202.5 1003.64 Q199.352 1003.64 197.5 1005.79 Q195.672 1007.94 195.672 1011.69 Q195.672 1015.42 197.5 1017.6 Q199.352 1019.75 202.5 1019.75 Q205.649 1019.75 207.477 1017.6 Q209.329 1015.42 209.329 1011.69 Q209.329 1007.94 207.477 1005.79 Q205.649 1003.64 202.5 1003.64 M211.783 988.985 L211.783 993.245 Q210.024 992.411 208.218 991.971 Q206.436 991.532 204.676 991.532 Q200.047 991.532 197.593 994.657 Q195.163 997.782 194.815 1004.1 Q196.181 1002.09 198.241 1001.02 Q200.301 999.934 202.778 999.934 Q207.987 999.934 210.996 1003.11 Q214.028 1006.25 214.028 1011.69 Q214.028 1017.02 210.88 1020.24 Q207.732 1023.45 202.5 1023.45 Q196.505 1023.45 193.334 1018.87 Q190.163 1014.26 190.163 1005.54 Q190.163 997.342 194.051 992.481 Q197.94 987.596 204.491 987.596 Q206.25 987.596 208.033 987.944 Q209.838 988.291 211.783 988.985 Z\" fill=\"#000000\" fill-rule=\"evenodd\" fill-opacity=\"1\" /><path clip-path=\"url(#clip960)\" d=\"M126.783 725.513 Q123.172 725.513 121.343 729.078 Q119.538 732.62 119.538 739.749 Q119.538 746.856 121.343 750.421 Q123.172 753.962 126.783 753.962 Q130.417 753.962 132.223 750.421 Q134.052 746.856 134.052 739.749 Q134.052 732.62 132.223 729.078 Q130.417 725.513 126.783 725.513 M126.783 721.81 Q132.593 721.81 135.649 726.416 Q138.728 730.999 138.728 739.749 Q138.728 748.476 135.649 753.083 Q132.593 757.666 126.783 757.666 Q120.973 757.666 117.894 753.083 Q114.839 748.476 114.839 739.749 Q114.839 730.999 117.894 726.416 Q120.973 721.81 126.783 721.81 Z\" fill=\"#000000\" fill-rule=\"evenodd\" fill-opacity=\"1\" /><path clip-path=\"url(#clip960)\" d=\"M146.945 751.115 L151.829 751.115 L151.829 756.995 L146.945 756.995 L146.945 751.115 Z\" fill=\"#000000\" fill-rule=\"evenodd\" fill-opacity=\"1\" /><path clip-path=\"url(#clip960)\" d=\"M172.014 725.513 Q168.403 725.513 166.575 729.078 Q164.769 732.62 164.769 739.749 Q164.769 746.856 166.575 750.421 Q168.403 753.962 172.014 753.962 Q175.649 753.962 177.454 750.421 Q179.283 746.856 179.283 739.749 Q179.283 732.62 177.454 729.078 Q175.649 725.513 172.014 725.513 M172.014 721.81 Q177.825 721.81 180.88 726.416 Q183.959 730.999 183.959 739.749 Q183.959 748.476 180.88 753.083 Q177.825 757.666 172.014 757.666 Q166.204 757.666 163.126 753.083 Q160.07 748.476 160.07 739.749 Q160.07 730.999 163.126 726.416 Q166.204 721.81 172.014 721.81 Z\" fill=\"#000000\" fill-rule=\"evenodd\" fill-opacity=\"1\" /><path clip-path=\"url(#clip960)\" d=\"M202.176 740.583 Q198.843 740.583 196.922 742.365 Q195.024 744.147 195.024 747.272 Q195.024 750.397 196.922 752.18 Q198.843 753.962 202.176 753.962 Q205.51 753.962 207.431 752.18 Q209.352 750.374 209.352 747.272 Q209.352 744.147 207.431 742.365 Q205.533 740.583 202.176 740.583 M197.5 738.592 Q194.491 737.851 192.801 735.791 Q191.135 733.731 191.135 730.768 Q191.135 726.624 194.075 724.217 Q197.037 721.81 202.176 721.81 Q207.338 721.81 210.278 724.217 Q213.218 726.624 213.218 730.768 Q213.218 733.731 211.528 735.791 Q209.861 737.851 206.875 738.592 Q210.255 739.379 212.13 741.671 Q214.028 743.962 214.028 747.272 Q214.028 752.296 210.949 754.981 Q207.894 757.666 202.176 757.666 Q196.459 757.666 193.38 754.981 Q190.325 752.296 190.325 747.272 Q190.325 743.962 192.223 741.671 Q194.121 739.379 197.5 738.592 M195.787 731.208 Q195.787 733.893 197.454 735.397 Q199.144 736.902 202.176 736.902 Q205.186 736.902 206.875 735.397 Q208.588 733.893 208.588 731.208 Q208.588 728.523 206.875 727.018 Q205.186 725.513 202.176 725.513 Q199.144 725.513 197.454 727.018 Q195.787 728.523 195.787 731.208 Z\" fill=\"#000000\" fill-rule=\"evenodd\" fill-opacity=\"1\" /><path clip-path=\"url(#clip960)\" d=\"M126.691 459.726 Q123.08 459.726 121.251 463.291 Q119.445 466.833 119.445 473.962 Q119.445 481.069 121.251 484.634 Q123.08 488.175 126.691 488.175 Q130.325 488.175 132.13 484.634 Q133.959 481.069 133.959 473.962 Q133.959 466.833 132.13 463.291 Q130.325 459.726 126.691 459.726 M126.691 456.023 Q132.501 456.023 135.556 460.629 Q138.635 465.213 138.635 473.962 Q138.635 482.689 135.556 487.296 Q132.501 491.879 126.691 491.879 Q120.88 491.879 117.802 487.296 Q114.746 482.689 114.746 473.962 Q114.746 465.213 117.802 460.629 Q120.88 456.023 126.691 456.023 Z\" fill=\"#000000\" fill-rule=\"evenodd\" fill-opacity=\"1\" /><path clip-path=\"url(#clip960)\" d=\"M146.853 485.328 L151.737 485.328 L151.737 491.208 L146.853 491.208 L146.853 485.328 Z\" fill=\"#000000\" fill-rule=\"evenodd\" fill-opacity=\"1\" /><path clip-path=\"url(#clip960)\" d=\"M162.732 487.273 L170.371 487.273 L170.371 460.907 L162.061 462.574 L162.061 458.314 L170.325 456.648 L175.001 456.648 L175.001 487.273 L182.639 487.273 L182.639 491.208 L162.732 491.208 L162.732 487.273 Z\" fill=\"#000000\" fill-rule=\"evenodd\" fill-opacity=\"1\" /><path clip-path=\"url(#clip960)\" d=\"M202.084 459.726 Q198.473 459.726 196.644 463.291 Q194.838 466.833 194.838 473.962 Q194.838 481.069 196.644 484.634 Q198.473 488.175 202.084 488.175 Q205.718 488.175 207.524 484.634 Q209.352 481.069 209.352 473.962 Q209.352 466.833 207.524 463.291 Q205.718 459.726 202.084 459.726 M202.084 456.023 Q207.894 456.023 210.949 460.629 Q214.028 465.213 214.028 473.962 Q214.028 482.689 210.949 487.296 Q207.894 491.879 202.084 491.879 Q196.274 491.879 193.195 487.296 Q190.139 482.689 190.139 473.962 Q190.139 465.213 193.195 460.629 Q196.274 456.023 202.084 456.023 Z\" fill=\"#000000\" fill-rule=\"evenodd\" fill-opacity=\"1\" /><path clip-path=\"url(#clip960)\" d=\"M128.288 193.94 Q124.677 193.94 122.848 197.504 Q121.043 201.046 121.043 208.176 Q121.043 215.282 122.848 218.847 Q124.677 222.389 128.288 222.389 Q131.922 222.389 133.728 218.847 Q135.556 215.282 135.556 208.176 Q135.556 201.046 133.728 197.504 Q131.922 193.94 128.288 193.94 M128.288 190.236 Q134.098 190.236 137.154 194.842 Q140.232 199.426 140.232 208.176 Q140.232 216.902 137.154 221.509 Q134.098 226.092 128.288 226.092 Q122.478 226.092 119.399 221.509 Q116.343 216.902 116.343 208.176 Q116.343 199.426 119.399 194.842 Q122.478 190.236 128.288 190.236 Z\" fill=\"#000000\" fill-rule=\"evenodd\" fill-opacity=\"1\" /><path clip-path=\"url(#clip960)\" d=\"M148.45 219.541 L153.334 219.541 L153.334 225.421 L148.45 225.421 L148.45 219.541 Z\" fill=\"#000000\" fill-rule=\"evenodd\" fill-opacity=\"1\" /><path clip-path=\"url(#clip960)\" d=\"M164.329 221.486 L171.968 221.486 L171.968 195.12 L163.658 196.787 L163.658 192.528 L171.922 190.861 L176.598 190.861 L176.598 221.486 L184.237 221.486 L184.237 225.421 L164.329 225.421 L164.329 221.486 Z\" fill=\"#000000\" fill-rule=\"evenodd\" fill-opacity=\"1\" /><path clip-path=\"url(#clip960)\" d=\"M197.709 221.486 L214.028 221.486 L214.028 225.421 L192.084 225.421 L192.084 221.486 Q194.746 218.731 199.329 214.102 Q203.936 209.449 205.116 208.106 Q207.362 205.583 208.241 203.847 Q209.144 202.088 209.144 200.398 Q209.144 197.643 207.199 195.907 Q205.278 194.171 202.176 194.171 Q199.977 194.171 197.524 194.935 Q195.093 195.699 192.315 197.25 L192.315 192.528 Q195.139 191.393 197.593 190.815 Q200.047 190.236 202.084 190.236 Q207.454 190.236 210.649 192.921 Q213.843 195.606 213.843 200.097 Q213.843 202.227 213.033 204.148 Q212.246 206.046 210.139 208.639 Q209.561 209.31 206.459 212.527 Q203.357 215.722 197.709 221.486 Z\" fill=\"#000000\" fill-rule=\"evenodd\" fill-opacity=\"1\" /><path clip-path=\"url(#clip960)\" d=\"M41.7242 887.797 Q42.4244 885.728 44.7161 883.787 Q47.0077 881.814 51.0181 879.84 L64.0042 873.315 L64.0042 880.222 L51.8138 886.301 Q47.0395 888.657 45.48 890.885 Q43.9204 893.081 43.9204 896.9 L43.9204 903.903 L64.0042 903.903 L64.0042 910.332 L16.4842 910.332 L16.4842 895.818 Q16.4842 887.67 19.8898 883.66 Q23.2955 879.649 30.1704 879.649 Q34.6582 879.649 37.6183 881.75 Q40.5784 883.819 41.7242 887.797 M21.7677 903.903 L38.6368 903.903 L38.6368 895.818 Q38.6368 891.171 36.5043 888.816 Q34.34 886.429 30.1704 886.429 Q26.0009 886.429 23.9002 888.816 Q21.7677 891.171 21.7677 895.818 L21.7677 903.903 Z\" fill=\"#000000\" fill-rule=\"evenodd\" fill-opacity=\"1\" /><path clip-path=\"url(#clip960)\" d=\"M44.7161 837.731 L47.5806 837.731 L47.5806 864.658 Q53.6281 864.276 56.8109 861.03 Q59.9619 857.751 59.9619 851.927 Q59.9619 848.553 59.1344 845.402 Q58.3069 842.219 56.6518 839.1 L62.1899 839.1 Q63.5267 842.251 64.227 845.561 Q64.9272 848.871 64.9272 852.277 Q64.9272 860.807 59.9619 865.804 Q54.9967 870.769 46.5303 870.769 Q37.7774 870.769 32.6531 866.058 Q27.4968 861.316 27.4968 853.295 Q27.4968 846.102 32.1438 841.932 Q36.7589 837.731 44.7161 837.731 M42.9973 843.587 Q38.1912 843.651 35.3266 846.293 Q32.4621 848.903 32.4621 853.232 Q32.4621 858.133 35.2312 861.093 Q38.0002 864.021 43.0292 864.467 L42.9973 843.587 Z\" fill=\"#000000\" fill-rule=\"evenodd\" fill-opacity=\"1\" /><path clip-path=\"url(#clip960)\" d=\"M28.3562 832.32 L28.3562 826.114 L58.275 814.974 L28.3562 803.834 L28.3562 797.627 L64.0042 810.995 L64.0042 818.952 L28.3562 832.32 Z\" fill=\"#000000\" fill-rule=\"evenodd\" fill-opacity=\"1\" /><path clip-path=\"url(#clip960)\" d=\"M44.7161 759.051 L47.5806 759.051 L47.5806 785.978 Q53.6281 785.596 56.8109 782.349 Q59.9619 779.071 59.9619 773.246 Q59.9619 769.873 59.1344 766.722 Q58.3069 763.539 56.6518 760.42 L62.1899 760.42 Q63.5267 763.571 64.227 766.881 Q64.9272 770.191 64.9272 773.597 Q64.9272 782.127 59.9619 787.124 Q54.9967 792.089 46.5303 792.089 Q37.7774 792.089 32.6531 787.378 Q27.4968 782.636 27.4968 774.615 Q27.4968 767.422 32.1438 763.252 Q36.7589 759.051 44.7161 759.051 M42.9973 764.907 Q38.1912 764.971 35.3266 767.613 Q32.4621 770.223 32.4621 774.551 Q32.4621 779.453 35.2312 782.413 Q38.0002 785.341 43.0292 785.787 L42.9973 764.907 Z\" fill=\"#000000\" fill-rule=\"evenodd\" fill-opacity=\"1\" /><path clip-path=\"url(#clip960)\" d=\"M42.4881 719.806 L64.0042 719.806 L64.0042 725.663 L42.679 725.663 Q37.6183 725.663 35.1038 727.636 Q32.5894 729.609 32.5894 733.556 Q32.5894 738.299 35.6131 741.036 Q38.6368 743.773 43.8567 743.773 L64.0042 743.773 L64.0042 749.661 L28.3562 749.661 L28.3562 743.773 L33.8944 743.773 Q30.6797 741.673 29.0883 738.84 Q27.4968 735.975 27.4968 732.251 Q27.4968 726.108 31.3163 722.957 Q35.1038 719.806 42.4881 719.806 Z\" fill=\"#000000\" fill-rule=\"evenodd\" fill-opacity=\"1\" /><path clip-path=\"url(#clip960)\" d=\"M49.9359 708.73 L28.3562 708.73 L28.3562 702.874 L49.7131 702.874 Q54.7739 702.874 57.3202 700.9 Q59.8346 698.927 59.8346 694.98 Q59.8346 690.238 56.8109 687.5 Q53.7872 684.731 48.5673 684.731 L28.3562 684.731 L28.3562 678.875 L64.0042 678.875 L64.0042 684.731 L58.5296 684.731 Q61.7762 686.864 63.3676 689.697 Q64.9272 692.497 64.9272 696.221 Q64.9272 702.364 61.1078 705.547 Q57.2883 708.73 49.9359 708.73 M27.4968 693.993 L27.4968 693.993 Z\" fill=\"#000000\" fill-rule=\"evenodd\" fill-opacity=\"1\" /><path clip-path=\"url(#clip960)\" d=\"M44.7161 636.32 L47.5806 636.32 L47.5806 663.247 Q53.6281 662.865 56.8109 659.619 Q59.9619 656.34 59.9619 650.516 Q59.9619 647.142 59.1344 643.991 Q58.3069 640.808 56.6518 637.689 L62.1899 637.689 Q63.5267 640.84 64.227 644.15 Q64.9272 647.46 64.9272 650.866 Q64.9272 659.396 59.9619 664.393 Q54.9967 669.358 46.5303 669.358 Q37.7774 669.358 32.6531 664.647 Q27.4968 659.905 27.4968 651.884 Q27.4968 644.691 32.1438 640.521 Q36.7589 636.32 44.7161 636.32 M42.9973 642.177 Q38.1912 642.24 35.3266 644.882 Q32.4621 647.492 32.4621 651.821 Q32.4621 656.722 35.2312 659.682 Q38.0002 662.61 43.0292 663.056 L42.9973 642.177 Z\" fill=\"#000000\" fill-rule=\"evenodd\" fill-opacity=\"1\" /><path clip-path=\"url(#clip960)\" d=\"M541.564 44.2197 Q544.197 45.1109 546.668 48.0275 Q549.18 50.9442 551.691 56.0483 L559.996 72.576 L551.205 72.576 L543.468 57.061 Q540.47 50.9847 537.635 48.9997 Q534.839 47.0148 529.978 47.0148 L521.066 47.0148 L521.066 72.576 L512.884 72.576 L512.884 12.096 L531.356 12.096 Q541.726 12.096 546.83 16.4305 Q551.934 20.7649 551.934 29.5149 Q551.934 35.2267 549.261 38.994 Q546.628 42.7613 541.564 44.2197 M521.066 18.8205 L521.066 40.2903 L531.356 40.2903 Q537.27 40.2903 540.268 37.5762 Q543.306 34.8216 543.306 29.5149 Q543.306 24.2082 540.268 21.5346 Q537.27 18.8205 531.356 18.8205 L521.066 18.8205 Z\" fill=\"#000000\" fill-rule=\"evenodd\" fill-opacity=\"1\" /><path clip-path=\"url(#clip960)\" d=\"M605.285 48.0275 L605.285 51.6733 L571.014 51.6733 Q571.5 59.3701 575.632 63.421 Q579.804 67.4314 587.218 67.4314 Q591.512 67.4314 595.522 66.3781 Q599.573 65.3249 603.543 63.2184 L603.543 70.267 Q599.532 71.9684 595.319 72.8596 Q591.106 73.7508 586.772 73.7508 Q575.916 73.7508 569.556 67.4314 Q563.236 61.1119 563.236 50.3365 Q563.236 39.1965 569.232 32.6746 Q575.267 26.1121 585.476 26.1121 Q594.631 26.1121 599.937 32.0264 Q605.285 37.9003 605.285 48.0275 M597.831 45.84 Q597.75 39.7232 594.388 36.0774 Q591.066 32.4315 585.557 32.4315 Q579.318 32.4315 575.551 35.9558 Q571.824 39.4801 571.257 45.8805 L597.831 45.84 Z\" fill=\"#000000\" fill-rule=\"evenodd\" fill-opacity=\"1\" /><path clip-path=\"url(#clip960)\" d=\"M612.171 27.2059 L620.07 27.2059 L634.249 65.2844 L648.427 27.2059 L656.326 27.2059 L639.312 72.576 L629.185 72.576 L612.171 27.2059 Z\" fill=\"#000000\" fill-rule=\"evenodd\" fill-opacity=\"1\" /><path clip-path=\"url(#clip960)\" d=\"M705.423 48.0275 L705.423 51.6733 L671.152 51.6733 Q671.638 59.3701 675.77 63.421 Q679.943 67.4314 687.356 67.4314 Q691.65 67.4314 695.66 66.3781 Q699.711 65.3249 703.681 63.2184 L703.681 70.267 Q699.671 71.9684 695.458 72.8596 Q691.245 73.7508 686.91 73.7508 Q676.054 73.7508 669.694 67.4314 Q663.375 61.1119 663.375 50.3365 Q663.375 39.1965 669.37 32.6746 Q675.406 26.1121 685.614 26.1121 Q694.769 26.1121 700.076 32.0264 Q705.423 37.9003 705.423 48.0275 M697.969 45.84 Q697.888 39.7232 694.526 36.0774 Q691.204 32.4315 685.695 32.4315 Q679.457 32.4315 675.689 35.9558 Q671.963 39.4801 671.395 45.8805 L697.969 45.84 Z\" fill=\"#000000\" fill-rule=\"evenodd\" fill-opacity=\"1\" /><path clip-path=\"url(#clip960)\" d=\"M755.371 45.1919 L755.371 72.576 L747.917 72.576 L747.917 45.4349 Q747.917 38.994 745.405 35.7938 Q742.894 32.5936 737.871 32.5936 Q731.835 32.5936 728.351 36.4419 Q724.867 40.2903 724.867 46.9338 L724.867 72.576 L717.373 72.576 L717.373 27.2059 L724.867 27.2059 L724.867 34.2544 Q727.541 30.163 731.146 28.1376 Q734.792 26.1121 739.532 26.1121 Q747.35 26.1121 751.36 30.9732 Q755.371 35.7938 755.371 45.1919 Z\" fill=\"#000000\" fill-rule=\"evenodd\" fill-opacity=\"1\" /><path clip-path=\"url(#clip960)\" d=\"M769.468 54.671 L769.468 27.2059 L776.921 27.2059 L776.921 54.3874 Q776.921 60.8284 779.433 64.0691 Q781.945 67.2693 786.968 67.2693 Q793.004 67.2693 796.487 63.421 Q800.012 59.5726 800.012 52.9291 L800.012 27.2059 L807.465 27.2059 L807.465 72.576 L800.012 72.576 L800.012 65.6084 Q797.298 69.7404 793.692 71.7658 Q790.127 73.7508 785.388 73.7508 Q777.57 73.7508 773.519 68.8897 Q769.468 64.0286 769.468 54.671 M788.223 26.1121 L788.223 26.1121 Z\" fill=\"#000000\" fill-rule=\"evenodd\" fill-opacity=\"1\" /><path clip-path=\"url(#clip960)\" d=\"M861.626 48.0275 L861.626 51.6733 L827.355 51.6733 Q827.841 59.3701 831.973 63.421 Q836.146 67.4314 843.559 67.4314 Q847.853 67.4314 851.863 66.3781 Q855.914 65.3249 859.884 63.2184 L859.884 70.267 Q855.874 71.9684 851.661 72.8596 Q847.448 73.7508 843.113 73.7508 Q832.257 73.7508 825.897 67.4314 Q819.577 61.1119 819.577 50.3365 Q819.577 39.1965 825.573 32.6746 Q831.609 26.1121 841.817 26.1121 Q850.972 26.1121 856.279 32.0264 Q861.626 37.9003 861.626 48.0275 M854.172 45.84 Q854.091 39.7232 850.729 36.0774 Q847.407 32.4315 841.898 32.4315 Q835.66 32.4315 831.892 35.9558 Q828.165 39.4801 827.598 45.8805 L854.172 45.84 Z\" fill=\"#000000\" fill-rule=\"evenodd\" fill-opacity=\"1\" /><path clip-path=\"url(#clip960)\" d=\"M875.764 62.2867 L884.311 62.2867 L884.311 69.2543 L877.667 82.2172 L872.442 82.2172 L875.764 69.2543 L875.764 62.2867 Z\" fill=\"#000000\" fill-rule=\"evenodd\" fill-opacity=\"1\" /><path clip-path=\"url(#clip960)\" d=\"M918.541 12.096 L969.704 12.096 L969.704 18.9825 L948.234 18.9825 L948.234 72.576 L940.011 72.576 L940.011 18.9825 L918.541 18.9825 L918.541 12.096 Z\" fill=\"#000000\" fill-rule=\"evenodd\" fill-opacity=\"1\" /><path clip-path=\"url(#clip960)\" d=\"M991.376 34.1734 Q990.121 33.4443 988.622 33.1202 Q987.163 32.7556 985.381 32.7556 Q979.062 32.7556 975.659 36.8875 Q972.297 40.9789 972.297 48.6757 L972.297 72.576 L964.802 72.576 L964.802 27.2059 L972.297 27.2059 L972.297 34.2544 Q974.646 30.1225 978.413 28.1376 Q982.181 26.1121 987.568 26.1121 Q988.338 26.1121 989.27 26.2337 Q990.202 26.3147 991.336 26.5172 L991.376 34.1734 Z\" fill=\"#000000\" fill-rule=\"evenodd\" fill-opacity=\"1\" /><path clip-path=\"url(#clip960)\" d=\"M998.425 54.671 L998.425 27.2059 L1005.88 27.2059 L1005.88 54.3874 Q1005.88 60.8284 1008.39 64.0691 Q1010.9 67.2693 1015.92 67.2693 Q1021.96 67.2693 1025.44 63.421 Q1028.97 59.5726 1028.97 52.9291 L1028.97 27.2059 L1036.42 27.2059 L1036.42 72.576 L1028.97 72.576 L1028.97 65.6084 Q1026.25 69.7404 1022.65 71.7658 Q1019.08 73.7508 1014.34 73.7508 Q1006.53 73.7508 1002.48 68.8897 Q998.425 64.0286 998.425 54.671 M1017.18 26.1121 L1017.18 26.1121 Z\" fill=\"#000000\" fill-rule=\"evenodd\" fill-opacity=\"1\" /><path clip-path=\"url(#clip960)\" d=\"M1089.49 45.1919 L1089.49 72.576 L1082.04 72.576 L1082.04 45.4349 Q1082.04 38.994 1079.52 35.7938 Q1077.01 32.5936 1071.99 32.5936 Q1065.95 32.5936 1062.47 36.4419 Q1058.99 40.2903 1058.99 46.9338 L1058.99 72.576 L1051.49 72.576 L1051.49 27.2059 L1058.99 27.2059 L1058.99 34.2544 Q1061.66 30.163 1065.26 28.1376 Q1068.91 26.1121 1073.65 26.1121 Q1081.47 26.1121 1085.48 30.9732 Q1089.49 35.7938 1089.49 45.1919 Z\" fill=\"#000000\" fill-rule=\"evenodd\" fill-opacity=\"1\" /><path clip-path=\"url(#clip960)\" d=\"M1137.01 28.9478 L1137.01 35.9153 Q1133.85 34.1734 1130.65 33.3227 Q1127.49 32.4315 1124.25 32.4315 Q1116.99 32.4315 1112.98 37.0496 Q1108.97 41.6271 1108.97 49.9314 Q1108.97 58.2358 1112.98 62.8538 Q1116.99 67.4314 1124.25 67.4314 Q1127.49 67.4314 1130.65 66.5807 Q1133.85 65.6895 1137.01 63.9476 L1137.01 70.8341 Q1133.89 72.2924 1130.52 73.0216 Q1127.2 73.7508 1123.44 73.7508 Q1113.19 73.7508 1107.15 67.3098 Q1101.12 60.8689 1101.12 49.9314 Q1101.12 38.832 1107.19 32.472 Q1113.31 26.1121 1123.92 26.1121 Q1127.37 26.1121 1130.65 26.8413 Q1133.93 27.5299 1137.01 28.9478 Z\" fill=\"#000000\" fill-rule=\"evenodd\" fill-opacity=\"1\" /><path clip-path=\"url(#clip960)\" d=\"M1170.59 49.7694 Q1161.55 49.7694 1158.07 51.8354 Q1154.59 53.9013 1154.59 58.8839 Q1154.59 62.8538 1157.18 65.2034 Q1159.81 67.5124 1164.31 67.5124 Q1170.51 67.5124 1174.23 63.1374 Q1178 58.7219 1178 51.4303 L1178 49.7694 L1170.59 49.7694 M1185.46 46.6907 L1185.46 72.576 L1178 72.576 L1178 65.6895 Q1175.45 69.8214 1171.64 71.8063 Q1167.83 73.7508 1162.32 73.7508 Q1155.36 73.7508 1151.23 69.8619 Q1147.13 65.9325 1147.13 59.3701 Q1147.13 51.7138 1152.24 47.825 Q1157.38 43.9361 1167.55 43.9361 L1178 43.9361 L1178 43.2069 Q1178 38.0623 1174.6 35.2672 Q1171.24 32.4315 1165.12 32.4315 Q1161.23 32.4315 1157.54 33.3632 Q1153.86 34.295 1150.46 36.1584 L1150.46 29.2718 Q1154.55 27.692 1158.4 26.9223 Q1162.24 26.1121 1165.89 26.1121 Q1175.73 26.1121 1180.59 31.2163 Q1185.46 36.3204 1185.46 46.6907 Z\" fill=\"#000000\" fill-rule=\"evenodd\" fill-opacity=\"1\" /><path clip-path=\"url(#clip960)\" d=\"M1208.18 14.324 L1208.18 27.2059 L1223.53 27.2059 L1223.53 32.9987 L1208.18 32.9987 L1208.18 57.6282 Q1208.18 63.1779 1209.68 64.7578 Q1211.22 66.3376 1215.88 66.3376 L1223.53 66.3376 L1223.53 72.576 L1215.88 72.576 Q1207.25 72.576 1203.97 69.3758 Q1200.69 66.1351 1200.69 57.6282 L1200.69 32.9987 L1195.22 32.9987 L1195.22 27.2059 L1200.69 27.2059 L1200.69 14.324 L1208.18 14.324 Z\" fill=\"#000000\" fill-rule=\"evenodd\" fill-opacity=\"1\" /><path clip-path=\"url(#clip960)\" d=\"M1272.14 48.0275 L1272.14 51.6733 L1237.87 51.6733 Q1238.36 59.3701 1242.49 63.421 Q1246.66 67.4314 1254.08 67.4314 Q1258.37 67.4314 1262.38 66.3781 Q1266.43 65.3249 1270.4 63.2184 L1270.4 70.267 Q1266.39 71.9684 1262.18 72.8596 Q1257.97 73.7508 1253.63 73.7508 Q1242.78 73.7508 1236.42 67.4314 Q1230.1 61.1119 1230.1 50.3365 Q1230.1 39.1965 1236.09 32.6746 Q1242.13 26.1121 1252.34 26.1121 Q1261.49 26.1121 1266.8 32.0264 Q1272.14 37.9003 1272.14 48.0275 M1264.69 45.84 Q1264.61 39.7232 1261.25 36.0774 Q1257.93 32.4315 1252.42 32.4315 Q1246.18 32.4315 1242.41 35.9558 Q1238.68 39.4801 1238.12 45.8805 L1264.69 45.84 Z\" fill=\"#000000\" fill-rule=\"evenodd\" fill-opacity=\"1\" /><path clip-path=\"url(#clip960)\" d=\"M1314.23 34.0924 L1314.23 9.54393 L1321.69 9.54393 L1321.69 72.576 L1314.23 72.576 L1314.23 65.7705 Q1311.88 69.8214 1308.28 71.8063 Q1304.71 73.7508 1299.69 73.7508 Q1291.47 73.7508 1286.28 67.1883 Q1281.14 60.6258 1281.14 49.9314 Q1281.14 39.2371 1286.28 32.6746 Q1291.47 26.1121 1299.69 26.1121 Q1304.71 26.1121 1308.28 28.0971 Q1311.88 30.0415 1314.23 34.0924 M1288.83 49.9314 Q1288.83 58.1548 1292.2 62.8538 Q1295.6 67.5124 1301.51 67.5124 Q1307.43 67.5124 1310.83 62.8538 Q1314.23 58.1548 1314.23 49.9314 Q1314.23 41.7081 1310.83 37.0496 Q1307.43 32.3505 1301.51 32.3505 Q1295.6 32.3505 1292.2 37.0496 Q1288.83 41.7081 1288.83 49.9314 Z\" fill=\"#000000\" fill-rule=\"evenodd\" fill-opacity=\"1\" /><path clip-path=\"url(#clip960)\" d=\"M1337.36 12.096 L1348.38 12.096 L1375.2 62.6918 L1375.2 12.096 L1383.14 12.096 L1383.14 72.576 L1372.12 72.576 L1345.3 21.9802 L1345.3 72.576 L1337.36 72.576 L1337.36 12.096 Z\" fill=\"#000000\" fill-rule=\"evenodd\" fill-opacity=\"1\" /><path clip-path=\"url(#clip960)\" d=\"M1416.68 32.4315 Q1410.69 32.4315 1407.2 37.1306 Q1403.72 41.7891 1403.72 49.9314 Q1403.72 58.0738 1407.16 62.7728 Q1410.64 67.4314 1416.68 67.4314 Q1422.64 67.4314 1426.12 62.7323 Q1429.6 58.0333 1429.6 49.9314 Q1429.6 41.8701 1426.12 37.1711 Q1422.64 32.4315 1416.68 32.4315 M1416.68 26.1121 Q1426.4 26.1121 1431.95 32.4315 Q1437.5 38.7509 1437.5 49.9314 Q1437.5 61.0714 1431.95 67.4314 Q1426.4 73.7508 1416.68 73.7508 Q1406.92 73.7508 1401.37 67.4314 Q1395.86 61.0714 1395.86 49.9314 Q1395.86 38.7509 1401.37 32.4315 Q1406.92 26.1121 1416.68 26.1121 Z\" fill=\"#000000\" fill-rule=\"evenodd\" fill-opacity=\"1\" /><path clip-path=\"url(#clip960)\" d=\"M1476.15 34.1734 Q1474.89 33.4443 1473.39 33.1202 Q1471.94 32.7556 1470.15 32.7556 Q1463.83 32.7556 1460.43 36.8875 Q1457.07 40.9789 1457.07 48.6757 L1457.07 72.576 L1449.57 72.576 L1449.57 27.2059 L1457.07 27.2059 L1457.07 34.2544 Q1459.42 30.1225 1463.19 28.1376 Q1466.95 26.1121 1472.34 26.1121 Q1473.11 26.1121 1474.04 26.2337 Q1474.97 26.3147 1476.11 26.5172 L1476.15 34.1734 Z\" fill=\"#000000\" fill-rule=\"evenodd\" fill-opacity=\"1\" /><path clip-path=\"url(#clip960)\" d=\"M1517.83 35.9153 Q1520.63 30.8922 1524.52 28.5022 Q1528.4 26.1121 1533.67 26.1121 Q1540.76 26.1121 1544.61 31.0947 Q1548.46 36.0368 1548.46 45.1919 L1548.46 72.576 L1540.96 72.576 L1540.96 45.4349 Q1540.96 38.913 1538.65 35.7533 Q1536.34 32.5936 1531.6 32.5936 Q1525.81 32.5936 1522.45 36.4419 Q1519.09 40.2903 1519.09 46.9338 L1519.09 72.576 L1511.59 72.576 L1511.59 45.4349 Q1511.59 38.8725 1509.28 35.7533 Q1506.98 32.5936 1502.15 32.5936 Q1496.44 32.5936 1493.08 36.4824 Q1489.72 40.3308 1489.72 46.9338 L1489.72 72.576 L1482.22 72.576 L1482.22 27.2059 L1489.72 27.2059 L1489.72 34.2544 Q1492.27 30.082 1495.84 28.0971 Q1499.4 26.1121 1504.3 26.1121 Q1509.24 26.1121 1512.69 28.6237 Q1516.17 31.1352 1517.83 35.9153 Z\" fill=\"#000000\" fill-rule=\"evenodd\" fill-opacity=\"1\" /><path clip-path=\"url(#clip960)\" d=\"M1583.94 49.7694 Q1574.91 49.7694 1571.43 51.8354 Q1567.94 53.9013 1567.94 58.8839 Q1567.94 62.8538 1570.53 65.2034 Q1573.17 67.5124 1577.66 67.5124 Q1583.86 67.5124 1587.59 63.1374 Q1591.36 58.7219 1591.36 51.4303 L1591.36 49.7694 L1583.94 49.7694 M1598.81 46.6907 L1598.81 72.576 L1591.36 72.576 L1591.36 65.6895 Q1588.8 69.8214 1585 71.8063 Q1581.19 73.7508 1575.68 73.7508 Q1568.71 73.7508 1564.58 69.8619 Q1560.49 65.9325 1560.49 59.3701 Q1560.49 51.7138 1565.59 47.825 Q1570.74 43.9361 1580.9 43.9361 L1591.36 43.9361 L1591.36 43.2069 Q1591.36 38.0623 1587.95 35.2672 Q1584.59 32.4315 1578.47 32.4315 Q1574.59 32.4315 1570.9 33.3632 Q1567.21 34.295 1563.81 36.1584 L1563.81 29.2718 Q1567.9 27.692 1571.75 26.9223 Q1575.6 26.1121 1579.24 26.1121 Q1589.09 26.1121 1593.95 31.2163 Q1598.81 36.3204 1598.81 46.6907 Z\" fill=\"#000000\" fill-rule=\"evenodd\" fill-opacity=\"1\" /><path clip-path=\"url(#clip960)\" d=\"M1614.16 9.54393 L1621.62 9.54393 L1621.62 72.576 L1614.16 72.576 L1614.16 9.54393 Z\" fill=\"#000000\" fill-rule=\"evenodd\" fill-opacity=\"1\" /><path clip-path=\"url(#clip960)\" d=\"M1655.12 9.62495 Q1649.69 18.942 1647.06 28.0566 Q1644.42 37.1711 1644.42 46.5287 Q1644.42 55.8863 1647.06 65.0818 Q1649.73 74.2369 1655.12 83.5134 L1648.64 83.5134 Q1642.56 73.9938 1639.52 64.7983 Q1636.52 55.6027 1636.52 46.5287 Q1636.52 37.4952 1639.52 28.3401 Q1642.52 19.1851 1648.64 9.62495 L1655.12 9.62495 Z\" fill=\"#000000\" fill-rule=\"evenodd\" fill-opacity=\"1\" /><path clip-path=\"url(#clip960)\" d=\"M1688.13 17.4837 Q1681.81 17.4837 1678.61 23.7221 Q1675.45 29.92 1675.45 42.3968 Q1675.45 54.833 1678.61 61.0714 Q1681.81 67.2693 1688.13 67.2693 Q1694.49 67.2693 1697.65 61.0714 Q1700.85 54.833 1700.85 42.3968 Q1700.85 29.92 1697.65 23.7221 Q1694.49 17.4837 1688.13 17.4837 M1688.13 11.0023 Q1698.3 11.0023 1703.65 19.0636 Q1709.03 27.0843 1709.03 42.3968 Q1709.03 57.6687 1703.65 65.73 Q1698.3 73.7508 1688.13 73.7508 Q1677.96 73.7508 1672.58 65.73 Q1667.23 57.6687 1667.23 42.3968 Q1667.23 27.0843 1672.58 19.0636 Q1677.96 11.0023 1688.13 11.0023 Z\" fill=\"#000000\" fill-rule=\"evenodd\" fill-opacity=\"1\" /><path clip-path=\"url(#clip960)\" d=\"M1723.42 62.2867 L1731.96 62.2867 L1731.96 72.576 L1723.42 72.576 L1723.42 62.2867 Z\" fill=\"#000000\" fill-rule=\"evenodd\" fill-opacity=\"1\" /><path clip-path=\"url(#clip960)\" d=\"M1749.87 12.096 L1781.99 12.096 L1781.99 18.9825 L1757.36 18.9825 L1757.36 33.8088 Q1759.14 33.2012 1760.93 32.9176 Q1762.71 32.5936 1764.49 32.5936 Q1774.62 32.5936 1780.53 38.1433 Q1786.45 43.6931 1786.45 53.1722 Q1786.45 62.9348 1780.37 68.3631 Q1774.29 73.7508 1763.24 73.7508 Q1759.43 73.7508 1755.46 73.1026 Q1751.53 72.4545 1747.32 71.1582 L1747.32 62.9348 Q1750.96 64.9198 1754.85 65.892 Q1758.74 66.8642 1763.07 66.8642 Q1770.08 66.8642 1774.17 63.1779 Q1778.26 59.4916 1778.26 53.1722 Q1778.26 46.8528 1774.17 43.1664 Q1770.08 39.4801 1763.07 39.4801 Q1759.79 39.4801 1756.51 40.2093 Q1753.27 40.9384 1749.87 42.4778 L1749.87 12.096 Z\" fill=\"#000000\" fill-rule=\"evenodd\" fill-opacity=\"1\" /><path clip-path=\"url(#clip960)\" d=\"M1803.42 62.2867 L1811.97 62.2867 L1811.97 69.2543 L1805.32 82.2172 L1800.1 82.2172 L1803.42 69.2543 L1803.42 62.2867 Z\" fill=\"#000000\" fill-rule=\"evenodd\" fill-opacity=\"1\" /><path clip-path=\"url(#clip960)\" d=\"M1830.36 65.6895 L1843.73 65.6895 L1843.73 19.5497 L1829.18 22.4663 L1829.18 15.0127 L1843.65 12.096 L1851.83 12.096 L1851.83 65.6895 L1865.2 65.6895 L1865.2 72.576 L1830.36 72.576 L1830.36 65.6895 Z\" fill=\"#000000\" fill-rule=\"evenodd\" fill-opacity=\"1\" /><path clip-path=\"url(#clip960)\" d=\"M1882.58 62.2867 L1891.12 62.2867 L1891.12 69.2543 L1884.48 82.2172 L1879.25 82.2172 L1882.58 69.2543 L1882.58 62.2867 Z\" fill=\"#000000\" fill-rule=\"evenodd\" fill-opacity=\"1\" /><path clip-path=\"url(#clip960)\" d=\"M1925.6 17.4837 Q1919.28 17.4837 1916.08 23.7221 Q1912.92 29.92 1912.92 42.3968 Q1912.92 54.833 1916.08 61.0714 Q1919.28 67.2693 1925.6 67.2693 Q1931.96 67.2693 1935.12 61.0714 Q1938.32 54.833 1938.32 42.3968 Q1938.32 29.92 1935.12 23.7221 Q1931.96 17.4837 1925.6 17.4837 M1925.6 11.0023 Q1935.76 11.0023 1941.11 19.0636 Q1946.5 27.0843 1946.5 42.3968 Q1946.5 57.6687 1941.11 65.73 Q1935.76 73.7508 1925.6 73.7508 Q1915.43 73.7508 1910.04 65.73 Q1904.69 57.6687 1904.69 42.3968 Q1904.69 27.0843 1910.04 19.0636 Q1915.43 11.0023 1925.6 11.0023 Z\" fill=\"#000000\" fill-rule=\"evenodd\" fill-opacity=\"1\" /><path clip-path=\"url(#clip960)\" d=\"M1961.73 62.2867 L1970.28 62.2867 L1970.28 69.2543 L1963.63 82.2172 L1958.41 82.2172 L1961.73 69.2543 L1961.73 62.2867 Z\" fill=\"#000000\" fill-rule=\"evenodd\" fill-opacity=\"1\" /><path clip-path=\"url(#clip960)\" d=\"M1988.67 65.6895 L2002.04 65.6895 L2002.04 19.5497 L1987.49 22.4663 L1987.49 15.0127 L2001.96 12.096 L2010.14 12.096 L2010.14 65.6895 L2023.51 65.6895 L2023.51 72.576 L1988.67 72.576 L1988.67 65.6895 Z\" fill=\"#000000\" fill-rule=\"evenodd\" fill-opacity=\"1\" /><path clip-path=\"url(#clip960)\" d=\"M2037.81 9.62495 L2044.29 9.62495 Q2050.36 19.1851 2053.36 28.3401 Q2056.4 37.4952 2056.4 46.5287 Q2056.4 55.6027 2053.36 64.7983 Q2050.36 73.9938 2044.29 83.5134 L2037.81 83.5134 Q2043.19 74.2369 2045.83 65.0818 Q2048.5 55.8863 2048.5 46.5287 Q2048.5 37.1711 2045.83 28.0566 Q2043.19 18.942 2037.81 9.62495 Z\" fill=\"#000000\" fill-rule=\"evenodd\" fill-opacity=\"1\" /><polyline clip-path=\"url(#clip962)\" style=\"stroke:#009af9; stroke-linecap:butt; stroke-linejoin:round; stroke-width:4; stroke-opacity:1; fill:none\" points=\"\n",
       "  309.539,1048.03 714.398,954.428 1119.26,830.279 1524.12,654.739 1928.97,482.267 2293.24,295.244 \n",
       "  \"/>\n",
       "<polyline clip-path=\"url(#clip962)\" style=\"stroke:#e26f46; stroke-linecap:butt; stroke-linejoin:round; stroke-width:4; stroke-opacity:1; fill:none\" points=\"\n",
       "  309.539,1129.53 714.398,1041.11 1119.26,931.805 1524.12,762.345 1928.97,510.781 2293.24,160.256 \n",
       "  \"/>\n",
       "<polyline clip-path=\"url(#clip962)\" style=\"stroke:#3da44d; stroke-linecap:butt; stroke-linejoin:round; stroke-width:4; stroke-opacity:1; fill:none\" points=\"\n",
       "  309.539,1231.62 714.398,1152.27 1119.26,1018.75 1524.12,849.406 1928.97,632.838 2293.24,353.335 \n",
       "  \"/>\n",
       "<polyline clip-path=\"url(#clip962)\" style=\"stroke:#c271d2; stroke-linecap:butt; stroke-linejoin:round; stroke-width:4; stroke-opacity:1; fill:none\" points=\"\n",
       "  309.539,1315.19 714.398,1242.73 1119.26,1113.35 1524.12,950.226 1928.97,743.636 2293.24,478.291 \n",
       "  \"/>\n",
       "<polyline clip-path=\"url(#clip962)\" style=\"stroke:#ac8d18; stroke-linecap:butt; stroke-linejoin:round; stroke-width:4; stroke-opacity:1; fill:none\" points=\"\n",
       "  309.539,1386.4 714.398,1321.44 1119.26,1197.26 1524.12,1043.16 1928.97,851.888 2293.24,609.124 \n",
       "  \"/>\n",
       "<path clip-path=\"url(#clip960)\" d=\"\n",
       "M1888.03 477.836 L2282.66 477.836 L2282.66 166.796 L1888.03 166.796  Z\n",
       "  \" fill=\"#ffffff\" fill-rule=\"evenodd\" fill-opacity=\"1\"/>\n",
       "<polyline clip-path=\"url(#clip960)\" style=\"stroke:#000000; stroke-linecap:butt; stroke-linejoin:round; stroke-width:4; stroke-opacity:1; fill:none\" points=\"\n",
       "  1888.03,477.836 2282.66,477.836 2282.66,166.796 1888.03,166.796 1888.03,477.836 \n",
       "  \"/>\n",
       "<polyline clip-path=\"url(#clip960)\" style=\"stroke:#009af9; stroke-linecap:butt; stroke-linejoin:round; stroke-width:4; stroke-opacity:1; fill:none\" points=\"\n",
       "  1912.03,218.636 2056.03,218.636 \n",
       "  \"/>\n",
       "<path clip-path=\"url(#clip960)\" d=\"M2106.94 222.481 Q2106.89 222.716 2106.8 223.137 Q2106.71 223.535 2106.28 224.8 Q2105.86 226.065 2105.3 227.353 Q2104.76 228.618 2103.71 230.398 Q2102.68 232.155 2101.41 233.748 Q2101.06 234.169 2100.99 234.427 Q2100.94 234.661 2100.94 235.434 Q2100.94 240.306 2102.42 240.306 Q2102.49 240.306 2102.61 240.306 Q2102.75 240.282 2103.1 240.165 Q2103.47 240.025 2103.8 239.814 Q2104.13 239.58 2104.5 239.111 Q2104.88 238.619 2105.11 237.964 Q2105.32 237.495 2105.75 237.495 Q2106.31 237.495 2106.31 237.964 Q2106.31 238.807 2105.14 240.095 Q2103.97 241.383 2102.28 241.383 Q2100.66 241.383 2099.52 240.329 Q2098.39 239.252 2097.92 237.331 Q2092.86 241.383 2087.8 241.383 Q2084.24 241.383 2082.14 239.064 Q2080.03 236.722 2080.03 233.256 Q2080.03 229.93 2081.86 226.768 Q2083.71 223.606 2086.7 221.638 Q2089.73 219.647 2092.93 219.647 Q2094.06 219.647 2095.14 219.952 Q2096.21 220.233 2097.29 220.959 Q2098.37 221.685 2099.16 222.786 Q2099.96 223.887 2100.45 225.62 Q2100.94 227.353 2100.94 229.532 L2100.94 232.506 Q2104.04 228.595 2105.65 222.997 Q2105.89 222.153 2106.03 222.06 Q2106.12 221.99 2106.36 221.99 Q2106.59 221.99 2106.73 222.13 Q2106.89 222.247 2106.92 222.364 L2106.94 222.481 M2097.74 236.09 Q2097.64 235.27 2097.64 230.726 Q2097.64 229.859 2097.64 229.391 Q2097.64 228.899 2097.6 227.962 Q2097.55 227.025 2097.45 226.44 Q2097.38 225.854 2097.22 225.011 Q2097.06 224.168 2096.82 223.629 Q2096.59 223.09 2096.21 222.481 Q2095.86 221.872 2095.39 221.521 Q2094.95 221.17 2094.29 220.936 Q2093.66 220.701 2092.89 220.701 Q2091.93 220.701 2090.92 221.053 Q2089.94 221.381 2088.67 222.435 Q2087.41 223.465 2086.35 225.105 Q2085.25 226.838 2084.41 230.023 Q2083.59 233.185 2083.59 235.083 Q2083.59 237.472 2084.69 238.901 Q2085.79 240.306 2087.9 240.306 Q2092.93 240.306 2097.74 236.09 Z\" fill=\"#000000\" fill-rule=\"evenodd\" fill-opacity=\"1\" /><path clip-path=\"url(#clip960)\" d=\"M2123.72 233.56 Q2123.76 232.975 2124.68 232.975 L2154.07 232.975 Q2155.45 232.975 2155.48 233.513 Q2155.48 234.099 2154.17 234.076 L2125 234.076 Q2123.72 234.099 2123.72 233.56 M2123.72 224.191 Q2123.72 223.606 2124.72 223.629 L2154.02 223.629 Q2155.45 223.629 2155.48 224.191 Q2155.48 224.73 2154.26 224.73 L2124.68 224.73 Q2123.72 224.73 2123.72 224.191 Z\" fill=\"#000000\" fill-rule=\"evenodd\" fill-opacity=\"1\" /><path clip-path=\"url(#clip960)\" d=\"M2173.97 225.503 Q2173.97 218.453 2175.75 214.611 Q2178.23 208.896 2184.09 208.896 Q2185.33 208.896 2186.62 209.248 Q2187.93 209.576 2189.57 210.864 Q2191.23 212.152 2192.24 214.26 Q2194.16 218.336 2194.16 225.503 Q2194.16 232.506 2192.38 236.324 Q2189.78 241.899 2184.04 241.899 Q2181.88 241.899 2179.68 240.798 Q2177.5 239.697 2176.12 237.05 Q2173.97 233.092 2173.97 225.503 M2177.95 224.917 Q2177.95 232.155 2178.47 235.036 Q2179.05 238.151 2180.64 239.51 Q2182.26 240.845 2184.04 240.845 Q2185.96 240.845 2187.55 239.416 Q2189.17 237.964 2189.66 234.848 Q2190.2 231.78 2190.18 224.917 Q2190.18 218.242 2189.71 215.572 Q2189.08 212.457 2187.39 211.215 Q2185.73 209.95 2184.04 209.95 Q2183.41 209.95 2182.73 210.138 Q2182.07 210.325 2181.11 210.864 Q2180.15 211.403 2179.4 212.738 Q2178.68 214.073 2178.32 216.087 Q2177.95 218.687 2177.95 224.917 Z\" fill=\"#000000\" fill-rule=\"evenodd\" fill-opacity=\"1\" /><path clip-path=\"url(#clip960)\" d=\"M2198.44 240.072 Q2197.72 239.299 2197.72 238.292 Q2197.72 237.284 2198.44 236.558 Q2199.17 235.809 2200.27 235.809 Q2201.33 235.809 2202.03 236.511 Q2202.75 237.191 2202.75 238.315 Q2202.75 239.416 2201.98 240.142 Q2201.23 240.845 2200.27 240.845 Q2199.17 240.845 2198.44 240.072 Z\" fill=\"#000000\" fill-rule=\"evenodd\" fill-opacity=\"1\" /><path clip-path=\"url(#clip960)\" d=\"M2210.91 233.607 Q2210.91 228.243 2217.82 224.777 Q2214.85 222.762 2214.31 222.177 Q2212.2 219.835 2212.2 216.907 Q2212.2 213.557 2214.73 211.239 Q2217.29 208.896 2220.89 208.896 Q2224.34 208.896 2226.94 210.887 Q2229.54 212.878 2229.54 216.04 Q2229.54 220.49 2223.73 223.489 Q2227.57 225.878 2228.48 226.885 Q2230.82 229.485 2230.82 232.787 Q2230.82 236.629 2227.87 239.275 Q2224.92 241.899 2220.85 241.899 Q2216.86 241.899 2213.89 239.58 Q2210.91 237.261 2210.91 233.607 M2213.3 233.607 Q2213.3 236.582 2215.53 238.573 Q2217.78 240.564 2220.89 240.564 Q2223.91 240.564 2226.16 238.83 Q2228.43 237.097 2228.43 234.521 Q2228.43 233.513 2228.08 232.647 Q2227.76 231.78 2227.08 231.101 Q2226.42 230.398 2226 230.094 Q2225.6 229.766 2224.83 229.227 L2218.93 225.503 Q2213.3 228.618 2213.3 233.607 M2214.31 215.033 Q2214.31 217.328 2216.72 218.921 L2222.67 222.762 Q2227.43 219.975 2227.43 216.04 Q2227.43 213.487 2225.48 211.801 Q2223.54 210.091 2220.85 210.091 Q2218.2 210.091 2216.26 211.496 Q2214.31 212.878 2214.31 215.033 Z\" fill=\"#000000\" fill-rule=\"evenodd\" fill-opacity=\"1\" /><polyline clip-path=\"url(#clip960)\" style=\"stroke:#e26f46; stroke-linecap:butt; stroke-linejoin:round; stroke-width:4; stroke-opacity:1; fill:none\" points=\"\n",
       "  1912.03,270.476 2056.03,270.476 \n",
       "  \"/>\n",
       "<path clip-path=\"url(#clip960)\" d=\"M2106.94 274.548 Q2106.89 274.782 2106.8 275.204 Q2106.71 275.602 2106.28 276.867 Q2105.86 278.132 2105.3 279.42 Q2104.76 280.685 2103.71 282.465 Q2102.68 284.221 2101.41 285.814 Q2101.06 286.236 2100.99 286.493 Q2100.94 286.728 2100.94 287.501 Q2100.94 292.372 2102.42 292.372 Q2102.49 292.372 2102.61 292.372 Q2102.75 292.349 2103.1 292.232 Q2103.47 292.091 2103.8 291.881 Q2104.13 291.646 2104.5 291.178 Q2104.88 290.686 2105.11 290.03 Q2105.32 289.562 2105.75 289.562 Q2106.31 289.562 2106.31 290.03 Q2106.31 290.873 2105.14 292.162 Q2103.97 293.45 2102.28 293.45 Q2100.66 293.45 2099.52 292.396 Q2098.39 291.318 2097.92 289.398 Q2092.86 293.45 2087.8 293.45 Q2084.24 293.45 2082.14 291.131 Q2080.03 288.789 2080.03 285.322 Q2080.03 281.996 2081.86 278.834 Q2083.71 275.672 2086.7 273.705 Q2089.73 271.714 2092.93 271.714 Q2094.06 271.714 2095.14 272.018 Q2096.21 272.299 2097.29 273.025 Q2098.37 273.752 2099.16 274.852 Q2099.96 275.953 2100.45 277.687 Q2100.94 279.42 2100.94 281.598 L2100.94 284.573 Q2104.04 280.661 2105.65 275.063 Q2105.89 274.22 2106.03 274.126 Q2106.12 274.056 2106.36 274.056 Q2106.59 274.056 2106.73 274.197 Q2106.89 274.314 2106.92 274.431 L2106.94 274.548 M2097.74 288.156 Q2097.64 287.337 2097.64 282.793 Q2097.64 281.926 2097.64 281.458 Q2097.64 280.966 2097.6 280.029 Q2097.55 279.092 2097.45 278.506 Q2097.38 277.921 2097.22 277.078 Q2097.06 276.234 2096.82 275.696 Q2096.59 275.157 2096.21 274.548 Q2095.86 273.939 2095.39 273.588 Q2094.95 273.236 2094.29 273.002 Q2093.66 272.768 2092.89 272.768 Q2091.93 272.768 2090.92 273.119 Q2089.94 273.447 2088.67 274.501 Q2087.41 275.532 2086.35 277.171 Q2085.25 278.905 2084.41 282.09 Q2083.59 285.252 2083.59 287.149 Q2083.59 289.538 2084.69 290.967 Q2085.79 292.372 2087.9 292.372 Q2092.93 292.372 2097.74 288.156 Z\" fill=\"#000000\" fill-rule=\"evenodd\" fill-opacity=\"1\" /><path clip-path=\"url(#clip960)\" d=\"M2123.72 285.627 Q2123.76 285.041 2124.68 285.041 L2154.07 285.041 Q2155.45 285.041 2155.48 285.58 Q2155.48 286.165 2154.17 286.142 L2125 286.142 Q2123.72 286.165 2123.72 285.627 M2123.72 276.258 Q2123.72 275.672 2124.72 275.696 L2154.02 275.696 Q2155.45 275.696 2155.48 276.258 Q2155.48 276.797 2154.26 276.797 L2124.68 276.797 Q2123.72 276.797 2123.72 276.258 Z\" fill=\"#000000\" fill-rule=\"evenodd\" fill-opacity=\"1\" /><path clip-path=\"url(#clip960)\" d=\"M2173.97 277.569 Q2173.97 270.519 2175.75 266.678 Q2178.23 260.963 2184.09 260.963 Q2185.33 260.963 2186.62 261.314 Q2187.93 261.642 2189.57 262.93 Q2191.23 264.219 2192.24 266.327 Q2194.16 270.402 2194.16 277.569 Q2194.16 284.573 2192.38 288.391 Q2189.78 293.965 2184.04 293.965 Q2181.88 293.965 2179.68 292.864 Q2177.5 291.763 2176.12 289.117 Q2173.97 285.158 2173.97 277.569 M2177.95 276.984 Q2177.95 284.221 2178.47 287.102 Q2179.05 290.218 2180.64 291.576 Q2182.26 292.911 2184.04 292.911 Q2185.96 292.911 2187.55 291.482 Q2189.17 290.03 2189.66 286.915 Q2190.2 283.847 2190.18 276.984 Q2190.18 270.308 2189.71 267.638 Q2189.08 264.523 2187.39 263.282 Q2185.73 262.017 2184.04 262.017 Q2183.41 262.017 2182.73 262.204 Q2182.07 262.392 2181.11 262.93 Q2180.15 263.469 2179.4 264.804 Q2178.68 266.139 2178.32 268.154 Q2177.95 270.754 2177.95 276.984 Z\" fill=\"#000000\" fill-rule=\"evenodd\" fill-opacity=\"1\" /><path clip-path=\"url(#clip960)\" d=\"M2198.44 292.138 Q2197.72 291.365 2197.72 290.358 Q2197.72 289.351 2198.44 288.625 Q2199.17 287.875 2200.27 287.875 Q2201.33 287.875 2202.03 288.578 Q2202.75 289.257 2202.75 290.382 Q2202.75 291.482 2201.98 292.208 Q2201.23 292.911 2200.27 292.911 Q2199.17 292.911 2198.44 292.138 Z\" fill=\"#000000\" fill-rule=\"evenodd\" fill-opacity=\"1\" /><path clip-path=\"url(#clip960)\" d=\"M2210.91 270.355 L2212.48 260.494 L2213.68 260.494 Q2213.82 261.08 2214.05 261.338 Q2214.31 261.595 2215.67 261.806 Q2217.05 262.017 2219.84 262.017 L2231.48 262.017 Q2231.48 263.118 2231.06 263.703 L2224.57 272.815 Q2222.51 275.696 2221.6 281.013 Q2221.06 284.573 2221.08 288.882 L2221.08 291.318 Q2221.08 293.965 2218.86 293.965 Q2216.65 293.965 2216.65 291.318 Q2216.65 282.16 2222.56 273.283 Q2223.19 272.37 2225.51 269.114 Q2227.85 265.858 2227.94 265.718 L2218.01 265.718 Q2213.66 265.718 2213.3 265.999 Q2212.84 266.42 2212.11 270.355 L2210.91 270.355 Z\" fill=\"#000000\" fill-rule=\"evenodd\" fill-opacity=\"1\" /><polyline clip-path=\"url(#clip960)\" style=\"stroke:#3da44d; stroke-linecap:butt; stroke-linejoin:round; stroke-width:4; stroke-opacity:1; fill:none\" points=\"\n",
       "  1912.03,322.316 2056.03,322.316 \n",
       "  \"/>\n",
       "<path clip-path=\"url(#clip960)\" d=\"M2106.94 326.161 Q2106.89 326.396 2106.8 326.817 Q2106.71 327.215 2106.28 328.48 Q2105.86 329.745 2105.3 331.033 Q2104.76 332.298 2103.71 334.078 Q2102.68 335.835 2101.41 337.428 Q2101.06 337.849 2100.99 338.107 Q2100.94 338.341 2100.94 339.114 Q2100.94 343.986 2102.42 343.986 Q2102.49 343.986 2102.61 343.986 Q2102.75 343.962 2103.1 343.845 Q2103.47 343.705 2103.8 343.494 Q2104.13 343.26 2104.5 342.791 Q2104.88 342.299 2105.11 341.644 Q2105.32 341.175 2105.75 341.175 Q2106.31 341.175 2106.31 341.644 Q2106.31 342.487 2105.14 343.775 Q2103.97 345.063 2102.28 345.063 Q2100.66 345.063 2099.52 344.009 Q2098.39 342.932 2097.92 341.011 Q2092.86 345.063 2087.8 345.063 Q2084.24 345.063 2082.14 342.744 Q2080.03 340.402 2080.03 336.936 Q2080.03 333.61 2081.86 330.448 Q2083.71 327.286 2086.7 325.318 Q2089.73 323.327 2092.93 323.327 Q2094.06 323.327 2095.14 323.632 Q2096.21 323.913 2097.29 324.639 Q2098.37 325.365 2099.16 326.466 Q2099.96 327.567 2100.45 329.3 Q2100.94 331.033 2100.94 333.212 L2100.94 336.186 Q2104.04 332.275 2105.65 326.677 Q2105.89 325.833 2106.03 325.74 Q2106.12 325.67 2106.36 325.67 Q2106.59 325.67 2106.73 325.81 Q2106.89 325.927 2106.92 326.044 L2106.94 326.161 M2097.74 339.77 Q2097.64 338.95 2097.64 334.406 Q2097.64 333.539 2097.64 333.071 Q2097.64 332.579 2097.6 331.642 Q2097.55 330.705 2097.45 330.12 Q2097.38 329.534 2097.22 328.691 Q2097.06 327.848 2096.82 327.309 Q2096.59 326.77 2096.21 326.161 Q2095.86 325.552 2095.39 325.201 Q2094.95 324.85 2094.29 324.616 Q2093.66 324.381 2092.89 324.381 Q2091.93 324.381 2090.92 324.733 Q2089.94 325.061 2088.67 326.115 Q2087.41 327.145 2086.35 328.785 Q2085.25 330.518 2084.41 333.703 Q2083.59 336.865 2083.59 338.763 Q2083.59 341.152 2084.69 342.581 Q2085.79 343.986 2087.9 343.986 Q2092.93 343.986 2097.74 339.77 Z\" fill=\"#000000\" fill-rule=\"evenodd\" fill-opacity=\"1\" /><path clip-path=\"url(#clip960)\" d=\"M2123.72 337.24 Q2123.76 336.655 2124.68 336.655 L2154.07 336.655 Q2155.45 336.655 2155.48 337.193 Q2155.48 337.779 2154.17 337.756 L2125 337.756 Q2123.72 337.779 2123.72 337.24 M2123.72 327.871 Q2123.72 327.286 2124.72 327.309 L2154.02 327.309 Q2155.45 327.309 2155.48 327.871 Q2155.48 328.41 2154.26 328.41 L2124.68 328.41 Q2123.72 328.41 2123.72 327.871 Z\" fill=\"#000000\" fill-rule=\"evenodd\" fill-opacity=\"1\" /><path clip-path=\"url(#clip960)\" d=\"M2173.97 329.183 Q2173.97 322.133 2175.75 318.291 Q2178.23 312.576 2184.09 312.576 Q2185.33 312.576 2186.62 312.928 Q2187.93 313.256 2189.57 314.544 Q2191.23 315.832 2192.24 317.94 Q2194.16 322.016 2194.16 329.183 Q2194.16 336.186 2192.38 340.004 Q2189.78 345.579 2184.04 345.579 Q2181.88 345.579 2179.68 344.478 Q2177.5 343.377 2176.12 340.73 Q2173.97 336.772 2173.97 329.183 M2177.95 328.597 Q2177.95 335.835 2178.47 338.716 Q2179.05 341.831 2180.64 343.19 Q2182.26 344.525 2184.04 344.525 Q2185.96 344.525 2187.55 343.096 Q2189.17 341.644 2189.66 338.528 Q2190.2 335.46 2190.18 328.597 Q2190.18 321.922 2189.71 319.252 Q2189.08 316.137 2187.39 314.895 Q2185.73 313.63 2184.04 313.63 Q2183.41 313.63 2182.73 313.818 Q2182.07 314.005 2181.11 314.544 Q2180.15 315.083 2179.4 316.418 Q2178.68 317.753 2178.32 319.767 Q2177.95 322.367 2177.95 328.597 Z\" fill=\"#000000\" fill-rule=\"evenodd\" fill-opacity=\"1\" /><path clip-path=\"url(#clip960)\" d=\"M2198.44 343.752 Q2197.72 342.979 2197.72 341.972 Q2197.72 340.964 2198.44 340.238 Q2199.17 339.489 2200.27 339.489 Q2201.33 339.489 2202.03 340.191 Q2202.75 340.871 2202.75 341.995 Q2202.75 343.096 2201.98 343.822 Q2201.23 344.525 2200.27 344.525 Q2199.17 344.525 2198.44 343.752 Z\" fill=\"#000000\" fill-rule=\"evenodd\" fill-opacity=\"1\" /><path clip-path=\"url(#clip960)\" d=\"M2210.91 329.37 Q2210.91 321.828 2214.76 317.214 Q2218.6 312.576 2223.54 312.576 Q2226.42 312.576 2228.01 314.052 Q2229.63 315.504 2229.63 317.753 Q2229.63 318.994 2228.9 319.533 Q2228.18 320.072 2227.43 320.072 Q2226.56 320.072 2225.88 319.486 Q2225.2 318.9 2225.2 317.846 Q2225.2 315.692 2227.85 315.692 Q2226.61 313.771 2223.63 313.771 Q2222.72 313.771 2221.78 314.052 Q2220.85 314.31 2219.63 315.2 Q2218.41 316.09 2217.47 317.495 Q2216.54 318.9 2215.88 321.547 Q2215.22 324.194 2215.22 327.637 L2215.22 328.785 Q2217.19 324.03 2221.22 324.053 Q2225.25 324.053 2228.04 327.122 Q2230.82 330.19 2230.82 334.734 Q2230.82 339.395 2227.92 342.487 Q2225.02 345.579 2220.94 345.579 Q2219.11 345.579 2217.45 344.806 Q2215.81 344.056 2214.26 342.323 Q2212.74 340.59 2211.83 337.264 Q2210.91 333.938 2210.91 329.37 M2215.32 333.68 Q2215.32 338.388 2216.19 340.636 Q2216.33 341.011 2216.63 341.527 Q2216.96 342.042 2217.5 342.721 Q2218.06 343.377 2218.97 343.822 Q2219.89 344.244 2220.94 344.244 Q2224.15 344.244 2225.69 341.128 Q2226.51 339.395 2226.51 334.687 Q2226.51 329.886 2225.65 328.129 Q2224.17 325.154 2221.17 325.154 Q2219.16 325.154 2217.75 326.536 Q2216.37 327.918 2215.83 329.768 Q2215.32 331.619 2215.32 333.68 Z\" fill=\"#000000\" fill-rule=\"evenodd\" fill-opacity=\"1\" /><polyline clip-path=\"url(#clip960)\" style=\"stroke:#c271d2; stroke-linecap:butt; stroke-linejoin:round; stroke-width:4; stroke-opacity:1; fill:none\" points=\"\n",
       "  1912.03,374.156 2056.03,374.156 \n",
       "  \"/>\n",
       "<path clip-path=\"url(#clip960)\" d=\"M2106.94 378.001 Q2106.89 378.236 2106.8 378.657 Q2106.71 379.055 2106.28 380.32 Q2105.86 381.585 2105.3 382.873 Q2104.76 384.138 2103.71 385.918 Q2102.68 387.675 2101.41 389.268 Q2101.06 389.689 2100.99 389.947 Q2100.94 390.181 2100.94 390.954 Q2100.94 395.826 2102.42 395.826 Q2102.49 395.826 2102.61 395.826 Q2102.75 395.802 2103.1 395.685 Q2103.47 395.545 2103.8 395.334 Q2104.13 395.1 2104.5 394.631 Q2104.88 394.139 2105.11 393.484 Q2105.32 393.015 2105.75 393.015 Q2106.31 393.015 2106.31 393.484 Q2106.31 394.327 2105.14 395.615 Q2103.97 396.903 2102.28 396.903 Q2100.66 396.903 2099.52 395.849 Q2098.39 394.772 2097.92 392.851 Q2092.86 396.903 2087.8 396.903 Q2084.24 396.903 2082.14 394.584 Q2080.03 392.242 2080.03 388.776 Q2080.03 385.45 2081.86 382.288 Q2083.71 379.126 2086.7 377.158 Q2089.73 375.167 2092.93 375.167 Q2094.06 375.167 2095.14 375.472 Q2096.21 375.753 2097.29 376.479 Q2098.37 377.205 2099.16 378.306 Q2099.96 379.407 2100.45 381.14 Q2100.94 382.873 2100.94 385.052 L2100.94 388.026 Q2104.04 384.115 2105.65 378.517 Q2105.89 377.673 2106.03 377.58 Q2106.12 377.51 2106.36 377.51 Q2106.59 377.51 2106.73 377.65 Q2106.89 377.767 2106.92 377.884 L2106.94 378.001 M2097.74 391.61 Q2097.64 390.79 2097.64 386.246 Q2097.64 385.379 2097.64 384.911 Q2097.64 384.419 2097.6 383.482 Q2097.55 382.545 2097.45 381.96 Q2097.38 381.374 2097.22 380.531 Q2097.06 379.688 2096.82 379.149 Q2096.59 378.61 2096.21 378.001 Q2095.86 377.392 2095.39 377.041 Q2094.95 376.69 2094.29 376.456 Q2093.66 376.221 2092.89 376.221 Q2091.93 376.221 2090.92 376.573 Q2089.94 376.901 2088.67 377.955 Q2087.41 378.985 2086.35 380.625 Q2085.25 382.358 2084.41 385.543 Q2083.59 388.705 2083.59 390.603 Q2083.59 392.992 2084.69 394.421 Q2085.79 395.826 2087.9 395.826 Q2092.93 395.826 2097.74 391.61 Z\" fill=\"#000000\" fill-rule=\"evenodd\" fill-opacity=\"1\" /><path clip-path=\"url(#clip960)\" d=\"M2123.72 389.08 Q2123.76 388.495 2124.68 388.495 L2154.07 388.495 Q2155.45 388.495 2155.48 389.033 Q2155.48 389.619 2154.17 389.596 L2125 389.596 Q2123.72 389.619 2123.72 389.08 M2123.72 379.711 Q2123.72 379.126 2124.72 379.149 L2154.02 379.149 Q2155.45 379.149 2155.48 379.711 Q2155.48 380.25 2154.26 380.25 L2124.68 380.25 Q2123.72 380.25 2123.72 379.711 Z\" fill=\"#000000\" fill-rule=\"evenodd\" fill-opacity=\"1\" /><path clip-path=\"url(#clip960)\" d=\"M2173.97 381.023 Q2173.97 373.973 2175.75 370.131 Q2178.23 364.416 2184.09 364.416 Q2185.33 364.416 2186.62 364.768 Q2187.93 365.096 2189.57 366.384 Q2191.23 367.672 2192.24 369.78 Q2194.16 373.856 2194.16 381.023 Q2194.16 388.026 2192.38 391.844 Q2189.78 397.419 2184.04 397.419 Q2181.88 397.419 2179.68 396.318 Q2177.5 395.217 2176.12 392.57 Q2173.97 388.612 2173.97 381.023 M2177.95 380.437 Q2177.95 387.675 2178.47 390.556 Q2179.05 393.671 2180.64 395.03 Q2182.26 396.365 2184.04 396.365 Q2185.96 396.365 2187.55 394.936 Q2189.17 393.484 2189.66 390.368 Q2190.2 387.3 2190.18 380.437 Q2190.18 373.762 2189.71 371.092 Q2189.08 367.977 2187.39 366.735 Q2185.73 365.47 2184.04 365.47 Q2183.41 365.47 2182.73 365.658 Q2182.07 365.845 2181.11 366.384 Q2180.15 366.923 2179.4 368.258 Q2178.68 369.593 2178.32 371.607 Q2177.95 374.207 2177.95 380.437 Z\" fill=\"#000000\" fill-rule=\"evenodd\" fill-opacity=\"1\" /><path clip-path=\"url(#clip960)\" d=\"M2198.44 395.592 Q2197.72 394.819 2197.72 393.812 Q2197.72 392.804 2198.44 392.078 Q2199.17 391.329 2200.27 391.329 Q2201.33 391.329 2202.03 392.031 Q2202.75 392.711 2202.75 393.835 Q2202.75 394.936 2201.98 395.662 Q2201.23 396.365 2200.27 396.365 Q2199.17 396.365 2198.44 395.592 Z\" fill=\"#000000\" fill-rule=\"evenodd\" fill-opacity=\"1\" /><path clip-path=\"url(#clip960)\" d=\"M2210.91 388.635 Q2210.91 387.206 2211.69 386.668 Q2212.46 386.106 2213.28 386.106 Q2214.38 386.106 2215.01 386.808 Q2215.67 387.487 2215.67 388.448 Q2215.67 389.408 2215.01 390.111 Q2214.38 390.79 2213.28 390.79 Q2212.74 390.79 2212.46 390.696 Q2213.09 392.898 2215.01 394.491 Q2216.96 396.084 2219.51 396.084 Q2222.72 396.084 2224.64 392.968 Q2225.79 390.954 2225.79 386.387 Q2225.79 382.358 2224.92 380.344 Q2223.59 377.275 2220.85 377.275 Q2216.96 377.275 2214.66 380.625 Q2214.38 381.046 2214.05 381.07 Q2213.59 381.07 2213.47 380.812 Q2213.37 380.531 2213.37 379.805 L2213.37 365.611 Q2213.37 364.463 2213.84 364.463 Q2214.03 364.463 2214.43 364.604 Q2217.45 365.939 2220.8 365.962 Q2224.24 365.962 2227.33 364.557 Q2227.57 364.416 2227.71 364.416 Q2228.18 364.416 2228.2 364.955 Q2228.2 365.142 2227.8 365.705 Q2227.43 366.243 2226.61 366.969 Q2225.79 367.672 2224.73 368.351 Q2223.68 369.031 2222.13 369.499 Q2220.61 369.944 2218.93 369.944 Q2216.91 369.944 2214.85 369.312 L2214.85 378.657 Q2217.33 376.221 2220.94 376.221 Q2224.78 376.221 2227.43 379.313 Q2230.07 382.405 2230.07 386.715 Q2230.07 391.235 2226.94 394.327 Q2223.82 397.419 2219.6 397.419 Q2215.76 397.419 2213.33 394.678 Q2210.91 391.938 2210.91 388.635 Z\" fill=\"#000000\" fill-rule=\"evenodd\" fill-opacity=\"1\" /><polyline clip-path=\"url(#clip960)\" style=\"stroke:#ac8d18; stroke-linecap:butt; stroke-linejoin:round; stroke-width:4; stroke-opacity:1; fill:none\" points=\"\n",
       "  1912.03,425.996 2056.03,425.996 \n",
       "  \"/>\n",
       "<path clip-path=\"url(#clip960)\" d=\"M2106.94 430.107 Q2106.89 430.341 2106.8 430.763 Q2106.71 431.161 2106.28 432.426 Q2105.86 433.691 2105.3 434.979 Q2104.76 436.244 2103.71 438.024 Q2102.68 439.78 2101.41 441.373 Q2101.06 441.795 2100.99 442.052 Q2100.94 442.287 2100.94 443.06 Q2100.94 447.932 2102.42 447.932 Q2102.49 447.932 2102.61 447.932 Q2102.75 447.908 2103.1 447.791 Q2103.47 447.65 2103.8 447.44 Q2104.13 447.205 2104.5 446.737 Q2104.88 446.245 2105.11 445.589 Q2105.32 445.121 2105.75 445.121 Q2106.31 445.121 2106.31 445.589 Q2106.31 446.432 2105.14 447.721 Q2103.97 449.009 2102.28 449.009 Q2100.66 449.009 2099.52 447.955 Q2098.39 446.877 2097.92 444.957 Q2092.86 449.009 2087.8 449.009 Q2084.24 449.009 2082.14 446.69 Q2080.03 444.348 2080.03 440.881 Q2080.03 437.555 2081.86 434.393 Q2083.71 431.231 2086.7 429.264 Q2089.73 427.273 2092.93 427.273 Q2094.06 427.273 2095.14 427.577 Q2096.21 427.858 2097.29 428.585 Q2098.37 429.311 2099.16 430.412 Q2099.96 431.512 2100.45 433.246 Q2100.94 434.979 2100.94 437.157 L2100.94 440.132 Q2104.04 436.22 2105.65 430.622 Q2105.89 429.779 2106.03 429.685 Q2106.12 429.615 2106.36 429.615 Q2106.59 429.615 2106.73 429.756 Q2106.89 429.873 2106.92 429.99 L2106.94 430.107 M2097.74 443.715 Q2097.64 442.896 2097.64 438.352 Q2097.64 437.485 2097.64 437.017 Q2097.64 436.525 2097.6 435.588 Q2097.55 434.651 2097.45 434.065 Q2097.38 433.48 2097.22 432.637 Q2097.06 431.793 2096.82 431.255 Q2096.59 430.716 2096.21 430.107 Q2095.86 429.498 2095.39 429.147 Q2094.95 428.795 2094.29 428.561 Q2093.66 428.327 2092.89 428.327 Q2091.93 428.327 2090.92 428.678 Q2089.94 429.006 2088.67 430.06 Q2087.41 431.091 2086.35 432.73 Q2085.25 434.464 2084.41 437.649 Q2083.59 440.811 2083.59 442.708 Q2083.59 445.097 2084.69 446.526 Q2085.79 447.932 2087.9 447.932 Q2092.93 447.932 2097.74 443.715 Z\" fill=\"#000000\" fill-rule=\"evenodd\" fill-opacity=\"1\" /><path clip-path=\"url(#clip960)\" d=\"M2123.72 441.186 Q2123.76 440.6 2124.68 440.6 L2154.07 440.6 Q2155.45 440.6 2155.48 441.139 Q2155.48 441.725 2154.17 441.701 L2125 441.701 Q2123.72 441.725 2123.72 441.186 M2123.72 431.817 Q2123.72 431.231 2124.72 431.255 L2154.02 431.255 Q2155.45 431.255 2155.48 431.817 Q2155.48 432.356 2154.26 432.356 L2124.68 432.356 Q2123.72 432.356 2123.72 431.817 Z\" fill=\"#000000\" fill-rule=\"evenodd\" fill-opacity=\"1\" /><path clip-path=\"url(#clip960)\" d=\"M2173.97 433.129 Q2173.97 426.078 2175.75 422.237 Q2178.23 416.522 2184.09 416.522 Q2185.33 416.522 2186.62 416.873 Q2187.93 417.201 2189.57 418.489 Q2191.23 419.778 2192.24 421.886 Q2194.16 425.961 2194.16 433.129 Q2194.16 440.132 2192.38 443.95 Q2189.78 449.524 2184.04 449.524 Q2181.88 449.524 2179.68 448.423 Q2177.5 447.323 2176.12 444.676 Q2173.97 440.717 2173.97 433.129 M2177.95 432.543 Q2177.95 439.78 2178.47 442.661 Q2179.05 445.777 2180.64 447.135 Q2182.26 448.47 2184.04 448.47 Q2185.96 448.47 2187.55 447.041 Q2189.17 445.589 2189.66 442.474 Q2190.2 439.406 2190.18 432.543 Q2190.18 425.868 2189.71 423.197 Q2189.08 420.082 2187.39 418.841 Q2185.73 417.576 2184.04 417.576 Q2183.41 417.576 2182.73 417.763 Q2182.07 417.951 2181.11 418.489 Q2180.15 419.028 2179.4 420.363 Q2178.68 421.698 2178.32 423.713 Q2177.95 426.313 2177.95 432.543 Z\" fill=\"#000000\" fill-rule=\"evenodd\" fill-opacity=\"1\" /><path clip-path=\"url(#clip960)\" d=\"M2198.44 447.697 Q2197.72 446.924 2197.72 445.917 Q2197.72 444.91 2198.44 444.184 Q2199.17 443.434 2200.27 443.434 Q2201.33 443.434 2202.03 444.137 Q2202.75 444.816 2202.75 445.941 Q2202.75 447.041 2201.98 447.768 Q2201.23 448.47 2200.27 448.47 Q2199.17 448.47 2198.44 447.697 Z\" fill=\"#000000\" fill-rule=\"evenodd\" fill-opacity=\"1\" /><path clip-path=\"url(#clip960)\" d=\"M2210.91 440.553 L2210.91 439.078 L2225.65 416.569 Q2226.02 415.983 2226.61 416.007 Q2227.15 416.007 2227.26 416.218 Q2227.38 416.428 2227.38 417.248 L2227.38 439.078 L2232.18 439.078 L2232.18 440.553 L2227.38 440.553 L2227.38 444.723 Q2227.38 446.105 2227.94 446.55 Q2228.53 446.995 2231.01 446.995 L2232.02 446.995 L2232.02 448.47 Q2230.05 448.33 2225.51 448.33 Q2220.99 448.33 2219.02 448.47 L2219.02 446.995 L2220.03 446.995 Q2222.51 446.995 2223.09 446.573 Q2223.68 446.128 2223.68 444.723 L2223.68 440.553 L2210.91 440.553 M2212.27 439.078 L2223.96 439.078 L2223.96 421.183 L2212.27 439.078 Z\" fill=\"#000000\" fill-rule=\"evenodd\" fill-opacity=\"1\" /></svg>\n"
      ]
     },
     "execution_count": 34,
     "metadata": {},
     "output_type": "execute_result"
    }
   ],
   "source": [
    "p1 = plot(xil, maxrev1, label = L\"\\alpha=0.8\")\n",
    "p2 = plot(p1, xil, maxrev2, label = L\"\\alpha=0.7\")\n",
    "p3 = plot(p2, xil, maxrev3, label = L\"\\alpha=0.6\")\n",
    "p4 = plot(p3, xil, maxrev4, label = L\"\\alpha=0.5\")\n",
    "p3 = plot(p4, xil, maxrev5, title = \"Revenue, TruncatedNormal(0.5,1,0,1) \", label = L\"\\alpha=0.4\", xlab = L\"\\xi\" , ylab = \"Revenue\")\n"
   ]
  },
  {
   "cell_type": "markdown",
   "metadata": {},
   "source": [
    "Here I have limited the threshold to be smaller than the revenue maximizing price, as in lemma 4. Note that in general higher alpha means higher revenue across all xis, but the trend seems to fail at the tail end for alpha = 0.8 and alpha = 0.7"
   ]
  },
  {
   "cell_type": "code",
   "execution_count": null,
   "metadata": {},
   "outputs": [],
   "source": []
  },
  {
   "cell_type": "code",
   "execution_count": null,
   "metadata": {},
   "outputs": [],
   "source": []
  }
 ],
 "metadata": {
  "kernelspec": {
   "display_name": "Julia 1.7.1",
   "language": "julia",
   "name": "julia-1.7"
  },
  "language_info": {
   "file_extension": ".jl",
   "mimetype": "application/julia",
   "name": "julia",
   "version": "1.7.1"
  }
 },
 "nbformat": 4,
 "nbformat_minor": 4
}
