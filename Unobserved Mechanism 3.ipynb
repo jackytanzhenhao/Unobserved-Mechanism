{
 "cells": [
  {
   "cell_type": "code",
   "execution_count": 4,
   "metadata": {},
   "outputs": [],
   "source": [
    "using BlackBoxOptim, NLsolve, Distributions, QuadGK, Plots, LaTeXStrings, LeastSquaresOptim, Roots"
   ]
  },
  {
   "cell_type": "code",
   "execution_count": 2,
   "metadata": {},
   "outputs": [
    {
     "data": {
      "text/plain": [
       "phi (generic function with 1 method)"
      ]
     },
     "execution_count": 2,
     "metadata": {},
     "output_type": "execute_result"
    }
   ],
   "source": [
    "eqf(xi, w, t) = (1 - Fv(xi)) * phi(w) - t * (1 - Fv(t))\n",
    "phi(x) = x - (1 - Fv(x))/fv(x)"
   ]
  },
  {
   "cell_type": "markdown",
   "metadata": {},
   "source": [
    "Calculate unconstrained auction: As in the first part. "
   ]
  },
  {
   "cell_type": "code",
   "execution_count": 3,
   "metadata": {},
   "outputs": [
    {
     "data": {
      "text/plain": [
       "unconstrained_auc (generic function with 1 method)"
      ]
     },
     "execution_count": 3,
     "metadata": {},
     "output_type": "execute_result"
    }
   ],
   "source": [
    "function unconstrained_auc(alpha, Fval, n)\n",
    "    xi = [i for i = 0:0.1:1]\n",
    "    Fv(x) = cdf(Fval, x)\n",
    "    fv(x) = pdf(Fval,x)\n",
    "    function pi(x)\n",
    "        return  (1 - Fv(x[1])) * x[1]\n",
    "    end\n",
    "    #create a negative replica since the optimizer is finding the minimum. \n",
    "    pin(x) = -pi(x)\n",
    "    res = bboptimize(pin ; SearchRange = (0.0 , 1.0), NumDimensions = 1);\n",
    "    r_star = best_candidate(res)[1]\n",
    "    \n",
    "    values = []\n",
    "    for xi in filter(x -> x>r_star, [i for i = 0:0.01:1])\n",
    "        t = max(xi, r_star)\n",
    "        eqf(xi, w, t) = (1 - Fv(xi)) * phi(w) - t * (1 - Fv(t))\n",
    "        phi(x) = x - (1 - Fv(x))/fv(x)\n",
    "        eqf_a(w) = eqf(xi, w, t)\n",
    "        w_hat = fzero(eqf_a,0,0.999)\n",
    "        #calculate lhs\n",
    "        Q_eps(alpha, w, xi, n) = ((1 - alpha)*Fv(w) + alpha * Fv(xi))^(n-1)\n",
    "        Q_eps_a(w) = Q_eps(alpha, w, xi, n)\n",
    "        l_value = quadgk(Q_eps_a, r_star, w_hat)[1]\n",
    "        #calculate rhs\n",
    "        t_adc = max(xi, r_star)\n",
    "        Qeps2(xi,w,alpha)=(((1-alpha)*Fv(w)+alpha)^n - ((1-alpha)*Fv(w)+ alpha*Fv(xi))^n)/(alpha * (1-Fv(xi)))\n",
    "        r_value = Qeps2(xi,w_hat,alpha)*max(w_hat - t_adc)\n",
    "        push!(values, [r_star, xi, w_hat, l_value, r_value])\n",
    "    end\n",
    "    return(values)\n",
    "end\n",
    "#we can confirm this works ok now"
   ]
  },
  {
   "cell_type": "code",
   "execution_count": 5,
   "metadata": {},
   "outputs": [
    {
     "name": "stdout",
     "output_type": "stream",
     "text": [
      "Starting optimization with optimizer DiffEvoOpt{FitPopulation{Float64}, RadiusLimitedSelector, BlackBoxOptim.AdaptiveDiffEvoRandBin{3}, RandomBound{ContinuousRectSearchSpace}}\n",
      "0.00 secs, 0 evals, 0 steps\n",
      "\n",
      "Optimization stopped after 10001 steps and 0.09 seconds\n",
      "Termination reason: Max number of steps (10000) reached\n",
      "Steps per second = 113333.53\n",
      "Function evals per second = 114489.42\n",
      "Improvements/step = 0.64490\n",
      "Total function evaluations = 10103\n",
      "\n",
      "\n",
      "Best candidate found: [0.5]\n",
      "\n",
      "Fitness: -0.250000000\n",
      "\n"
     ]
    },
    {
     "data": {
      "text/plain": [
       "50-element Vector{Any}:\n",
       " [0.5000000006365414, 0.51, 0.755, 0.07263394483573159, 0.42838029500000013]\n",
       " [0.5000000006365414, 0.52, 0.76, 0.07643722649718371, 0.4247193599999999]\n",
       " [0.5000000006365414, 0.53, 0.765, 0.08037034815855436, 0.42088946500000013]\n",
       " [0.5000000006365414, 0.54, 0.77, 0.08443547981984352, 0.4168878799999998]\n",
       " [0.5000000006365414, 0.55, 0.775, 0.0886347914810512, 0.4127118750000001]\n",
       " [0.5000000006365414, 0.56, 0.78, 0.09297045314217742, 0.40835871999999984]\n",
       " [0.5000000006365414, 0.57, 0.785, 0.09744463480322213, 0.40382568500000016]\n",
       " [0.5000000006365414, 0.58, 0.79, 0.10205950646418539, 0.39911004000000005]\n",
       " [0.5000000006365414, 0.59, 0.795, 0.10681723812506717, 0.39420905500000025]\n",
       " [0.5000000006365414, 0.6, 0.7999999999999999, 0.11171999978586744, 0.38911999999999985]\n",
       " [0.5000000006365414, 0.61, 0.8049999999999999, 0.11676996144658626, 0.38384014499999985]\n",
       " [0.5000000006365414, 0.62, 0.81, 0.12196929310722365, 0.3783667600000001]\n",
       " [0.5000000006365414, 0.63, 0.8150000000000001, 0.12732016476777955, 0.37269711500000025]\n",
       " ⋮\n",
       " [0.5000000006365414, 0.89, 0.9450000000000001, 0.32674228791363363, 0.14745560500000013]\n",
       " [0.5000000006365414, 0.9, 0.9500000000000001, 0.3370049995719897, 0.13545500000000002]\n",
       " [0.5000000006365414, 0.91, 0.9550000000000001, 0.34748001123026423, 0.12318169500000004]\n",
       " [0.5000000006365414, 0.92, 0.9600000000000001, 0.35816949288845723, 0.11063296]\n",
       " [0.5000000006365414, 0.93, 0.9650000000000001, 0.36907561454656884, 0.09780606499999997]\n",
       " [0.5000000006365414, 0.94, 0.97, 0.3802005462045987, 0.08469828000000006]\n",
       " [0.5000000006365414, 0.95, 0.975, 0.3915464578625473, 0.07130687500000003]\n",
       " [0.5000000006365414, 0.96, 0.98, 0.40311551952041447, 0.05762912000000001]\n",
       " [0.5000000006365414, 0.97, 0.985, 0.4149099011782001, 0.043662285000000065]\n",
       " [0.5000000006365414, 0.98, 0.99, 0.4269317728359043, 0.02940364000000001]\n",
       " [0.5000000006365414, 0.99, 0.995, 0.43918330449352694, 0.01485045500000004]\n",
       " [0.5000000006365414, 1.0, 0.999, 0.4506668661377348, NaN]"
      ]
     },
     "execution_count": 5,
     "metadata": {},
     "output_type": "execute_result"
    }
   ],
   "source": [
    "unconstrained_auc(0.8, Uniform(0,1) ,3)"
   ]
  },
  {
   "cell_type": "code",
   "execution_count": 5,
   "metadata": {},
   "outputs": [
    {
     "name": "stdout",
     "output_type": "stream",
     "text": [
      "Starting optimization with optimizer DiffEvoOpt{FitPopulation{Float64}, RadiusLimitedSelector, BlackBoxOptim.AdaptiveDiffEvoRandBin{3}, RandomBound{ContinuousRectSearchSpace}}\n",
      "0.00 secs, 0 evals, 0 steps\n",
      "\n",
      "Optimization stopped after 10001 steps and 0.01 seconds\n",
      "Termination reason: Max number of steps (10000) reached\n",
      "Steps per second = 1242071.37\n",
      "Function evals per second = 1181588.54\n",
      "Improvements/step = 0.21940\n",
      "Total function evaluations = 9514\n",
      "\n",
      "\n",
      "Best candidate found: [0.397915]\n",
      "\n",
      "Fitness: -0.127079071\n",
      "\n"
     ]
    },
    {
     "data": {
      "text/plain": [
       "61-element Vector{Float64}:\n",
       "   0.5727917927724453\n",
       "   0.5693829407873319\n",
       "   0.5657367429870646\n",
       "   0.5618551801299095\n",
       "   0.5577401599951503\n",
       "   0.553393524330733\n",
       "   0.5488170551129589\n",
       "   0.5440124801977841\n",
       "   0.5389814784324908\n",
       "   0.5337256842872772\n",
       "   0.5282466920585931\n",
       "   0.5225460596893778\n",
       "   0.5166253122457473\n",
       "   ⋮\n",
       "   0.15527773673349216\n",
       "   0.14198658533357938\n",
       "   0.12852656475358834\n",
       "   0.11489896255167714\n",
       "   0.10110506730223315\n",
       "   0.08714616850207577\n",
       "   0.0730235564640637\n",
       "   0.05873852219892693\n",
       "   0.04429235728618434\n",
       "   0.02968635373489498\n",
       "   0.01492180383500417\n",
       " NaN"
      ]
     },
     "execution_count": 5,
     "metadata": {},
     "output_type": "execute_result"
    }
   ],
   "source": [
    "v_3 = [i for i = unconstrained_auc(0.8, Truncated(Chi(0.5),0,1),3)]\n",
    "v_lhs3 = [i[4] for i in v_3]\n",
    "v_rhs3 = [i[5] for i in v_3]"
   ]
  },
  {
   "cell_type": "code",
   "execution_count": 6,
   "metadata": {},
   "outputs": [
    {
     "data": {
      "image/svg+xml": [
       "<?xml version=\"1.0\" encoding=\"utf-8\"?>\n",
       "<svg xmlns=\"http://www.w3.org/2000/svg\" xmlns:xlink=\"http://www.w3.org/1999/xlink\" width=\"600\" height=\"400\" viewBox=\"0 0 2400 1600\">\n",
       "<defs>\n",
       "  <clipPath id=\"clip410\">\n",
       "    <rect x=\"0\" y=\"0\" width=\"2400\" height=\"1600\"/>\n",
       "  </clipPath>\n",
       "</defs>\n",
       "<path clip-path=\"url(#clip410)\" d=\"\n",
       "M0 1600 L2400 1600 L2400 0 L0 0  Z\n",
       "  \" fill=\"#ffffff\" fill-rule=\"evenodd\" fill-opacity=\"1\"/>\n",
       "<defs>\n",
       "  <clipPath id=\"clip411\">\n",
       "    <rect x=\"480\" y=\"0\" width=\"1681\" height=\"1600\"/>\n",
       "  </clipPath>\n",
       "</defs>\n",
       "<path clip-path=\"url(#clip410)\" d=\"\n",
       "M194.422 1486.45 L2352.76 1486.45 L2352.76 47.2441 L194.422 47.2441  Z\n",
       "  \" fill=\"#ffffff\" fill-rule=\"evenodd\" fill-opacity=\"1\"/>\n",
       "<defs>\n",
       "  <clipPath id=\"clip412\">\n",
       "    <rect x=\"194\" y=\"47\" width=\"2159\" height=\"1440\"/>\n",
       "  </clipPath>\n",
       "</defs>\n",
       "<polyline clip-path=\"url(#clip412)\" style=\"stroke:#000000; stroke-linecap:butt; stroke-linejoin:round; stroke-width:2; stroke-opacity:0.1; fill:none\" points=\"\n",
       "  255.507,1486.45 255.507,47.2441 \n",
       "  \"/>\n",
       "<polyline clip-path=\"url(#clip412)\" style=\"stroke:#000000; stroke-linecap:butt; stroke-linejoin:round; stroke-width:2; stroke-opacity:0.1; fill:none\" points=\"\n",
       "  594.868,1486.45 594.868,47.2441 \n",
       "  \"/>\n",
       "<polyline clip-path=\"url(#clip412)\" style=\"stroke:#000000; stroke-linecap:butt; stroke-linejoin:round; stroke-width:2; stroke-opacity:0.1; fill:none\" points=\"\n",
       "  934.228,1486.45 934.228,47.2441 \n",
       "  \"/>\n",
       "<polyline clip-path=\"url(#clip412)\" style=\"stroke:#000000; stroke-linecap:butt; stroke-linejoin:round; stroke-width:2; stroke-opacity:0.1; fill:none\" points=\"\n",
       "  1273.59,1486.45 1273.59,47.2441 \n",
       "  \"/>\n",
       "<polyline clip-path=\"url(#clip412)\" style=\"stroke:#000000; stroke-linecap:butt; stroke-linejoin:round; stroke-width:2; stroke-opacity:0.1; fill:none\" points=\"\n",
       "  1612.95,1486.45 1612.95,47.2441 \n",
       "  \"/>\n",
       "<polyline clip-path=\"url(#clip412)\" style=\"stroke:#000000; stroke-linecap:butt; stroke-linejoin:round; stroke-width:2; stroke-opacity:0.1; fill:none\" points=\"\n",
       "  1952.31,1486.45 1952.31,47.2441 \n",
       "  \"/>\n",
       "<polyline clip-path=\"url(#clip412)\" style=\"stroke:#000000; stroke-linecap:butt; stroke-linejoin:round; stroke-width:2; stroke-opacity:0.1; fill:none\" points=\"\n",
       "  2291.67,1486.45 2291.67,47.2441 \n",
       "  \"/>\n",
       "<polyline clip-path=\"url(#clip410)\" style=\"stroke:#000000; stroke-linecap:butt; stroke-linejoin:round; stroke-width:4; stroke-opacity:1; fill:none\" points=\"\n",
       "  194.422,1486.45 2352.76,1486.45 \n",
       "  \"/>\n",
       "<polyline clip-path=\"url(#clip410)\" style=\"stroke:#000000; stroke-linecap:butt; stroke-linejoin:round; stroke-width:4; stroke-opacity:1; fill:none\" points=\"\n",
       "  255.507,1486.45 255.507,1467.55 \n",
       "  \"/>\n",
       "<polyline clip-path=\"url(#clip410)\" style=\"stroke:#000000; stroke-linecap:butt; stroke-linejoin:round; stroke-width:4; stroke-opacity:1; fill:none\" points=\"\n",
       "  594.868,1486.45 594.868,1467.55 \n",
       "  \"/>\n",
       "<polyline clip-path=\"url(#clip410)\" style=\"stroke:#000000; stroke-linecap:butt; stroke-linejoin:round; stroke-width:4; stroke-opacity:1; fill:none\" points=\"\n",
       "  934.228,1486.45 934.228,1467.55 \n",
       "  \"/>\n",
       "<polyline clip-path=\"url(#clip410)\" style=\"stroke:#000000; stroke-linecap:butt; stroke-linejoin:round; stroke-width:4; stroke-opacity:1; fill:none\" points=\"\n",
       "  1273.59,1486.45 1273.59,1467.55 \n",
       "  \"/>\n",
       "<polyline clip-path=\"url(#clip410)\" style=\"stroke:#000000; stroke-linecap:butt; stroke-linejoin:round; stroke-width:4; stroke-opacity:1; fill:none\" points=\"\n",
       "  1612.95,1486.45 1612.95,1467.55 \n",
       "  \"/>\n",
       "<polyline clip-path=\"url(#clip410)\" style=\"stroke:#000000; stroke-linecap:butt; stroke-linejoin:round; stroke-width:4; stroke-opacity:1; fill:none\" points=\"\n",
       "  1952.31,1486.45 1952.31,1467.55 \n",
       "  \"/>\n",
       "<polyline clip-path=\"url(#clip410)\" style=\"stroke:#000000; stroke-linecap:butt; stroke-linejoin:round; stroke-width:4; stroke-opacity:1; fill:none\" points=\"\n",
       "  2291.67,1486.45 2291.67,1467.55 \n",
       "  \"/>\n",
       "<path clip-path=\"url(#clip410)\" d=\"M232.648 1517.37 Q229.037 1517.37 227.209 1520.93 Q225.403 1524.47 225.403 1531.6 Q225.403 1538.71 227.209 1542.27 Q229.037 1545.82 232.648 1545.82 Q236.283 1545.82 238.088 1542.27 Q239.917 1538.71 239.917 1531.6 Q239.917 1524.47 238.088 1520.93 Q236.283 1517.37 232.648 1517.37 M232.648 1513.66 Q238.459 1513.66 241.514 1518.27 Q244.593 1522.85 244.593 1531.6 Q244.593 1540.33 241.514 1544.94 Q238.459 1549.52 232.648 1549.52 Q226.838 1549.52 223.76 1544.94 Q220.704 1540.33 220.704 1531.6 Q220.704 1522.85 223.76 1518.27 Q226.838 1513.66 232.648 1513.66 Z\" fill=\"#000000\" fill-rule=\"evenodd\" fill-opacity=\"1\" /><path clip-path=\"url(#clip410)\" d=\"M252.81 1542.97 L257.695 1542.97 L257.695 1548.85 L252.81 1548.85 L252.81 1542.97 Z\" fill=\"#000000\" fill-rule=\"evenodd\" fill-opacity=\"1\" /><path clip-path=\"url(#clip410)\" d=\"M280.727 1518.36 L268.921 1536.81 L280.727 1536.81 L280.727 1518.36 M279.5 1514.29 L285.38 1514.29 L285.38 1536.81 L290.31 1536.81 L290.31 1540.7 L285.38 1540.7 L285.38 1548.85 L280.727 1548.85 L280.727 1540.7 L265.125 1540.7 L265.125 1536.19 L279.5 1514.29 Z\" fill=\"#000000\" fill-rule=\"evenodd\" fill-opacity=\"1\" /><path clip-path=\"url(#clip410)\" d=\"M572.75 1517.37 Q569.139 1517.37 567.31 1520.93 Q565.504 1524.47 565.504 1531.6 Q565.504 1538.71 567.31 1542.27 Q569.139 1545.82 572.75 1545.82 Q576.384 1545.82 578.19 1542.27 Q580.018 1538.71 580.018 1531.6 Q580.018 1524.47 578.19 1520.93 Q576.384 1517.37 572.75 1517.37 M572.75 1513.66 Q578.56 1513.66 581.615 1518.27 Q584.694 1522.85 584.694 1531.6 Q584.694 1540.33 581.615 1544.94 Q578.56 1549.52 572.75 1549.52 Q566.94 1549.52 563.861 1544.94 Q560.805 1540.33 560.805 1531.6 Q560.805 1522.85 563.861 1518.27 Q566.94 1513.66 572.75 1513.66 Z\" fill=\"#000000\" fill-rule=\"evenodd\" fill-opacity=\"1\" /><path clip-path=\"url(#clip410)\" d=\"M592.912 1542.97 L597.796 1542.97 L597.796 1548.85 L592.912 1548.85 L592.912 1542.97 Z\" fill=\"#000000\" fill-rule=\"evenodd\" fill-opacity=\"1\" /><path clip-path=\"url(#clip410)\" d=\"M608.027 1514.29 L626.384 1514.29 L626.384 1518.22 L612.31 1518.22 L612.31 1526.7 Q613.328 1526.35 614.347 1526.19 Q615.365 1526 616.384 1526 Q622.171 1526 625.55 1529.17 Q628.93 1532.34 628.93 1537.76 Q628.93 1543.34 625.458 1546.44 Q621.986 1549.52 615.666 1549.52 Q613.49 1549.52 611.222 1549.15 Q608.976 1548.78 606.569 1548.04 L606.569 1543.34 Q608.652 1544.47 610.875 1545.03 Q613.097 1545.58 615.574 1545.58 Q619.578 1545.58 621.916 1543.48 Q624.254 1541.37 624.254 1537.76 Q624.254 1534.15 621.916 1532.04 Q619.578 1529.94 615.574 1529.94 Q613.699 1529.94 611.824 1530.35 Q609.972 1530.77 608.027 1531.65 L608.027 1514.29 Z\" fill=\"#000000\" fill-rule=\"evenodd\" fill-opacity=\"1\" /><path clip-path=\"url(#clip410)\" d=\"M911.532 1517.37 Q907.921 1517.37 906.092 1520.93 Q904.286 1524.47 904.286 1531.6 Q904.286 1538.71 906.092 1542.27 Q907.921 1545.82 911.532 1545.82 Q915.166 1545.82 916.971 1542.27 Q918.8 1538.71 918.8 1531.6 Q918.8 1524.47 916.971 1520.93 Q915.166 1517.37 911.532 1517.37 M911.532 1513.66 Q917.342 1513.66 920.397 1518.27 Q923.476 1522.85 923.476 1531.6 Q923.476 1540.33 920.397 1544.94 Q917.342 1549.52 911.532 1549.52 Q905.722 1549.52 902.643 1544.94 Q899.587 1540.33 899.587 1531.6 Q899.587 1522.85 902.643 1518.27 Q905.722 1513.66 911.532 1513.66 Z\" fill=\"#000000\" fill-rule=\"evenodd\" fill-opacity=\"1\" /><path clip-path=\"url(#clip410)\" d=\"M931.694 1542.97 L936.578 1542.97 L936.578 1548.85 L931.694 1548.85 L931.694 1542.97 Z\" fill=\"#000000\" fill-rule=\"evenodd\" fill-opacity=\"1\" /><path clip-path=\"url(#clip410)\" d=\"M957.342 1529.7 Q954.194 1529.7 952.342 1531.86 Q950.513 1534.01 950.513 1537.76 Q950.513 1541.49 952.342 1543.66 Q954.194 1545.82 957.342 1545.82 Q960.49 1545.82 962.318 1543.66 Q964.17 1541.49 964.17 1537.76 Q964.17 1534.01 962.318 1531.86 Q960.49 1529.7 957.342 1529.7 M966.624 1515.05 L966.624 1519.31 Q964.865 1518.48 963.059 1518.04 Q961.277 1517.6 959.518 1517.6 Q954.888 1517.6 952.434 1520.72 Q950.004 1523.85 949.657 1530.17 Q951.022 1528.15 953.082 1527.09 Q955.143 1526 957.619 1526 Q962.828 1526 965.837 1529.17 Q968.869 1532.32 968.869 1537.76 Q968.869 1543.08 965.721 1546.3 Q962.573 1549.52 957.342 1549.52 Q951.346 1549.52 948.175 1544.94 Q945.004 1540.33 945.004 1531.6 Q945.004 1523.41 948.893 1518.55 Q952.781 1513.66 959.332 1513.66 Q961.092 1513.66 962.874 1514.01 Q964.68 1514.36 966.624 1515.05 Z\" fill=\"#000000\" fill-rule=\"evenodd\" fill-opacity=\"1\" /><path clip-path=\"url(#clip410)\" d=\"M1251.42 1517.37 Q1247.81 1517.37 1245.98 1520.93 Q1244.18 1524.47 1244.18 1531.6 Q1244.18 1538.71 1245.98 1542.27 Q1247.81 1545.82 1251.42 1545.82 Q1255.06 1545.82 1256.86 1542.27 Q1258.69 1538.71 1258.69 1531.6 Q1258.69 1524.47 1256.86 1520.93 Q1255.06 1517.37 1251.42 1517.37 M1251.42 1513.66 Q1257.23 1513.66 1260.29 1518.27 Q1263.37 1522.85 1263.37 1531.6 Q1263.37 1540.33 1260.29 1544.94 Q1257.23 1549.52 1251.42 1549.52 Q1245.61 1549.52 1242.54 1544.94 Q1239.48 1540.33 1239.48 1531.6 Q1239.48 1522.85 1242.54 1518.27 Q1245.61 1513.66 1251.42 1513.66 Z\" fill=\"#000000\" fill-rule=\"evenodd\" fill-opacity=\"1\" /><path clip-path=\"url(#clip410)\" d=\"M1271.59 1542.97 L1276.47 1542.97 L1276.47 1548.85 L1271.59 1548.85 L1271.59 1542.97 Z\" fill=\"#000000\" fill-rule=\"evenodd\" fill-opacity=\"1\" /><path clip-path=\"url(#clip410)\" d=\"M1285.48 1514.29 L1307.7 1514.29 L1307.7 1516.28 L1295.15 1548.85 L1290.27 1548.85 L1302.07 1518.22 L1285.48 1518.22 L1285.48 1514.29 Z\" fill=\"#000000\" fill-rule=\"evenodd\" fill-opacity=\"1\" /><path clip-path=\"url(#clip410)\" d=\"M1590.38 1517.37 Q1586.77 1517.37 1584.94 1520.93 Q1583.14 1524.47 1583.14 1531.6 Q1583.14 1538.71 1584.94 1542.27 Q1586.77 1545.82 1590.38 1545.82 Q1594.01 1545.82 1595.82 1542.27 Q1597.65 1538.71 1597.65 1531.6 Q1597.65 1524.47 1595.82 1520.93 Q1594.01 1517.37 1590.38 1517.37 M1590.38 1513.66 Q1596.19 1513.66 1599.25 1518.27 Q1602.32 1522.85 1602.32 1531.6 Q1602.32 1540.33 1599.25 1544.94 Q1596.19 1549.52 1590.38 1549.52 Q1584.57 1549.52 1581.49 1544.94 Q1578.44 1540.33 1578.44 1531.6 Q1578.44 1522.85 1581.49 1518.27 Q1584.57 1513.66 1590.38 1513.66 Z\" fill=\"#000000\" fill-rule=\"evenodd\" fill-opacity=\"1\" /><path clip-path=\"url(#clip410)\" d=\"M1610.54 1542.97 L1615.43 1542.97 L1615.43 1548.85 L1610.54 1548.85 L1610.54 1542.97 Z\" fill=\"#000000\" fill-rule=\"evenodd\" fill-opacity=\"1\" /><path clip-path=\"url(#clip410)\" d=\"M1635.61 1532.44 Q1632.28 1532.44 1630.36 1534.22 Q1628.46 1536 1628.46 1539.13 Q1628.46 1542.25 1630.36 1544.03 Q1632.28 1545.82 1635.61 1545.82 Q1638.94 1545.82 1640.87 1544.03 Q1642.79 1542.23 1642.79 1539.13 Q1642.79 1536 1640.87 1534.22 Q1638.97 1532.44 1635.61 1532.44 M1630.94 1530.45 Q1627.93 1529.7 1626.24 1527.64 Q1624.57 1525.58 1624.57 1522.62 Q1624.57 1518.48 1627.51 1516.07 Q1630.47 1513.66 1635.61 1513.66 Q1640.77 1513.66 1643.71 1516.07 Q1646.65 1518.48 1646.65 1522.62 Q1646.65 1525.58 1644.96 1527.64 Q1643.3 1529.7 1640.31 1530.45 Q1643.69 1531.23 1645.57 1533.52 Q1647.46 1535.82 1647.46 1539.13 Q1647.46 1544.15 1644.38 1546.83 Q1641.33 1549.52 1635.61 1549.52 Q1629.89 1549.52 1626.82 1546.83 Q1623.76 1544.15 1623.76 1539.13 Q1623.76 1535.82 1625.66 1533.52 Q1627.56 1531.23 1630.94 1530.45 M1629.22 1523.06 Q1629.22 1525.75 1630.89 1527.25 Q1632.58 1528.76 1635.61 1528.76 Q1638.62 1528.76 1640.31 1527.25 Q1642.02 1525.75 1642.02 1523.06 Q1642.02 1520.38 1640.31 1518.87 Q1638.62 1517.37 1635.61 1517.37 Q1632.58 1517.37 1630.89 1518.87 Q1629.22 1520.38 1629.22 1523.06 Z\" fill=\"#000000\" fill-rule=\"evenodd\" fill-opacity=\"1\" /><path clip-path=\"url(#clip410)\" d=\"M1929.79 1517.37 Q1926.18 1517.37 1924.35 1520.93 Q1922.54 1524.47 1922.54 1531.6 Q1922.54 1538.71 1924.35 1542.27 Q1926.18 1545.82 1929.79 1545.82 Q1933.42 1545.82 1935.23 1542.27 Q1937.06 1538.71 1937.06 1531.6 Q1937.06 1524.47 1935.23 1520.93 Q1933.42 1517.37 1929.79 1517.37 M1929.79 1513.66 Q1935.6 1513.66 1938.65 1518.27 Q1941.73 1522.85 1941.73 1531.6 Q1941.73 1540.33 1938.65 1544.94 Q1935.6 1549.52 1929.79 1549.52 Q1923.98 1549.52 1920.9 1544.94 Q1917.84 1540.33 1917.84 1531.6 Q1917.84 1522.85 1920.9 1518.27 Q1923.98 1513.66 1929.79 1513.66 Z\" fill=\"#000000\" fill-rule=\"evenodd\" fill-opacity=\"1\" /><path clip-path=\"url(#clip410)\" d=\"M1949.95 1542.97 L1954.83 1542.97 L1954.83 1548.85 L1949.95 1548.85 L1949.95 1542.97 Z\" fill=\"#000000\" fill-rule=\"evenodd\" fill-opacity=\"1\" /><path clip-path=\"url(#clip410)\" d=\"M1965.16 1548.13 L1965.16 1543.87 Q1966.92 1544.7 1968.72 1545.14 Q1970.53 1545.58 1972.26 1545.58 Q1976.89 1545.58 1979.32 1542.48 Q1981.78 1539.36 1982.12 1533.01 Q1980.78 1535.01 1978.72 1536.07 Q1976.66 1537.13 1974.16 1537.13 Q1968.98 1537.13 1965.94 1534.01 Q1962.94 1530.86 1962.94 1525.42 Q1962.94 1520.1 1966.08 1516.88 Q1969.23 1513.66 1974.46 1513.66 Q1980.46 1513.66 1983.61 1518.27 Q1986.78 1522.85 1986.78 1531.6 Q1986.78 1539.77 1982.89 1544.66 Q1979.02 1549.52 1972.47 1549.52 Q1970.71 1549.52 1968.91 1549.17 Q1967.1 1548.82 1965.16 1548.13 M1974.46 1533.48 Q1977.61 1533.48 1979.44 1531.32 Q1981.29 1529.17 1981.29 1525.42 Q1981.29 1521.7 1979.44 1519.54 Q1977.61 1517.37 1974.46 1517.37 Q1971.31 1517.37 1969.46 1519.54 Q1967.63 1521.7 1967.63 1525.42 Q1967.63 1529.17 1969.46 1531.32 Q1971.31 1533.48 1974.46 1533.48 Z\" fill=\"#000000\" fill-rule=\"evenodd\" fill-opacity=\"1\" /><path clip-path=\"url(#clip410)\" d=\"M2258.82 1544.91 L2266.46 1544.91 L2266.46 1518.55 L2258.15 1520.21 L2258.15 1515.95 L2266.42 1514.29 L2271.09 1514.29 L2271.09 1544.91 L2278.73 1544.91 L2278.73 1548.85 L2258.82 1548.85 L2258.82 1544.91 Z\" fill=\"#000000\" fill-rule=\"evenodd\" fill-opacity=\"1\" /><path clip-path=\"url(#clip410)\" d=\"M2288.18 1542.97 L2293.06 1542.97 L2293.06 1548.85 L2288.18 1548.85 L2288.18 1542.97 Z\" fill=\"#000000\" fill-rule=\"evenodd\" fill-opacity=\"1\" /><path clip-path=\"url(#clip410)\" d=\"M2313.24 1517.37 Q2309.63 1517.37 2307.81 1520.93 Q2306 1524.47 2306 1531.6 Q2306 1538.71 2307.81 1542.27 Q2309.63 1545.82 2313.24 1545.82 Q2316.88 1545.82 2318.68 1542.27 Q2320.51 1538.71 2320.51 1531.6 Q2320.51 1524.47 2318.68 1520.93 Q2316.88 1517.37 2313.24 1517.37 M2313.24 1513.66 Q2319.06 1513.66 2322.11 1518.27 Q2325.19 1522.85 2325.19 1531.6 Q2325.19 1540.33 2322.11 1544.94 Q2319.06 1549.52 2313.24 1549.52 Q2307.43 1549.52 2304.36 1544.94 Q2301.3 1540.33 2301.3 1531.6 Q2301.3 1522.85 2304.36 1518.27 Q2307.43 1513.66 2313.24 1513.66 Z\" fill=\"#000000\" fill-rule=\"evenodd\" fill-opacity=\"1\" /><polyline clip-path=\"url(#clip412)\" style=\"stroke:#000000; stroke-linecap:butt; stroke-linejoin:round; stroke-width:2; stroke-opacity:0.1; fill:none\" points=\"\n",
       "  194.422,1389.1 2352.76,1389.1 \n",
       "  \"/>\n",
       "<polyline clip-path=\"url(#clip412)\" style=\"stroke:#000000; stroke-linecap:butt; stroke-linejoin:round; stroke-width:2; stroke-opacity:0.1; fill:none\" points=\"\n",
       "  194.422,1114.24 2352.76,1114.24 \n",
       "  \"/>\n",
       "<polyline clip-path=\"url(#clip412)\" style=\"stroke:#000000; stroke-linecap:butt; stroke-linejoin:round; stroke-width:2; stroke-opacity:0.1; fill:none\" points=\"\n",
       "  194.422,839.38 2352.76,839.38 \n",
       "  \"/>\n",
       "<polyline clip-path=\"url(#clip412)\" style=\"stroke:#000000; stroke-linecap:butt; stroke-linejoin:round; stroke-width:2; stroke-opacity:0.1; fill:none\" points=\"\n",
       "  194.422,564.52 2352.76,564.52 \n",
       "  \"/>\n",
       "<polyline clip-path=\"url(#clip412)\" style=\"stroke:#000000; stroke-linecap:butt; stroke-linejoin:round; stroke-width:2; stroke-opacity:0.1; fill:none\" points=\"\n",
       "  194.422,289.661 2352.76,289.661 \n",
       "  \"/>\n",
       "<polyline clip-path=\"url(#clip410)\" style=\"stroke:#000000; stroke-linecap:butt; stroke-linejoin:round; stroke-width:4; stroke-opacity:1; fill:none\" points=\"\n",
       "  194.422,1486.45 194.422,47.2441 \n",
       "  \"/>\n",
       "<polyline clip-path=\"url(#clip410)\" style=\"stroke:#000000; stroke-linecap:butt; stroke-linejoin:round; stroke-width:4; stroke-opacity:1; fill:none\" points=\"\n",
       "  194.422,1389.1 213.32,1389.1 \n",
       "  \"/>\n",
       "<polyline clip-path=\"url(#clip410)\" style=\"stroke:#000000; stroke-linecap:butt; stroke-linejoin:round; stroke-width:4; stroke-opacity:1; fill:none\" points=\"\n",
       "  194.422,1114.24 213.32,1114.24 \n",
       "  \"/>\n",
       "<polyline clip-path=\"url(#clip410)\" style=\"stroke:#000000; stroke-linecap:butt; stroke-linejoin:round; stroke-width:4; stroke-opacity:1; fill:none\" points=\"\n",
       "  194.422,839.38 213.32,839.38 \n",
       "  \"/>\n",
       "<polyline clip-path=\"url(#clip410)\" style=\"stroke:#000000; stroke-linecap:butt; stroke-linejoin:round; stroke-width:4; stroke-opacity:1; fill:none\" points=\"\n",
       "  194.422,564.52 213.32,564.52 \n",
       "  \"/>\n",
       "<polyline clip-path=\"url(#clip410)\" style=\"stroke:#000000; stroke-linecap:butt; stroke-linejoin:round; stroke-width:4; stroke-opacity:1; fill:none\" points=\"\n",
       "  194.422,289.661 213.32,289.661 \n",
       "  \"/>\n",
       "<path clip-path=\"url(#clip410)\" d=\"M50.9921 1389.55 L80.6679 1389.55 L80.6679 1393.49 L50.9921 1393.49 L50.9921 1389.55 Z\" fill=\"#000000\" fill-rule=\"evenodd\" fill-opacity=\"1\" /><path clip-path=\"url(#clip410)\" d=\"M100.76 1374.9 Q97.1493 1374.9 95.3206 1378.46 Q93.515 1382 93.515 1389.13 Q93.515 1396.24 95.3206 1399.8 Q97.1493 1403.35 100.76 1403.35 Q104.395 1403.35 106.2 1399.8 Q108.029 1396.24 108.029 1389.13 Q108.029 1382 106.2 1378.46 Q104.395 1374.9 100.76 1374.9 M100.76 1371.19 Q106.571 1371.19 109.626 1375.8 Q112.705 1380.38 112.705 1389.13 Q112.705 1397.86 109.626 1402.47 Q106.571 1407.05 100.76 1407.05 Q94.9502 1407.05 91.8715 1402.47 Q88.816 1397.86 88.816 1389.13 Q88.816 1380.38 91.8715 1375.8 Q94.9502 1371.19 100.76 1371.19 Z\" fill=\"#000000\" fill-rule=\"evenodd\" fill-opacity=\"1\" /><path clip-path=\"url(#clip410)\" d=\"M120.922 1400.5 L125.807 1400.5 L125.807 1406.38 L120.922 1406.38 L120.922 1400.5 Z\" fill=\"#000000\" fill-rule=\"evenodd\" fill-opacity=\"1\" /><path clip-path=\"url(#clip410)\" d=\"M148.839 1375.89 L137.033 1394.34 L148.839 1394.34 L148.839 1375.89 M147.612 1371.82 L153.492 1371.82 L153.492 1394.34 L158.422 1394.34 L158.422 1398.23 L153.492 1398.23 L153.492 1406.38 L148.839 1406.38 L148.839 1398.23 L133.237 1398.23 L133.237 1393.72 L147.612 1371.82 Z\" fill=\"#000000\" fill-rule=\"evenodd\" fill-opacity=\"1\" /><path clip-path=\"url(#clip410)\" d=\"M53.0754 1114.69 L82.7512 1114.69 L82.7512 1118.63 L53.0754 1118.63 L53.0754 1114.69 Z\" fill=\"#000000\" fill-rule=\"evenodd\" fill-opacity=\"1\" /><path clip-path=\"url(#clip410)\" d=\"M102.844 1100.04 Q99.2326 1100.04 97.4039 1103.6 Q95.5984 1107.14 95.5984 1114.27 Q95.5984 1121.38 97.4039 1124.95 Q99.2326 1128.49 102.844 1128.49 Q106.478 1128.49 108.283 1124.95 Q110.112 1121.38 110.112 1114.27 Q110.112 1107.14 108.283 1103.6 Q106.478 1100.04 102.844 1100.04 M102.844 1096.33 Q108.654 1096.33 111.709 1100.94 Q114.788 1105.52 114.788 1114.27 Q114.788 1123 111.709 1127.61 Q108.654 1132.19 102.844 1132.19 Q97.0335 1132.19 93.9549 1127.61 Q90.8993 1123 90.8993 1114.27 Q90.8993 1105.52 93.9549 1100.94 Q97.0335 1096.33 102.844 1096.33 Z\" fill=\"#000000\" fill-rule=\"evenodd\" fill-opacity=\"1\" /><path clip-path=\"url(#clip410)\" d=\"M123.006 1125.64 L127.89 1125.64 L127.89 1131.52 L123.006 1131.52 L123.006 1125.64 Z\" fill=\"#000000\" fill-rule=\"evenodd\" fill-opacity=\"1\" /><path clip-path=\"url(#clip410)\" d=\"M142.103 1127.58 L158.422 1127.58 L158.422 1131.52 L136.478 1131.52 L136.478 1127.58 Q139.14 1124.83 143.723 1120.2 Q148.33 1115.55 149.51 1114.2 Q151.755 1111.68 152.635 1109.95 Q153.538 1108.19 153.538 1106.5 Q153.538 1103.74 151.593 1102.01 Q149.672 1100.27 146.57 1100.27 Q144.371 1100.27 141.918 1101.03 Q139.487 1101.8 136.709 1103.35 L136.709 1098.63 Q139.533 1097.49 141.987 1096.91 Q144.441 1096.33 146.478 1096.33 Q151.848 1096.33 155.042 1099.02 Q158.237 1101.7 158.237 1106.2 Q158.237 1108.33 157.427 1110.25 Q156.64 1112.14 154.533 1114.74 Q153.955 1115.41 150.853 1118.63 Q147.751 1121.82 142.103 1127.58 Z\" fill=\"#000000\" fill-rule=\"evenodd\" fill-opacity=\"1\" /><path clip-path=\"url(#clip410)\" d=\"M101.246 825.178 Q97.6354 825.178 95.8067 828.743 Q94.0012 832.285 94.0012 839.414 Q94.0012 846.521 95.8067 850.086 Q97.6354 853.627 101.246 853.627 Q104.881 853.627 106.686 850.086 Q108.515 846.521 108.515 839.414 Q108.515 832.285 106.686 828.743 Q104.881 825.178 101.246 825.178 M101.246 821.475 Q107.057 821.475 110.112 826.081 Q113.191 830.665 113.191 839.414 Q113.191 848.141 110.112 852.748 Q107.057 857.331 101.246 857.331 Q95.4363 857.331 92.3576 852.748 Q89.3021 848.141 89.3021 839.414 Q89.3021 830.665 92.3576 826.081 Q95.4363 821.475 101.246 821.475 Z\" fill=\"#000000\" fill-rule=\"evenodd\" fill-opacity=\"1\" /><path clip-path=\"url(#clip410)\" d=\"M121.408 850.78 L126.293 850.78 L126.293 856.66 L121.408 856.66 L121.408 850.78 Z\" fill=\"#000000\" fill-rule=\"evenodd\" fill-opacity=\"1\" /><path clip-path=\"url(#clip410)\" d=\"M146.478 825.178 Q142.867 825.178 141.038 828.743 Q139.232 832.285 139.232 839.414 Q139.232 846.521 141.038 850.086 Q142.867 853.627 146.478 853.627 Q150.112 853.627 151.918 850.086 Q153.746 846.521 153.746 839.414 Q153.746 832.285 151.918 828.743 Q150.112 825.178 146.478 825.178 M146.478 821.475 Q152.288 821.475 155.343 826.081 Q158.422 830.665 158.422 839.414 Q158.422 848.141 155.343 852.748 Q152.288 857.331 146.478 857.331 Q140.668 857.331 137.589 852.748 Q134.533 848.141 134.533 839.414 Q134.533 830.665 137.589 826.081 Q140.668 821.475 146.478 821.475 Z\" fill=\"#000000\" fill-rule=\"evenodd\" fill-opacity=\"1\" /><path clip-path=\"url(#clip410)\" d=\"M102.844 550.319 Q99.2326 550.319 97.4039 553.884 Q95.5984 557.425 95.5984 564.555 Q95.5984 571.661 97.4039 575.226 Q99.2326 578.768 102.844 578.768 Q106.478 578.768 108.283 575.226 Q110.112 571.661 110.112 564.555 Q110.112 557.425 108.283 553.884 Q106.478 550.319 102.844 550.319 M102.844 546.615 Q108.654 546.615 111.709 551.222 Q114.788 555.805 114.788 564.555 Q114.788 573.282 111.709 577.888 Q108.654 582.471 102.844 582.471 Q97.0335 582.471 93.9549 577.888 Q90.8993 573.282 90.8993 564.555 Q90.8993 555.805 93.9549 551.222 Q97.0335 546.615 102.844 546.615 Z\" fill=\"#000000\" fill-rule=\"evenodd\" fill-opacity=\"1\" /><path clip-path=\"url(#clip410)\" d=\"M123.006 575.921 L127.89 575.921 L127.89 581.8 L123.006 581.8 L123.006 575.921 Z\" fill=\"#000000\" fill-rule=\"evenodd\" fill-opacity=\"1\" /><path clip-path=\"url(#clip410)\" d=\"M142.103 577.865 L158.422 577.865 L158.422 581.8 L136.478 581.8 L136.478 577.865 Q139.14 575.11 143.723 570.481 Q148.33 565.828 149.51 564.485 Q151.755 561.962 152.635 560.226 Q153.538 558.467 153.538 556.777 Q153.538 554.023 151.593 552.286 Q149.672 550.55 146.57 550.55 Q144.371 550.55 141.918 551.314 Q139.487 552.078 136.709 553.629 L136.709 548.907 Q139.533 547.773 141.987 547.194 Q144.441 546.615 146.478 546.615 Q151.848 546.615 155.042 549.3 Q158.237 551.985 158.237 556.476 Q158.237 558.606 157.427 560.527 Q156.64 562.425 154.533 565.018 Q153.955 565.689 150.853 568.907 Q147.751 572.101 142.103 577.865 Z\" fill=\"#000000\" fill-rule=\"evenodd\" fill-opacity=\"1\" /><path clip-path=\"url(#clip410)\" d=\"M100.76 275.459 Q97.1493 275.459 95.3206 279.024 Q93.515 282.566 93.515 289.695 Q93.515 296.802 95.3206 300.366 Q97.1493 303.908 100.76 303.908 Q104.395 303.908 106.2 300.366 Q108.029 296.802 108.029 289.695 Q108.029 282.566 106.2 279.024 Q104.395 275.459 100.76 275.459 M100.76 271.756 Q106.571 271.756 109.626 276.362 Q112.705 280.945 112.705 289.695 Q112.705 298.422 109.626 303.029 Q106.571 307.612 100.76 307.612 Q94.9502 307.612 91.8715 303.029 Q88.816 298.422 88.816 289.695 Q88.816 280.945 91.8715 276.362 Q94.9502 271.756 100.76 271.756 Z\" fill=\"#000000\" fill-rule=\"evenodd\" fill-opacity=\"1\" /><path clip-path=\"url(#clip410)\" d=\"M120.922 301.061 L125.807 301.061 L125.807 306.941 L120.922 306.941 L120.922 301.061 Z\" fill=\"#000000\" fill-rule=\"evenodd\" fill-opacity=\"1\" /><path clip-path=\"url(#clip410)\" d=\"M148.839 276.455 L137.033 294.904 L148.839 294.904 L148.839 276.455 M147.612 272.381 L153.492 272.381 L153.492 294.904 L158.422 294.904 L158.422 298.792 L153.492 298.792 L153.492 306.941 L148.839 306.941 L148.839 298.792 L133.237 298.792 L133.237 294.279 L147.612 272.381 Z\" fill=\"#000000\" fill-rule=\"evenodd\" fill-opacity=\"1\" /><polyline clip-path=\"url(#clip412)\" style=\"stroke:#009af9; stroke-linecap:butt; stroke-linejoin:round; stroke-width:4; stroke-opacity:1; fill:none\" points=\"\n",
       "  255.507,1445.72 289.443,1433.31 323.379,1420.46 357.315,1407.17 391.251,1393.43 425.187,1379.27 459.123,1364.68 493.059,1349.66 526.996,1334.22 560.932,1318.37 \n",
       "  594.868,1302.11 628.804,1285.44 662.74,1268.37 696.676,1250.9 730.612,1233.05 764.548,1214.8 798.484,1196.17 832.42,1177.15 866.356,1157.76 900.292,1138 \n",
       "  934.228,1117.88 968.164,1097.38 1002.1,1076.53 1036.04,1055.33 1069.97,1033.77 1103.91,1011.86 1137.84,989.613 1171.78,967.024 1205.72,944.1 1239.65,920.844 \n",
       "  1273.59,897.26 1307.53,873.353 1341.46,849.126 1375.4,824.583 1409.33,799.728 1443.27,774.565 1477.21,749.097 1511.14,723.329 1545.08,697.265 1579.01,670.907 \n",
       "  1612.95,644.261 1646.89,617.329 1680.82,590.116 1714.76,562.625 1748.69,534.86 1782.63,506.824 1816.57,478.522 1850.5,449.957 1884.44,421.133 1918.37,392.053 \n",
       "  1952.31,362.721 1986.25,333.141 2020.18,303.315 2054.12,273.248 2088.05,242.944 2121.99,212.405 2155.93,181.635 2189.86,150.639 2223.8,119.418 2257.73,87.9763 \n",
       "  \n",
       "  \"/>\n",
       "<path clip-path=\"url(#clip410)\" d=\"\n",
       "M1988.57 198.898 L2280.81 198.898 L2280.81 95.2176 L1988.57 95.2176  Z\n",
       "  \" fill=\"#ffffff\" fill-rule=\"evenodd\" fill-opacity=\"1\"/>\n",
       "<polyline clip-path=\"url(#clip410)\" style=\"stroke:#000000; stroke-linecap:butt; stroke-linejoin:round; stroke-width:4; stroke-opacity:1; fill:none\" points=\"\n",
       "  1988.57,198.898 2280.81,198.898 2280.81,95.2176 1988.57,95.2176 1988.57,198.898 \n",
       "  \"/>\n",
       "<polyline clip-path=\"url(#clip410)\" style=\"stroke:#009af9; stroke-linecap:butt; stroke-linejoin:round; stroke-width:4; stroke-opacity:1; fill:none\" points=\"\n",
       "  2012.55,147.058 2156.44,147.058 \n",
       "  \"/>\n",
       "<path clip-path=\"url(#clip410)\" d=\"M2194.26 166.745 Q2192.46 171.375 2190.74 172.787 Q2189.03 174.199 2186.16 174.199 L2182.76 174.199 L2182.76 170.634 L2185.26 170.634 Q2187.02 170.634 2187.99 169.8 Q2188.96 168.967 2190.14 165.865 L2190.9 163.921 L2180.42 138.412 L2184.93 138.412 L2193.03 158.689 L2201.14 138.412 L2205.65 138.412 L2194.26 166.745 Z\" fill=\"#000000\" fill-rule=\"evenodd\" fill-opacity=\"1\" /><path clip-path=\"url(#clip410)\" d=\"M2212.94 160.402 L2220.58 160.402 L2220.58 134.037 L2212.27 135.703 L2212.27 131.444 L2220.53 129.778 L2225.21 129.778 L2225.21 160.402 L2232.85 160.402 L2232.85 164.338 L2212.94 164.338 L2212.94 160.402 Z\" fill=\"#000000\" fill-rule=\"evenodd\" fill-opacity=\"1\" /></svg>\n"
      ]
     },
     "execution_count": 6,
     "metadata": {},
     "output_type": "execute_result"
    }
   ],
   "source": [
    "plot([i[2] for i in v_3], v_lhs3 .- v_rhs3)"
   ]
  },
  {
   "cell_type": "code",
   "execution_count": 6,
   "metadata": {},
   "outputs": [
    {
     "data": {
      "text/plain": [
       "zeros (generic function with 1 method)"
      ]
     },
     "execution_count": 6,
     "metadata": {},
     "output_type": "execute_result"
    }
   ],
   "source": [
    "function zeros(domain,value)\n",
    "    if length(domain) != length(value)\n",
    "        error(\"domain length must match value length\")\n",
    "    end\n",
    "    zeros = []\n",
    "    for i in 1:length(domain)-1\n",
    "        if (value[i] < 0 && value[i+1] > 0) |((value[i] > 0 && value[i+1] < 0)) #methods of bisection, might be able to improve accuracy by further nesting iterations \n",
    "            zero = push!(zeros,(domain[i] + domain[i+1])/2)\n",
    "        #implement checks if values is just zero\n",
    "        elseif (value[i] == 0) | (value[i+1] == 0)\n",
    "            if value[i] == 0\n",
    "                zero = push!(zeros, domain[i])\n",
    "            else\n",
    "                zero = push!(zeros, domain[i+1])\n",
    "            end\n",
    "        else\n",
    "            continue\n",
    "        end\n",
    "    end\n",
    "    return(zeros)\n",
    "end"
   ]
  },
  {
   "cell_type": "code",
   "execution_count": 8,
   "metadata": {},
   "outputs": [
    {
     "data": {
      "text/plain": [
       "1-element Vector{Any}:\n",
       " 0.725"
      ]
     },
     "execution_count": 8,
     "metadata": {},
     "output_type": "execute_result"
    }
   ],
   "source": [
    "zeros([i[2] for i in v_3], v_lhs3 .- v_rhs3)"
   ]
  },
  {
   "cell_type": "code",
   "execution_count": 50,
   "metadata": {},
   "outputs": [
    {
     "data": {
      "text/plain": [
       "optimum_auc (generic function with 1 method)"
      ]
     },
     "execution_count": 50,
     "metadata": {},
     "output_type": "execute_result"
    }
   ],
   "source": [
    "using LeastSquaresOptim\n",
    "function optimum_auc(alpha, F_val, n)\n",
    "\n",
    "    F(x) = cdf(F_val, x)\n",
    "    f(x) = pdf(F_val, x)\n",
    "    \n",
    "    #2. solve for rstar, xi2\n",
    "    unconstrained = unconstrained_auc(alpha, F_val,n)\n",
    "    unconstrained_lhs = [i[4] for i in unconstrained]\n",
    "    unconstrained_rhs = [i[5] for i in unconstrained]\n",
    "    r_star = unconstrained[1][1]\n",
    "    xi2 = zeros([i[2] for i in unconstrained], unconstrained_lhs .- unconstrained_rhs)[1] #since lhs - rhs is single crossing, we would need \n",
    "    \n",
    "    OptimAucs0 = [[i[2],max(i[1],i[2]),i[3]] for i in unconstrained]\n",
    "    \n",
    "    \n",
    "    #3. solve for xi1\n",
    "    function max_return(f,set)\n",
    "        optimum_auc = []\n",
    "        maximum_rev = maximum([f(set[i]) for i = 1:maximum(size(set))])\n",
    "        for i in 1:maximum(size(set))\n",
    "            if f(set[i]) == maximum_rev\n",
    "                push!(optimum_auc, set[i])\n",
    "            end\n",
    "        end\n",
    "        return(optimum_auc, maximum_rev)\n",
    "    end\n",
    "    makes_sense(b) = (0 < b[1] <= b[2] <= b[3] <= b[4]) # && (b[1] > r_star) && (b[2] > r_star) && (b[3] > r_star) && (b[4] )\n",
    "    grid_initial_raw = [[i;j;k;l] for i = 0:0.1:1 for j = 0:0.1:1 for k = 0:0.1:1 for l = 0:0.1:1]\n",
    "    grid_initial = filter((x) -> makes_sense(x),grid_initial_raw)\n",
    "\n",
    "    OptimAucs = []\n",
    "    #for xi,best auc pairs. Aucs are calculated like in lemma 4, and we find xi2 when xi = t*. \n",
    "    for xi in filter(x -> (x > r_star) && (x < xi2), [i for i = 0:0.01:0.99])\n",
    "        #optim auctions for given xi\n",
    "        OptimAuc = []\n",
    "        #the needed equations, we put it inside the loop as they changes with xi\n",
    "        phi(x) = x - (1 - F(x))/f(x)\n",
    "        eq1_new(alpha,xi,t,v_min, v_max) = alpha * (t*(1-F(t))-(1-F(xi))*phi(v_max)) - (1-alpha)*((v_min-t)*((v_max - (1-F(v_max))/f(v_max))-(v_min - (1-F(v_min))/f(v_min)))* f(v_min) + (F(v_max)-F(v_min))*((v_max - (1-F(v_max))/f(v_max))-((1-F(v_min))*v_min-(1-F(v_max))*v_max)))\n",
    "        phidiff(v_max,v_min) = ((v_max - (1-F(v_max))/f(v_max))-(v_min - (1-F(v_min))/f(v_min)))\n",
    "        Fp(s)= F(s)^(n-1)\n",
    "        eq2(alpha, t, v_min, v_max) = -alpha*(-f(t)*t+(1-F(t))) - (1-alpha)*phidiff(v_max,v_min)*f(v_min)\n",
    "        Q_eps(alpha, w, xi, n) = ((1 - alpha)*F(w) + alpha * F(xi))^(n-1)\n",
    "        Qeps2(xi,v_min,v_max,alpha)=(((1-alpha)*F(v_max)+alpha)^n -((1-alpha)*F(v_min)+ alpha*F(xi))^n)/(n*(((1-alpha)*(F(v_max)-F(v_min))) + alpha * (1-F(xi))))\n",
    "        eq3(r,v_min,v_max)= -(r - (1-F(r))/f(r))*f(r) - phidiff(v_max,v_min)*f(v_min)\n",
    "        Q_eps_a(w) = Q_eps(alpha, w, xi, n)\n",
    "        eq4_new(alpha,xi,r,t,v_min,v_max) = quadgk(Q_eps_a, r_star, v_min)[1] - Qeps2(xi,v_min,v_max,alpha) * max(v_min - t, 0)\n",
    "        adheqvec(alpha,xi, r, t, v_min, v_max) = [eq1_new(alpha, xi, t, v_min, v_max)  eq2(alpha, t, v_min, v_max) eq3(r,v_min,v_max) eq4_new(alpha, xi, r, t, v_min, v_max)]\n",
    "        adeqvec(x) = adheqvec(alpha,xi,x[1],x[2],x[3],x[4])\n",
    "        \n",
    "        for i in filter(x -> (x[1] != 1.0 && x[2] != 1.0 && x[3] != 1.0 && x[4] != 1.0), grid_initial)\n",
    "            result = LeastSquaresOptim.optimize(adeqvec,i,Dogleg()).minimizer\n",
    "            if makes_sense(result) == false\n",
    "                continue\n",
    "            else\n",
    "                push!(OptimAuc, result)\n",
    "            end\n",
    "        end\n",
    "        rev_int(x) = phi(x) * f(x)\n",
    "        Revenue(alpha,xi,r,t,v_min,v_max) = n*(1-alpha)*Qeps2(xi,v_min,v_max,alpha)*quadgk(rev_int,r,1)[1] + n*alpha*Qeps2(xi,v_min,v_max,alpha)* quadgk(rev_int,r,1)[1]*t*(1-F(t))\n",
    "        Revenue2(auc) = Revenue(alpha,xi,auc[1], auc[2], auc[3], auc[4])\n",
    "        bestauc = max_return(Revenue2,OptimAuc)[1]\n",
    "        push!(OptimAucs,[xi,bestauc])\n",
    "        #this works as well, just need to discard similar ones   \n",
    "    end\n",
    "\n",
    "\n",
    "  \n",
    "    xi1 = zeros([Aucs[1] for Aucs in OptimAucs], [Aucs[2][1][2] - Aucs[1] for Aucs in OptimAucs])[1]\n",
    "    \n",
    "    #compute soln with t = xi inbetween xi1 and xi2\n",
    "    OptimAucs2 = []\n",
    "    for xi in filter(x -> (x > xi1) && (x < xi2), [i for i = 0:0.01:1])\n",
    "        OptimAuc = []\n",
    "        for i in filter(x -> (x[1] != 1.0 && x[2] != 1.0 && x[3] != 1.0), [[i[1],i[2],i[3]] for i in grid_initial])\n",
    "            phi(x) = x - (1 - F(x))/f(x)\n",
    "            eq1_new(alpha,xi,t,v_min, v_max) = alpha * (t*(1-F(t))-(1-F(xi))*phi(v_max)) - (1-alpha)*((v_min-t)*((v_max - (1-F(v_max))/f(v_max))-(v_min - (1-F(v_min))/f(v_min)))* f(v_min) + (F(v_max)-F(v_min))*((v_max - (1-F(v_max))/f(v_max))-((1-F(v_min))*v_min-(1-F(v_max))*v_max)))\n",
    "            phidiff(v_max,v_min) = ((v_max - (1-F(v_max))/f(v_max))-(v_min - (1-F(v_min))/f(v_min)))\n",
    "            Fp(s)= F(s)^(n-1)\n",
    "            eq2(alpha, t, v_min, v_max) = -alpha*(-f(t)*t+(1-F(t))) - (1-alpha)*phidiff(v_max,v_min)*f(v_min)\n",
    "            Q_eps(alpha, w, xi, n) = ((1 - alpha)*F(w) + alpha * F(xi))^(n-1)\n",
    "            Qeps2(xi,v_min,v_max,alpha)=(((1-alpha)*F(v_max)+alpha)^n -((1-alpha)*F(v_min)+ alpha*F(xi))^n)/(n*(((1-alpha)*(F(v_max)-F(v_min))) + alpha * (1-F(xi))))\n",
    "            eq3(r,v_min,v_max)= -(r - (1-F(r))/f(r))*f(r) - phidiff(v_max,v_min)*f(v_min)\n",
    "            Q_eps_a(w) = Q_eps(alpha, w, xi, n)\n",
    "            eq4_new(alpha,xi,r,t,v_min,v_max) = quadgk(Q_eps_a, r_star, v_min)[1] - Qeps2(xi,v_min,v_max,alpha) * max(v_min - t, 0)\n",
    "            adheqvec(alpha,xi, r, t, v_min, v_max) = [eq1_new(alpha, xi, t, v_min, v_max)  eq2(alpha, t, v_min, v_max) eq3(r,v_min,v_max) eq4_new(alpha, xi, r, t, v_min, v_max)]\n",
    "            adeqvec2(x) = adheqvec(alpha,xi,x[1],xi,x[2],x[3])\n",
    "            result = LeastSquaresOptim.optimize(adeqvec2,i,Dogleg()).minimizer\n",
    "            if (result[1] <= xi <= result[2] <= result[3]) == false\n",
    "                continue\n",
    "            else\n",
    "                push!(OptimAuc, result)\n",
    "            end\n",
    "        end\n",
    "        rev_int(x) = phi(x) * f(x)\n",
    "        Revenue(alpha,xi,r,t,v_min,v_max) = n*(1-alpha)*Qeps2(xi,v_min,v_max,alpha)*quadgk(rev_int,r,1)[1] + n*alpha*Qeps2(xi,v_min,v_max,alpha)* quadgk(rev_int,r,1)[1]*t*(1-F(t))\n",
    "        Revenue2(auc) = Revenue(alpha,xi,auc[1], xi, auc[2], auc[3])\n",
    "        bestauc = max_return(Revenue2,OptimAuc)[1]\n",
    "        push!(OptimAucs2,[xi,bestauc])#xi, auction pairs   \n",
    "    end\n",
    "    \n",
    "    XiAuc = append!(OptimAucs,OptimAucs0,OptimAucs2)\n",
    "    \n",
    "    #report r_star, xi1, xi2, constrained sol, sols inbetween, unconstrained sol\n",
    "    return(r_star,xi1,xi2,XiAuc)\n",
    "end\n",
    "        "
   ]
  },
  {
   "cell_type": "code",
   "execution_count": 52,
   "metadata": {},
   "outputs": [
    {
     "name": "stdout",
     "output_type": "stream",
     "text": [
      "Starting optimization with optimizer DiffEvoOpt{FitPopulation{Float64}, RadiusLimitedSelector, BlackBoxOptim.AdaptiveDiffEvoRandBin{3}, RandomBound{ContinuousRectSearchSpace}}\n",
      "0.00 secs, 0 evals, 0 steps\n",
      "\n",
      "Optimization stopped after 10001 steps and 0.01 seconds\n",
      "Termination reason: Max number of steps (10000) reached\n",
      "Steps per second = 1669010.24\n",
      "Function evals per second = 1687200.63\n",
      "Improvements/step = 0.53150\n",
      "Total function evaluations = 10110\n",
      "\n",
      "\n",
      "Best candidate found: [0.386868]\n",
      "\n",
      "Fitness: -0.299774461\n",
      "\n"
     ]
    },
    {
     "data": {
      "text/plain": [
       "(0.3868677563601536, 0.555, 0.635, Any[Any[0.39, Any[[0.4, 0.6000000000000001, 0.9, 0.9]]], Any[0.4, Any[[0.4, 0.6, 0.8999999999999999, 0.9]]], Any[0.41, Any[[0.4, 0.6000000000000001, 0.8, 0.9]]], Any[0.42, Any[[0.4, 0.6000000000000001, 0.9, 0.9]]], Any[0.43, Any[[0.4, 0.6, 0.9, 0.9]]], Any[0.44, Any[[0.4, 0.6, 0.8999999999999999, 0.9]]], Any[0.45, Any[[0.4, 0.6, 0.8999999999999999, 0.9]]], Any[0.46, Any[[0.4, 0.6, 0.8999999999999999, 0.9]]], Any[0.47, Any[[0.4, 0.6000000000000001, 0.8, 0.9]]], Any[0.48, Any[[0.4, 0.6, 0.8999999999999999, 0.9]]]  …  [0.99, 0.99, 0.9948595710415342], [1.0, 1.0, 0.999], Any[0.56, Any[[0.4, 0.8, 0.8999999999999999], [0.4, 0.8, 0.8999999999999999]]], Any[0.57, Any[[0.4, 0.8, 0.9000000000000001], [0.4, 0.8, 0.9000000000000001]]], Any[0.58, Any[[0.4, 0.8, 0.9000000000000001], [0.4, 0.8, 0.9000000000000001]]], Any[0.59, Any[[0.4, 0.8, 0.9], [0.4, 0.8, 0.9]]], Any[0.6, Any[[0.4, 0.8, 0.8999999999999999], [0.4, 0.8, 0.8999999999999999]]], Any[0.61, Any[[0.3848352721596136, 0.7726387912317696, 0.960909215294981], [0.3848352721596136, 0.7726387912317696, 0.960909215294981]]], Any[0.62, Any[[0.4, 0.8, 0.9], [0.4, 0.8, 0.9]]], Any[0.63, Any[[0.4, 0.9, 0.9000000000000001], [0.4, 0.9, 0.9000000000000001]]]])"
      ]
     },
     "execution_count": 52,
     "metadata": {},
     "output_type": "execute_result"
    }
   ],
   "source": [
    "optimum_auc(0.8, Truncated(Normal(0.5,0.15),0,1),3)"
   ]
  }
 ],
 "metadata": {
  "kernelspec": {
   "display_name": "Julia 1.7.1",
   "language": "julia",
   "name": "julia-1.7"
  },
  "language_info": {
   "file_extension": ".jl",
   "mimetype": "application/julia",
   "name": "julia",
   "version": "1.7.1"
  }
 },
 "nbformat": 4,
 "nbformat_minor": 4
}
